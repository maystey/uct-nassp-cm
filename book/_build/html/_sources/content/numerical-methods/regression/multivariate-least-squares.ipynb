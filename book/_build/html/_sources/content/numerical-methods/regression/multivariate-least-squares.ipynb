{
 "cells": [
  {
   "cell_type": "markdown",
   "metadata": {},
   "source": [
    "# Multivariate Linear Least Squares Minimization"
   ]
  },
  {
   "cell_type": "markdown",
   "metadata": {},
   "source": [
    "In **{doc}`Numerical Methods/Linear Regression Algorithms/Linear Least Squares Minimization<./least-squares>`**, we considered the linear functional relation between two measurable variables, $x$ and $y$:\n",
    "\n",
    "$$\n",
    "y = a_0 + a_1 x\n",
    "$$\n",
    "\n",
    "where $a_0$ and $a_1$ are unknown conditions to be determined.\n",
    "\n",
    "On this page we will look at the more generic case, where we solve the problem for an arbitrary number of variables and constants."
   ]
  },
  {
   "cell_type": "markdown",
   "metadata": {},
   "source": [
    "## Three Variables"
   ]
  },
  {
   "cell_type": "markdown",
   "metadata": {},
   "source": [
    "Let's start by solving this problem for three measurable variables: $y$, $x_1$ and $x_2$, in the linear functional relation:\n",
    "\n",
    "$$\n",
    "y = a_0 + a_1 x_1 + a_2 x_2\n",
    "$$\n",
    "\n",
    "where $a_0$, $a_1$ and $a_2$ are unknown coefficients.\n",
    "\n",
    "Consider a data set of measured $(x_{1,~i}, x_{2,~i}, y_i)$ pairs for $i = 1, 2, 3, \\dots , N$. If we attribute the dispersion of this data from the functional relation to error in the $y_i$ terms, $\\epsilon_i$, then we can relate the data points with:\n",
    "\n",
    "\\begin{align*}\n",
    "y_i + \\epsilon_i &= a_0 + a_1 x_{1,~i} + a_2 x_{2,~ i}\\\\\n",
    "\\therefore \\epsilon_i &= a_0 + a_1 x_{1,~ i} + a_2 x_{2,~ i} - y_i\\\\\n",
    "\\end{align*}\n",
    "\n",
    "The sum of errors squared is given by:\n",
    "\n",
    "\\begin{align*}\n",
    "S &= \\sum_{i = 1}^N \\epsilon_i^2 \\\\\n",
    "  &= \\sum_{i=1}^N (a_0 + a_1 x_{1,~i} + a_2 x_{2,~i} - y_i)\\\\\n",
    "\\end{align*}\n",
    "\n",
    "We want to minimize $S$ with respect to each of the constants, $a_0$, $a_1$ and $a_2$:\n",
    "\n",
    "$$\n",
    "\\frac{\\partial S}{\\partial a_0} = 2 \\sum_{i=0}^n (a_0 + a_1 x_{1, ~i} + a_2 x_{2, ~i} - y_i) = 0\n",
    "$$\n",
    "\n",
    ",\n",
    "\n",
    "$$\n",
    "\\frac{\\partial S}{\\partial a_1} = 2 \\sum_{i=0}^n (a_0 + a_1 x_{1,~i} + a_2 x_{2,~i} - y_i)x_{1,~i} = 0\n",
    "$$\n",
    "\n",
    "and\n",
    "\n",
    "$$\n",
    "\\frac{\\partial S}{\\partial a_2} = 2 \\sum_{i=0}^n (a_0 + a_1 x_{1,~i} + a_2 x_{2,~i} - y_i)x_{2,~i} = 0\n",
    "$$"
   ]
  },
  {
   "cell_type": "markdown",
   "metadata": {},
   "source": [
    "Re-arranging the above equations and using our statistical notation yields:\n",
    "\n",
    "$$\n",
    "a_0 + a_1 \\langle x_1 \\rangle + a_2 \\langle x_2 \\rangle = \\langle y \\rangle\n",
    "$$\n",
    "\n",
    ",\n",
    "\n",
    "$$\n",
    "a_0\\langle x_1\\rangle + a_1\\langle x_1^2\\rangle + a_2\\langle x_1 x_2 \\rangle = \\langle x_1 y \\rangle\\\\\n",
    "$$\n",
    "\n",
    "and\n",
    "\n",
    "$$\n",
    "a_0\\langle x_2\\rangle + a_1\\langle x_1 x_2\\rangle + a_2\\langle x_2^{~~2}\\rangle = \\langle x_2 y\\rangle\n",
    "$$\n",
    "\n",
    "This time algebraic manipulation is a lot more work, instead we shall use a matrix equation (which will serve us better in the more generic case to come). The matrix equation representation is:\n",
    "\n",
    "$$\n",
    "\\begin{pmatrix}\n",
    "  1\t\t&\\langle x_1\\rangle\t\t&\\langle{x_2}\\rangle\\\\\n",
    "  \\langle{x_1}\\rangle\t&\\langle{x_1^2}\\rangle\t\t&\\langle{x_1x_2}\\rangle\\\\\n",
    "  \\langle{x_2}\\rangle\t&\\langle{x_1x_2}\\rangle\t&\\langle{x_2^2}\\rangle\\\\\n",
    " \\end{pmatrix}\n",
    "  \\begin{pmatrix}\n",
    "  a_0\\\\\n",
    "  a_1\\\\\n",
    "  a_2\\\\\n",
    " \\end{pmatrix}\n",
    " = \n",
    " \\begin{pmatrix}\n",
    "  \\langle{y}\\rangle\\\\\n",
    "  \\langle{x_1 y}\\rangle\\\\\n",
    "  \\langle{x_2 y}\\rangle\n",
    " \\end{pmatrix}\n",
    "$$\n",
    "\n",
    "This can easily be solved numerically using:\n",
    "\n",
    "\\begin{align*}\n",
    "\\boldsymbol{X}\\boldsymbol{A} &= \\boldsymbol{Y}\\\\ \n",
    "\\therefore \\boldsymbol{A} &= \\boldsymbol{X}^{-1} \\boldsymbol{Y}\\\\\n",
    "\\end{align*}\n"
   ]
  },
  {
   "cell_type": "markdown",
   "metadata": {},
   "source": [
    "<div class=\"worked-example\">\n",
    "    <h5 class=\"worked-example-title\"><b>Worked Example</b> - Cepheid Variables</h5>"
   ]
  },
  {
   "cell_type": "markdown",
   "metadata": {},
   "source": [
    "You now have all you need to find the unknown coefficients for the full functional relation of the magnitude ($M$), period ($P$) and color ($B-V$) of the Cepheid variables:\n",
    "\n",
    "$$\n",
    "M = a_0 + a_1 \\log P + a_2 (B - V)\n",
    "$$\n",
    "\n",
    "using the same data file as before. (You should find the values $a_0 = -2.15$ mag, $a_1 = -3.12$ mag and $a_2 = 1.49$). You may wish to use NumPy matrices, which have the inverse property `I` ($\\boldsymbol{X}^{-1}$ is achieved using `X.I`, for the appropriately defined `X` matrix), and can be multiplied directly \n",
    "\n",
    "Try this yourself before reading the solution that follows.\n",
    "\n",
    "**Solution:**\n",
    "\n",
    "As in the  **{doc}`Numerical Methods/Linear Regression Algorithms/Linear Least Squares Minimization<./least-squares>`** worked example, we shall read in the data using `numpy.loadtxt()`:"
   ]
  },
  {
   "cell_type": "code",
   "execution_count": 1,
   "metadata": {},
   "outputs": [],
   "source": [
    "import numpy as np\n",
    "import matplotlib.pyplot as plt\n",
    "\n",
    "logP, M, color = np.loadtxt('./data/cepheid_data.csv', delimiter = ',', skiprows = 1, unpack = True)"
   ]
  },
  {
   "cell_type": "markdown",
   "metadata": {},
   "source": [
    "Here we have:\n",
    "\n",
    "\\begin{align*}\n",
    "y   &= M\\\\\n",
    "x_1 &= logP\\\\\n",
    "x_2 &= (B - V)\\\\\n",
    "\\end{align*}\n",
    "\n",
    "We will now proceed to construct the matrices using the data. Starting with simpler $\\boldsymbol{Y}$ matrix:"
   ]
  },
  {
   "cell_type": "code",
   "execution_count": 2,
   "metadata": {},
   "outputs": [],
   "source": [
    "#Defining Y as a column matrix\n",
    "Y = np.matrix([\n",
    "    [np.mean(M)],\n",
    "    [np.mean(logP * M)],\n",
    "    [np.mean(color * M)]\n",
    "])"
   ]
  },
  {
   "cell_type": "markdown",
   "metadata": {},
   "source": [
    "Note that $\\boldsymbol{X}$ is symmetric about the diagonal, i.e. $\\boldsymbol{X}_{k~l} = \\boldsymbol{X}_{l~k}$, we will make use of this to reduce the number of calculations we need to perform."
   ]
  },
  {
   "cell_type": "code",
   "execution_count": 4,
   "metadata": {},
   "outputs": [],
   "source": [
    "X = np.matrix(np.ones( (3, 3) )) #Using an array generating function\n",
    "\n",
    "# X[0, 0] is just 1, so we leave it\n",
    "\n",
    "#The first row\n",
    "X[0, 1] = np.mean(logP)\n",
    "X[0, 2] = np.mean(color)\n",
    "\n",
    "#The first column (which is the transpose of the first row)\n",
    "X[1, 0] = X[0, 1]\n",
    "X[2, 0] = X[0, 2]\n",
    "\n",
    "#The diagonal\n",
    "X[1, 1] = np.mean(logP * logP)\n",
    "X[2, 2] = np.mean(color * color)\n",
    "\n",
    "#The off-diagonal elements\n",
    "X[1, 2] = np.mean(logP * color)\n",
    "X[2, 1] = X[1, 2]"
   ]
  },
  {
   "cell_type": "markdown",
   "metadata": {},
   "source": [
    "Now we calculate the $\\boldsymbol{A}$ matrix:"
   ]
  },
  {
   "cell_type": "code",
   "execution_count": 8,
   "metadata": {},
   "outputs": [
    {
     "name": "stdout",
     "output_type": "stream",
     "text": [
      "a1 = -2.15\n",
      "a2 = -3.12\n",
      "a3 = 1.49\n"
     ]
    }
   ],
   "source": [
    "A = X.I * Y\n",
    "\n",
    "#Printing the constants\n",
    "\n",
    "for i in range(3):\n",
    "    print(f'a{i+1} =', '{:.3}'.format(A[i,0]) )"
   ]
  },
  {
   "cell_type": "markdown",
   "metadata": {},
   "source": [
    "</div>"
   ]
  },
  {
   "cell_type": "markdown",
   "metadata": {},
   "source": [
    "## Arbitrarily Many Variables"
   ]
  },
  {
   "cell_type": "markdown",
   "metadata": {},
   "source": [
    "Consider a linear functional relation between measurable variables $x_1$, $x_2$, $x_3$, $\\dots$, $x_m$ and $y$:\n",
    "\n",
    "$$\n",
    "\\begin{align*}\n",
    "y   &= a_0 + a_1 x_1 + a_2 x_2 + \\dots + a_m x_m\\\\\n",
    "    &= a_0 + \\sum_{j = 1}^m a_j x_j\\\\\n",
    "\\end{align*}\n",
    "$$\n",
    "\n",
    "where $a_0$, $a_1$, $\\dots$ and $a_m$ are unknown constants.\n",
    "\n",
    "Suppose we have a data set of measured $(x_{1,~i}, x_{2,~i}, \\dots, x_{mi}, y_i)$ values for $i = 1, 2, 3, \\dots, N$. As before, we assume that the dispersion in our data from the functional relation is due to error in the $y_i$ data points only. Therefore we can write the relation between our data points as:\n",
    "\n",
    "$$\n",
    "y_i + \\epsilon_i = a_0 + \\sum_{j = 1}^m a_j x_{j, ~i}\n",
    "$$"
   ]
  },
  {
   "cell_type": "markdown",
   "metadata": {},
   "source": [
    "The sum of errors squared can thus be written as:\n",
    "\n",
    "$$\n",
    "S = \\sum_{i=1}^N \\bigg(a_0 + \\bigg(\\sum_{j=1}^m a_j x_{j,~i} \\bigg) - y_i\\bigg)^2\n",
    "$$"
   ]
  },
  {
   "cell_type": "markdown",
   "metadata": {},
   "source": [
    "We want to find the values of $a_0$, $a_1$, $\\dots$ and $a_m$ which gives us the minimum value of $S$. Minimizing $S$ with respect to $a_0$ gives us:\n",
    "\n",
    "$$\n",
    "\\frac{\\partial S}{\\partial a_0} = 2 \\sum_{i=1}^N \\bigg(a_0 + \\bigg(\\sum_{j=1}^m a_j x_{j,~i} \\bigg) - y_i\\bigg) = 0\n",
    "$$\n",
    "\n",
    "Distributing the sum over $i$ amongst the terms: \n",
    "\n",
    "$$\n",
    "\\therefore N a_0 + \\bigg(\\sum_{j=1}^m a_j \\sum_{i=1}^N x_{j,~i} \\bigg) - \\sum_{i=1}^N y_i = 0\n",
    "$$\n",
    "\n",
    "Dividing by $N$:\n",
    "\n",
    "$$\n",
    "\\therefore a_0 + \\bigg(\\sum_{j=1}^m a_j \\frac{1}{N}\\sum_{i=1}^N x_{j,~i} \\bigg) - \\frac{1}{N}\\sum_{i=1}^N y_i = 0\n",
    "$$\n",
    "\n",
    "\n",
    "Using our stats notation:\n",
    "\n",
    "$$\n",
    "\\therefore a_0 + \\sum_{j=1}^m a_j \\langle{x_{j}}\\rangle = \\langle{y}\\rangle\n",
    "$$"
   ]
  },
  {
   "cell_type": "markdown",
   "metadata": {},
   "source": [
    "Now, let's minimize $S$ with respect to one of the $a_k$ for $k = 1, 2, \\dots, m$, following a similar line of algebraic manipulation as above:\n",
    "\n",
    "$$\n",
    "\\begin{align*}\n",
    "\\frac{\\partial S}{\\partial a_k} = \\sum_{i=1}^N 2 x_{k,~i} \\bigg(a_0 + \\bigg(\\sum_{j=1}^m a_j x_{j,~i} \\bigg) - y_i\\bigg) &= 0\\\\\n",
    "\\therefore a_0 \\sum_{i=1}^N x_{k, ~i} + \\sum_{j=1}^m a_j \\bigg(\\sum_{i=1}^N x_{k,~i} x_{j,~i} \\bigg) - \\sum_{i=1}^N x_{k,~i} y_i &= 0\\\\\n",
    "\\therefore a_0 \\langle{x_{k}}\\rangle + \\sum_{j=1}^m a_j \\langle{x_k x_j}\\rangle &= \\langle{x_k y}\\rangle\\\\\n",
    "\\end{align*}\n",
    "$$"
   ]
  },
  {
   "cell_type": "markdown",
   "metadata": {},
   "source": [
    "Writing the results for $a_0$ and $a_k$ ($k = 1,\\dots,m$) into a system of equations, expanding the sum over $j$:\n",
    "\n",
    "\n",
    "$$\\begin{eqnarray*}\n",
    "a_0 &+& a_1 \\langle{x_1}\\rangle &+& a_2 \\langle{x_2}\\rangle  &+& \\dots &+& a_m \\langle{x_m}\\rangle &=& \\langle{y}\\rangle\\\\\n",
    "a_0 \\langle{x_{1}}\\rangle &+& a_1 \\langle{x_1~^2}\\rangle &+& a_2 \\langle{x_1 x_2}\\rangle &+& \\cdots &+& a_m \\langle{x_1 x_m}\\rangle &=&  \\langle{x_1 y}\\rangle\\\\\n",
    "a_0 \\langle{x_{2}}\\rangle &+& a_1 \\langle{x_2 x_1}\\rangle &+& a_2 \\langle{x_2~^2}\\rangle &+& \\cdots &+& a_m \\langle{x_2 x_m}\\rangle &=&  \\langle{x_2 y}\\rangle\\\\\n",
    "a_0 \\langle{x_{3}}\\rangle &+& a_1 \\langle{x_3 x_1}\\rangle &+& a_2 \\langle{x_3 x_2}\\rangle &+& \\cdots &+& a_m \\langle{x_3 x_m}\\rangle &=&  \\langle{x_3 y}\\rangle\\\\\n",
    "\\vdots ~~~~ &+& ~~~~\\vdots &+& ~~~~\\vdots &+& \\ddots &+& ~~~~\\vdots &=& ~~~\\vdots\\\\\n",
    "a_0 \\langle{x_{m}}\\rangle &+& a_1 \\langle{x_m x_1}\\rangle &+& a_2 \\langle{x_m x_2}\\rangle &+& \\cdots &+& a_m \\langle{x_m~^2}\\rangle &=&  \\langle{x_m y}\\rangle\\\\\n",
    "\\end{eqnarray*}$$"
   ]
  },
  {
   "cell_type": "markdown",
   "metadata": {},
   "source": [
    "To solve these equations numerically, we can reformulate these equations into a matrix equation:\n",
    "\n",
    "$$\n",
    "\\begin{pmatrix}\n",
    "1                     & \\langle{x_1}\\rangle      & \\langle{x_2}\\rangle      & \\cdots & \\langle{x_m}\\rangle\\\\\n",
    "\\langle{x_1}\\rangle   & \\langle{x_1~^2}\\rangle   & \\langle{x_1 x_2}\\rangle  & \\cdots & \\langle{x_1 x_m}\\rangle\\\\\n",
    "\\langle{x_2}\\rangle   & \\langle{x_2 x_1}\\rangle  & \\langle{x_2~^2}\\rangle   & \\cdots & \\langle{x_2 x_m}\\rangle\\\\\n",
    "\\vdots                & \\vdots                   & \\vdots                   & \\ddots & \\vdots\\\\\n",
    "\\langle{x_m}\\rangle   & \\langle{x_m x_1}\\rangle  & \\langle{x_m x_2}\\rangle  & \\cdots & \\langle{x_m~^2}\\rangle\\\\\n",
    "\\end{pmatrix}\n",
    "\\begin{pmatrix}\n",
    "a_0\\\\\n",
    "a_1\\\\\n",
    "a_2\\\\\n",
    "\\vdots\\\\\n",
    "a_m\\\\\n",
    "\\end{pmatrix}\n",
    "=\n",
    "\\begin{pmatrix}\n",
    "\\langle{y}\\rangle\\\\\n",
    "\\langle{x_1 y}\\rangle\\\\\n",
    "\\langle{x_2 y}\\rangle\\\\\n",
    "\\vdots\\\\\n",
    "\\langle{x_m y}\\rangle\\\\\n",
    "\\end{pmatrix}\n",
    "$$"
   ]
  },
  {
   "cell_type": "markdown",
   "metadata": {},
   "source": [
    "Notice that the left most matrix is symmetric about the diagonal, this can come in handy when computing the matrix elements. As before, this equation can be solved for the $a_i$ by inverting the left most matrix, i.e.\n",
    "\n",
    "$$\n",
    "\\begin{align*}\n",
    "\\boldsymbol{X} \\boldsymbol{A} &= \\boldsymbol{Y}\\\\\n",
    "\\therefore \\boldsymbol{A} &= \\boldsymbol{X}^{-1} \\boldsymbol{Y}\\\\\n",
    "\\end{align*}\n",
    "$$"
   ]
  },
  {
   "cell_type": "markdown",
   "metadata": {},
   "source": [
    "### Python Implementation"
   ]
  },
  {
   "cell_type": "markdown",
   "metadata": {},
   "source": [
    "Let's work on a Python implementation of this solution. You may want to try it yourself before reading further. In order to verify our implementation we will use the Cepheid data we've used so far, though we shall design it to support any number of $x_j$ variables."
   ]
  },
  {
   "cell_type": "markdown",
   "metadata": {},
   "source": [
    "We will start by designing a function that takes the data in as two arguments:\n",
    "\n",
    "$$\n",
    "\\texttt{y_data} = [y_{1}, y_{2}, y_{3}, \\dots, y_{N}]\n",
    "$$\n",
    "\n",
    "$$,\n",
    "\\begin{matrix}\n",
    "\\texttt{x_data} = [ & [x_{1,~1}, & x_{1,~2}, & \\cdots, & x_{1,~N} &], \\\\\n",
    "                    & [x_{2,~1}, & x_{2,~2}, & \\cdots, & x_{2,~N} &],\\\\\n",
    "                    & [x_{3,~1}, & x_{3,~2}, & \\cdots, & x_{3~N} &],\\\\\n",
    "                    & [\\vdots~~, & \\vdots~~, & \\ddots, & \\vdots &],\\\\\n",
    "                    & [x_{m,~1}, & x_{m,~2}, & \\cdots, & x_{m,~N} &]]\\\\\n",
    "\\end{matrix}\n",
    "$$\n",
    "\n",
    "as NumPy arrays."
   ]
  },
  {
   "cell_type": "markdown",
   "metadata": {},
   "source": [
    "#### Calculating Expectation Values"
   ]
  },
  {
   "cell_type": "markdown",
   "metadata": {},
   "source": [
    "Note that for each of the sums along the data sets ($\\sum_{i = 1}^N$), we will be summing along the rows. For example, for the quantity:\n",
    "\n",
    "$$\n",
    "\\langle x_1 \\rangle = \\frac{1}{N} \\sum_{i = 1}^N x_{1,~i}\n",
    "$$\n",
    "\n",
    "we can use:\n",
    "\n",
    "```Python\n",
    "np.mean(x_data[0, :])\n",
    "```\n",
    "\n",
    "and for\n",
    "\n",
    "$$\n",
    "\\langle x_1 x_2 \\rangle = \\frac{1}{N} \\sum_{i = 1}^N x_{1,~ i} x_{2,~ i}\n",
    "$$\n",
    "\n",
    "we can use\n",
    "\n",
    "```Python\n",
    "np.mean(x_data[0, :] * x_data[1, :])\n",
    "```\n",
    "where we have made use of NumPy array's vectorized operations."
   ]
  },
  {
   "cell_type": "markdown",
   "metadata": {},
   "source": [
    "#### Constructing the $\\boldsymbol{X}$ Matrix"
   ]
  },
  {
   "cell_type": "markdown",
   "metadata": {},
   "source": [
    "Now, let's break down the structure of the matrix:\n",
    "\n",
    "$$\n",
    "\\boldsymbol{X} = \n",
    "\\begin{pmatrix}\n",
    "1                     & \\langle{x_1}\\rangle      & \\langle{x_2}\\rangle      & \\langle{x_3}\\rangle      & \\cdots & \\langle{x_m}\\rangle\\\\\n",
    "\\langle{x_1}\\rangle   & \\langle{x_1~^2}\\rangle   & \\langle{x_1 x_2}\\rangle  & \\langle{x_1 x_3}\\rangle  & \\cdots & \\langle{x_1 x_m}\\rangle\\\\\n",
    "\\langle{x_2}\\rangle   & \\langle{x_2 x_1}\\rangle  & \\langle{x_2~^2}\\rangle   & \\langle{x_2 x_3}\\rangle  & \\cdots & \\langle{x_2 x_m}\\rangle\\\\\n",
    "\\langle{x_3}\\rangle   & \\langle{x_3 x_1}\\rangle  & \\langle{x_3 x_2}\\rangle  & \\langle{x_3~^2}\\rangle   & \\cdots & \\langle{x_3 x_m}\\rangle\\\\\n",
    "\\vdots                & \\vdots                   & \\vdots                   & \\vdots                   & \\ddots & \\vdots\\\\\n",
    "\\langle{x_m}\\rangle   & \\langle{x_m x_1}\\rangle  & \\langle{x_m x_2}\\rangle  & \\langle{x_m x_3}\\rangle  & \\cdots & \\langle{x_m~^2}\\rangle\\\\\n",
    "\\end{pmatrix}\n",
    "$$\n",
    "\n",
    "the dimensions of this matrix is $(m+1)\\times(m+1)$, we can get the value for $m$ from the dimensions of the `x_data` array:\n",
    "\n",
    "```Python\n",
    "m = x_data.shape[0]\n",
    "```\n",
    "\n",
    "from this we can create a matrix of ones, which we will populate later:\n",
    "\n",
    "```Python\n",
    "X = np.array(np.ones((m+1, m+1))\n",
    "```\n"
   ]
  },
  {
   "cell_type": "markdown",
   "metadata": {},
   "source": [
    "Now, as we have noted before, $\\boldsymbol{X}$ is a symmetric matrix. That is for for row $k$ and column $l$, $\\boldsymbol{X}_{k l} = \\boldsymbol{X}_{l k}$. We only need to construct one of the triangles of the matrix, the other is obtained for free.\n",
    "\n",
    "Let's work with the upper triangle of the matrix. Here there are 3 regions with distinguishable structures\n",
    "\n",
    "1. The first row\n",
    "2. The diagonal\n",
    "3. The remaining triangle"
   ]
  },
  {
   "cell_type": "markdown",
   "metadata": {
    "tags": []
   },
   "source": [
    "<!--**1. The First Row**-->\n",
    "The first element of the matrix is just one. The remainder of the first row is simply the expectation value of each of the $x_j$:\n",
    "\n",
    "$$\n",
    "\\boldsymbol{X}_{0 ~0} = 1\n",
    "$$\n",
    "\n",
    "and \n",
    "\n",
    "$$\n",
    "\\boldsymbol{X}_{0~ l} = \\langle{x_l}\\rangle ~~~~ \\text{where}~ l = 1, 2, \\dots, m\n",
    "$$\n",
    "\n",
    "Note that here we are indexing $\\boldsymbol{X}$ from 0 to better translate it to code (keep in mind that the `x_data` array also starts with a 0 index, so the $x_l$ data is in row $l - 1$):"
   ]
  },
  {
   "cell_type": "markdown",
   "metadata": {
    "tags": []
   },
   "source": [
    "```Python\n",
    "for l in range(m):\n",
    "    X[0, l + 1] = np.mean(x_data[l, :])\n",
    "    \n",
    "    # Setting the values for the first column\n",
    "    # remember that X[k, l] = X[l, k]\n",
    "    X[l + 1, 0] = X[0, l + 1]\n",
    "```"
   ]
  },
  {
   "cell_type": "markdown",
   "metadata": {
    "tags": []
   },
   "source": [
    "Now, consider the triangle off of the diagonal. That is the region:"
   ]
  },
  {
   "cell_type": "markdown",
   "metadata": {
    "tags": []
   },
   "source": [
    "$$\n",
    "\\begin{pmatrix}\n",
    "-         & -        & -                         & -                        & \\cdots  & - \\\\\n",
    "-         & -        & \\langle{x_1 x_2}\\rangle   & \\langle{x_1 x_3}\\rangle  & \\cdots  & \\langle{x_1 x_m}\\rangle\\\\\n",
    "-         & -        & -                         & \\langle{x_2 x_3}\\rangle  & \\cdots  & \\langle{x_2 x_m}\\rangle\\\\\n",
    "-         & -        & -                         & -                        & \\cdots  & \\langle{x_3 x_m}\\rangle\\\\\n",
    "\\vdots    & \\vdots   & \\vdots                    & \\vdots                   & \\ddots  & \\vdots \\\\\n",
    "-         & -        & -                         & -                        & \\cdots  & \\langle{x_m~^2}\\rangle\\\\\n",
    "\\end{pmatrix}\n",
    "$$"
   ]
  },
  {
   "cell_type": "markdown",
   "metadata": {
    "tags": []
   },
   "source": [
    "This region exhibits the pattern:\n",
    "\n",
    "$$\n",
    "\\boldsymbol{X}_{k l} = \\langle{x_k x_l}\\rangle ~~~~\\text{where}~ l > k\n",
    "$$\n",
    "\n",
    "The diagonal has a fairly simple pattern, starting from (row, column) $(1,1)$:\n",
    "\n",
    "$$\n",
    "\\boldsymbol{X}_{k k} = \\langle{x_k~^2}\\rangle\n",
    "$$\n",
    "\n",
    "Note, however, that this is a special case of the rules for constructing region 3. We can therefore combine regions 2 and 3 with the rule:\n",
    "\n",
    "$$\n",
    "\\boldsymbol{X}_{k l} = \\langle{x_k x_l}\\rangle ~~~~\\text{where}~ l \\geq k\n",
    "$$\n",
    "\n",
    "In the code this becomes:"
   ]
  },
  {
   "cell_type": "markdown",
   "metadata": {
    "tags": []
   },
   "source": [
    "```Python\n",
    "# Inner matrix\n",
    "\n",
    "for k in range(m):\n",
    "    for l in range(m):\n",
    "        X[k + 1, l + 1] = np.mean( x_data[k, :] * x_data[l, :] )\n",
    "        \n",
    "        #Setting the value for the lower triangle\n",
    "        X[l + 1, k + 1] = X[k + 1, l + 1]\n",
    "```"
   ]
  },
  {
   "cell_type": "markdown",
   "metadata": {
    "tags": []
   },
   "source": [
    "That covers the $\\boldsymbol{X}$ matrix."
   ]
  },
  {
   "cell_type": "markdown",
   "metadata": {
    "tags": []
   },
   "source": [
    "#### Constructing the $\\boldsymbol{Y}$ Matrix"
   ]
  },
  {
   "cell_type": "markdown",
   "metadata": {
    "tags": []
   },
   "source": [
    "Now let's construct the matrix:\n",
    "\n",
    "$$\n",
    "\\boldsymbol{Y} =\n",
    "\\begin{pmatrix}\n",
    "\\langle{y}\\rangle\\\\\n",
    "\\langle{x_1 y}\\rangle\\\\\n",
    "\\langle{x_2 y}\\rangle\\\\\n",
    "\\vdots\\\\\n",
    "\\langle{x_m y}\\rangle\\\\\n",
    "\\end{pmatrix}\n",
    "$$"
   ]
  },
  {
   "cell_type": "markdown",
   "metadata": {
    "tags": []
   },
   "source": [
    "This is fairly straight forward, with\n",
    "\n",
    "$$\n",
    "\\boldsymbol{Y}_{0~ 0} = \\langle{y}\\rangle\n",
    "$$\n",
    "\n",
    "and\n",
    "\n",
    "$$\n",
    "\\boldsymbol{Y}_{k~ 0} = \\langle{x_k y}\\rangle ~~~~\\text{where}~ k = 1, \\dots, m\n",
    "$$"
   ]
  },
  {
   "cell_type": "markdown",
   "metadata": {
    "tags": []
   },
   "source": [
    "```Python\n",
    "#Creating the Y column matrix:\n",
    "Y = np.matrix( np.zeros( (m + 1, 1) ) )\n",
    "\n",
    "#First entry\n",
    "Y[0, 0] = np.mean(y_data)\n",
    "\n",
    "#The remainder of the entries\n",
    "for k in range(m):\n",
    "    Y[k + 1, 0] = np.mean( x_data[k, :] * y_data )\n",
    "```"
   ]
  },
  {
   "cell_type": "markdown",
   "metadata": {
    "tags": []
   },
   "source": [
    "#### Finding Matrix $\\boldsymbol{A}$ (Or Solving For the $a_j$)"
   ]
  },
  {
   "cell_type": "markdown",
   "metadata": {
    "tags": []
   },
   "source": [
    "Lastly, to solve for our $a_j$ values, we consider the matrix:\n",
    "\n",
    "$$\n",
    "\\boldsymbol{A}=\n",
    "\\begin{pmatrix}\n",
    "a_0 \\\\\n",
    "a_1\\\\\n",
    "a_2\\\\\n",
    "\\vdots\\\\\n",
    "a_m\\\\\n",
    "\\end{pmatrix}\n",
    "$$"
   ]
  },
  {
   "cell_type": "markdown",
   "metadata": {
    "tags": []
   },
   "source": [
    "This fits into the matrix equation \n",
    "\n",
    "$$\n",
    "\\boldsymbol{X}\\boldsymbol{A} = \\boldsymbol{Y}\n",
    "$$\n",
    "\n",
    "where we've already constructed $\\boldsymbol{X}$ and $\\boldsymbol{Y}$. All that's left is to solve the equation be inverting $\\boldsymbol{X}$:\n",
    "\n",
    "$$\n",
    "\\boldsymbol{A} = \\boldsymbol{X}^{-1} \\boldsymbol{Y}\n",
    "$$\n",
    "\n",
    "To achieve this numerically, we simply take the inverse of `X`, `X.I`:"
   ]
  },
  {
   "cell_type": "markdown",
   "metadata": {
    "tags": []
   },
   "source": [
    "```Python\n",
    "#Finding A:\n",
    "\n",
    "A = X.I*Y\n",
    "```"
   ]
  },
  {
   "cell_type": "markdown",
   "metadata": {
    "tags": []
   },
   "source": [
    "This `A` matrix is a column matrix. As a bonus, if we wanted to turn it into a one-dimensional array, we can use the `flatten()` method:\n",
    "\n",
    "```Python\n",
    "np.array(A).flatten()\n",
    "```"
   ]
  },
  {
   "cell_type": "markdown",
   "metadata": {
    "tags": []
   },
   "source": [
    "#### Putting It All Together\n",
    "\n",
    "Putting this all together into a function:"
   ]
  },
  {
   "cell_type": "code",
   "execution_count": 21,
   "metadata": {
    "tags": []
   },
   "outputs": [],
   "source": [
    "import numpy as np\n",
    "import matplotlib.pyplot as plt\n",
    "\n",
    "\n",
    "def least_squares(y_data, x_data):\n",
    "    m = x_data.shape[0]\n",
    "\n",
    "    X = np.matrix(np.ones((m+1, m+1)))\n",
    "\n",
    "    #First row\n",
    "    for l in range(m):\n",
    "        X[0, l + 1] = np.mean(x_data[l, :])\n",
    "\n",
    "        # Setting the values for the first column\n",
    "        # remember that X[k, l] = X[l, k]\n",
    "        X[l + 1, 0] = X[0, l + 1]\n",
    "\n",
    "\n",
    "    # Upper triangle\n",
    "    for k in range(m):\n",
    "        for l in range(k, m):\n",
    "            X[k + 1, l + 1] = np.mean( x_data[k, :] * x_data[l, :] )\n",
    "\n",
    "            #Setting the value for the lower triangle\n",
    "            X[l + 1, k + 1] = X[k + 1, l + 1]\n",
    "\n",
    "\n",
    "    #Creating the Y column matrix:\n",
    "    Y = np.matrix( np.zeros( (m + 1, 1) ) )\n",
    "\n",
    "    #First entry\n",
    "    Y[0, 0] = np.mean(y_data)\n",
    "\n",
    "    #The remainder of the entries\n",
    "    for k in range(m):\n",
    "        Y[k + 1, 0] = np.mean( x_data[k, :] * y_data )\n",
    "    \n",
    "    #Finding A:\n",
    "\n",
    "    A = X.I*Y\n",
    "    \n",
    "    return np.array(A).flatten()"
   ]
  },
  {
   "cell_type": "markdown",
   "metadata": {
    "tags": []
   },
   "source": [
    "<div class=\"worked-example\">\n",
    "    <h5 class=\"worked-example-title\"><b>Worked Example</b> - Applying the Solution to the Cepheid Variables Data</h5>\n",
    "\n",
    "Now, lets apply this function to the Cepheid Variables data to find the unknown coefficients for the functional relation of the magnitude ($M$), period ($P$) and color ($B-V$):\n",
    "    \n",
    "$$\n",
    "M = a_0 + a_1 \\log P + a_2 (B - V)\n",
    "$$    \n",
    "    \n",
    "We'll unpack the data as in the **{doc}`Numerical Methods/Linear Regression Algorithms/Linear Least Squares Minimization<./least-squares>`** example, and then pack it into the structure that is required by the function."
   ]
  },
  {
   "cell_type": "code",
   "execution_count": 24,
   "metadata": {},
   "outputs": [
    {
     "name": "stdout",
     "output_type": "stream",
     "text": [
      "a_0 = -2.15\n",
      "a_1 = -3.12\n",
      "a_2 = 1.49\n"
     ]
    }
   ],
   "source": [
    "#Reading the data\n",
    "logP, M, color = np.loadtxt('./data/cepheid_data.csv', delimiter = ',', skiprows = 1, unpack = True)\n",
    "\n",
    "a_arr = least_squares(M, np.array([logP, color]))\n",
    "\n",
    "for i, a in enumerate(a_arr):\n",
    "    print(f'a_{i} =', '{:.3}'.format(a))"
   ]
  },
  {
   "cell_type": "markdown",
   "metadata": {},
   "source": [
    "Which matches the results from the worked example above."
   ]
  },
  {
   "cell_type": "markdown",
   "metadata": {},
   "source": [
    "</div>"
   ]
  }
 ],
 "metadata": {
  "kernelspec": {
   "display_name": "Python 3.7.3 64-bit ('base': conda)",
   "language": "python",
   "name": "python37364bitbaseconda97808f46a65a4f1e9dfdbcff18a07fbf"
  },
  "language_info": {
   "codemirror_mode": {
    "name": "ipython",
    "version": 3
   },
   "file_extension": ".py",
   "mimetype": "text/x-python",
   "name": "python",
   "nbconvert_exporter": "python",
   "pygments_lexer": "ipython3",
   "version": "3.7.3"
  }
 },
 "nbformat": 4,
 "nbformat_minor": 4
}
