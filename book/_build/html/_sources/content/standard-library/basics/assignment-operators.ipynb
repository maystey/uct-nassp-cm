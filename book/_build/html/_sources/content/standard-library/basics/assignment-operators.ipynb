{
 "cells": [
  {
   "cell_type": "markdown",
   "metadata": {},
   "source": [
    "# Compound Assignment Operators\n",
    "\n",
    "We've already discussed the `=` operator which sets the value of a variable. There are a few more assignment operators which are mostly used for convenience. These are the compound operators : `+=`, `-=`, `*=`, `/=`. \n",
    "\n",
    "These operators apply their respective operation between the variable being assigned to and the value on the right and assign that value to the variable. In other words:\n",
    "```\n",
    "var += 2\n",
    "```\n",
    "can be read as \n",
    "```\n",
    "var = var + 2\n",
    "```\n",
    "\n",
    "and\n",
    "```\n",
    "var /= 2\n",
    "```\n",
    "can be read as\n",
    "```\n",
    "var = var / 2\n",
    "```\n",
    "\n",
    "etc.."
   ]
  },
  {
   "cell_type": "code",
   "execution_count": null,
   "metadata": {},
   "outputs": [],
   "source": []
  }
 ],
 "metadata": {
  "kernelspec": {
   "display_name": "Python 3",
   "language": "python",
   "name": "python3"
  },
  "language_info": {
   "codemirror_mode": {
    "name": "ipython",
    "version": 3
   },
   "file_extension": ".py",
   "mimetype": "text/x-python",
   "name": "python",
   "nbconvert_exporter": "python",
   "pygments_lexer": "ipython3",
   "version": "3.7.3"
  }
 },
 "nbformat": 4,
 "nbformat_minor": 4
}
