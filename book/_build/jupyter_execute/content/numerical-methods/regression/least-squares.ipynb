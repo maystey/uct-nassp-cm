{
 "cells": [
  {
   "cell_type": "code",
   "execution_count": 1,
   "metadata": {
    "tags": [
     "remove_cell"
    ]
   },
   "outputs": [],
   "source": [
    "import numpy as np\n",
    "import matplotlib.pyplot as plt"
   ]
  },
  {
   "cell_type": "markdown",
   "metadata": {},
   "source": [
    "# Linear Least Squares Minimization"
   ]
  },
  {
   "cell_type": "markdown",
   "metadata": {},
   "source": [
    "## The Problem"
   ]
  },
  {
   "cell_type": "markdown",
   "metadata": {},
   "source": [
    "We propose a linear functional relation between 2 measurable variables, $x$ and $y$:\n",
    "\n",
    "$$\n",
    "y = a_0 + a_1 x\n",
    "$$\n",
    "\n",
    "where $a_0$ and $a_1$ are **unknown** constants. We wish to find these constants."
   ]
  },
  {
   "cell_type": "markdown",
   "metadata": {},
   "source": [
    "## The Solution"
   ]
  },
  {
   "cell_type": "markdown",
   "metadata": {},
   "source": [
    "To find these unknown coefficients in practice we measure many $x$, $y$ pairs (assuming the measurements display some sort of dispersion). We now have a set of measured $(x_i, y_i)$ pairs for $i = 1, 2, 3, \\dots, N$.\n",
    "\n",
    "If we assume that the $x_i$ are free of error, we can introduce error terms <font color = \"red\"> $\\epsilon_i$ </font> to the $y_i$ data to make up for the dispersion of the data (i.e. that it doesn't follow the linear relation exactly)."
   ]
  },
  {
   "cell_type": "code",
   "execution_count": 2,
   "metadata": {
    "tags": [
     "remove_input"
    ]
   },
   "outputs": [
    {
     "data": {
      "image/png": "[encoded data removed]",
      "text/plain": [
       "<Figure size 432x288 with 1 Axes>"
      ]
     },
     "metadata": {
      "filenames": {
       "image/png": "/home/mayhew/Dropbox/Nassp/CM2021/OnlineNotes/uct_nassp_cm2021/book/_build/jupyter_execute/content/numerical-methods/regression/least-squares_6_0.png"
      }
     },
     "output_type": "display_data"
    }
   ],
   "source": [
    "a0, a1 = 2, 1\n",
    "\n",
    "sigma = 1.5\n",
    "\n",
    "lw = 2\n",
    "\n",
    "x = np.linspace(0, 10, 5)\n",
    "y = np.random.normal(a0 + x*a1, sigma)\n",
    "\n",
    "x_true = np.linspace(0, 10, 2)\n",
    "y_true = a0 + a1*x_true\n",
    "\n",
    "fig_lsm_err, ax = plt.subplots()\n",
    "\n",
    "#Plotting error bars\n",
    "for xx,yy in zip(x,y):\n",
    "    ax.plot([xx,xx], [yy, a0 + a1*xx], 'r', \n",
    "            linewidth = 1.5*lw)\n",
    "\n",
    "ax.plot(x, y, 'ko', label = 'Data')\n",
    "ax.plot(x_true, y_true, 'k--', linewidth = lw, \n",
    "        label = 'Model')\n",
    "\n",
    "ax.plot([], 'r', linewidth = 1.5*lw, label = 'Error in y')\n",
    "    \n",
    "ax.set_xticks([])\n",
    "ax.set_yticks([])\n",
    "ax.legend()\n",
    "# plt.savefig('least_sq_error.png')\n",
    "\n",
    "plt.show()"
   ]
  },
  {
   "cell_type": "markdown",
   "metadata": {},
   "source": [
    "With this error term, the relation between our data points can be represented as:\n",
    "\n",
    "<!--- center tag doesn't work with math -->\n",
    "$y_i +$ <font color = \"red\"> $\\epsilon_i$ </font> $= a_0 + a_1 x_i$\n",
    "\n",
    "\n",
    "Note that, at this point the error terms we have introduced are unknown to us. They represent the difference between the measured $y_i$ values and the expected values if we plugged $x_i$ into our relation (for which we have yet to determine $a_0$ and $a_1$). The error terms can be seen as a means to an end and will soon be done away with.\n",
    "\n",
    "Now, we need some sort of metric to tell us how much error we have. We can use the sum of the errors squared for this:\n",
    "\n",
    "$$\n",
    "S = \\sum_{i=1}^{N} \\epsilon_i^2\n",
    "$$\n",
    "\n",
    "We use the squares of the error as it is the magnitude of the errors we are concerned about, and with the errors ranging between positive and negative values will end up canceling each other out (these are illustrated as points above and below the lines in the figure above)."
   ]
  },
  {
   "cell_type": "markdown",
   "metadata": {},
   "source": [
    "We can use the relation between our data points to replace the $\\epsilon_i^2$:\n",
    "\n",
    "$$\n",
    "S = \\sum_{i=1}^{N} (a_0 + a_1 x_i - y_i)^2\n",
    "$$"
   ]
  },
  {
   "cell_type": "markdown",
   "metadata": {},
   "source": [
    "Now, we want our choice of $a_0$ and $a_1$ to give us the least amount of error possible, or rather to give us the minimum value of $S$. To achieve this we minimize $S$ with respect to $a_0$:\n",
    "\n",
    "\n",
    "$$\n",
    "\\begin{align*}\n",
    " \\frac{\\partial S}{\\partial a_0} &= 2\\sum_{i = 1}^{n} (a_0 + a_1 x_i - y_i) = 0\\\\\n",
    "                                 &= \\\\\n",
    " a_0 + a_1 \\langle x \\rangle     &= \\langle y \\rangle \\\\\n",
    "\\end{align*}\n",
    "$$\n",
    "\n",
    "and $a_1$:\n",
    "\n",
    "$$\n",
    "\\begin{align*}\n",
    " \\frac{\\partial S}{\\partial a_1} &= 2\\sum_{i = 1}^{n} (a_0 + a_1 x_i - y_i)x_i = 0\\\\\n",
    "                                 &= \\\\\n",
    " a_0 \\langle x \\rangle + a_1 \\langle x^2 \\rangle &= \\langle xy \\rangle\\\\\n",
    "\\end{align*}\n",
    "$$"
   ]
  },
  {
   "cell_type": "markdown",
   "metadata": {},
   "source": [
    "To solve this system of equations we could use a matrix equation and let the computer determine the solution to that numerically, but with only two equations and unknowns, an analytic solution is easy enough to find:\n",
    "\n",
    "$$\n",
    "\\begin{align*}\n",
    "a_1 &= \\frac{\\langle xy \\rangle - \\langle x \\rangle\\langle y \\rangle}{\\langle x^2 \\rangle - \\langle x \\rangle^2}\\\\\n",
    "a_0 &= \\langle y \\rangle - a_1 \\langle x \\rangle\\\\\n",
    "\\end{align*}\n",
    "$$"
   ]
  },
  {
   "cell_type": "markdown",
   "metadata": {},
   "source": [
    "## Variance of $y$"
   ]
  },
  {
   "cell_type": "markdown",
   "metadata": {},
   "source": [
    "If we assume that the $y_i$ data points are distributed around the \"true\" $y$ values for the given $x_i$ by a Gaussian distribution with constant variance, we can calculate that variance as:\n",
    "\n",
    "$$\n",
    "\\begin{align*}\n",
    "\\sigma^2  & = \\frac{1}{N}\\sum_{i=1}^N \\epsilon_i^2\\\\\n",
    "& = \\frac{1}{N} \\sum_{i=1}^N (a_0 + a_1 x_i - y_i)^2\\\\\n",
    "\\end{align*}\n",
    "$$"
   ]
  },
  {
   "cell_type": "markdown",
   "metadata": {},
   "source": [
    "<div class=\"worked-example\">\n",
    "    <h5 class=\"worked-example-title\"><b>Worked Example</b> - Cepheid Variables</h5>"
   ]
  },
  {
   "cell_type": "markdown",
   "metadata": {},
   "source": [
    "For this worked example we will use data from Cepheid variables. These are pulsating stars with their luminosity (or magnitude $M$) related to the period ($P$) of their pulsations:\n",
    "\n",
    "$$\n",
    "M = a_0 + a_1 \\log P\n",
    "$$"
   ]
  },
  {
   "cell_type": "markdown",
   "metadata": {},
   "source": [
    "Note that the relation above is can be made more accurate by including the color or temperature of the  star, which we shall use later in the chapter."
   ]
  },
  {
   "cell_type": "markdown",
   "metadata": {},
   "source": [
    "As this relation is consistent across all specimens, these stars can be used as a standard candle for measuring distances, all that is needed are measurements from stars with known distances from Earth to determine $a_0$ and $a_1$.\n",
    "\n",
    "The standard is to measure Cepheids in the Large Magellanic Cloud, whose distance is known. A few of these measurements can be found in the data file 'cepheid_data.csv' provided on Vula (Resources/Exercises/Data/Exercise10/) or on [GitHub](https://raw.githubusercontent.com/maystey/uct_nassp_cm/gh-pages/regression/data/cepheid_data.csv). The data file contains measurements of:\n",
    "\n",
    "- $\\log P$\n",
    "- $M$\n",
    "- $B - V$ (color, not using yet)"
   ]
  },
  {
   "cell_type": "markdown",
   "metadata": {},
   "source": [
    "\n",
    "**Solution:**\n",
    "\n",
    "<!--- Come back and unpack this -->"
   ]
  },
  {
   "cell_type": "code",
   "execution_count": 3,
   "metadata": {},
   "outputs": [],
   "source": [
    "def least_square(x, y):\n",
    "    mean_x = np.mean(x)\n",
    "    mean_y = np.mean(y)\n",
    "    expect_xy = np.mean(x*y)\n",
    "    expect_xx = np.mean(x*x)\n",
    "    \n",
    "    a1 = (expect_xy - mean_x*mean_y)/(expect_xx - mean_x*mean_x)\n",
    "    \n",
    "    return [mean_y - a1*mean_x, a1]\n",
    "\n",
    "def get_sigma(a0, a1, x, y):\n",
    "    return np.sqrt(np.mean((a0 + a1*x - y)**2))"
   ]
  },
  {
   "cell_type": "code",
   "execution_count": 4,
   "metadata": {},
   "outputs": [
    {
     "data": {
      "image/png": "[encoded data removed]",
      "text/plain": [
       "<Figure size 432x288 with 1 Axes>"
      ]
     },
     "metadata": {
      "filenames": {
       "image/png": "/home/mayhew/Dropbox/Nassp/CM2021/OnlineNotes/uct_nassp_cm2021/book/_build/jupyter_execute/content/numerical-methods/regression/least-squares_19_0.png"
      },
      "needs_background": "light"
     },
     "output_type": "display_data"
    }
   ],
   "source": [
    "fontsize = 16\n",
    "linewidth = 2\n",
    "\n",
    "\n",
    "data = np.loadtxt('./data/cepheid_data.csv', delimiter = ',', skiprows = 1)\n",
    "\n",
    "a0 , a1 = least_square(data[:,0], data[:,1]) # error in M\n",
    "b0, b1 = least_square(data[:,1], data[:,0]) #error in logP\n",
    "\n",
    "x = np.linspace(data[:,0].min(), data[:,0].max(), 2)\n",
    "\n",
    "y_M = a0 + a1*x\n",
    "y_P = -b0/b1 + x/b1\n",
    "\n",
    "fig_ceph, ax = plt.subplots()\n",
    "\n",
    "ax.plot(data[:,0], data[:,1], 'ro')\n",
    "ax.plot(x, y_M, 'k', label = 'Error in M', lw = linewidth)\n",
    "ax.plot(x, y_P, 'k--', label = 'Error in logP', lw = linewidth)\n",
    "\n",
    "ax.set_xlabel('logP', fontsize = fontsize)\n",
    "ax.set_ylabel('M', fontsize = fontsize)\n",
    "\n",
    "ax.legend(fontsize = fontsize)\n",
    "\n",
    "plt.show()"
   ]
  },
  {
   "cell_type": "markdown",
   "metadata": {},
   "source": [
    "</div>"
   ]
  }
 ],
 "metadata": {
  "kernelspec": {
   "display_name": "Python 3",
   "language": "python",
   "name": "python3"
  },
  "language_info": {
   "codemirror_mode": {
    "name": "ipython",
    "version": 3
   },
   "file_extension": ".py",
   "mimetype": "text/x-python",
   "name": "python",
   "nbconvert_exporter": "python",
   "pygments_lexer": "ipython3",
   "version": "3.9.1"
  }
 },
 "nbformat": 4,
 "nbformat_minor": 4
}