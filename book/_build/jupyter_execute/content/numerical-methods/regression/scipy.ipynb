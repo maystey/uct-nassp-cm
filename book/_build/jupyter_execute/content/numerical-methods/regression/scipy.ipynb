{
 "cells": [
  {
   "cell_type": "code",
   "execution_count": 1,
   "metadata": {
    "tags": [
     "remove_cell"
    ]
   },
   "outputs": [],
   "source": [
    "%matplotlib inline"
   ]
  },
  {
   "cell_type": "markdown",
   "metadata": {},
   "source": [
    "# Least Squares Minimization with `scipy.optimize.leastsq`"
   ]
  },
  {
   "cell_type": "markdown",
   "metadata": {},
   "source": [
    "So far we have only considered functional relationships that are linear in the unknown constants. Non-linear cases are far more complicated and generally require numerical solutions. We will use a function from the SciPy module [`scipy.optimize`](https://docs.scipy.org/doc/scipy/reference/optimize.html), which contains functions for minimization, least squares and root finding techniques."
   ]
  },
  {
   "cell_type": "markdown",
   "metadata": {},
   "source": [
    "## An Example of a Nonlinear Model"
   ]
  },
  {
   "cell_type": "markdown",
   "metadata": {},
   "source": [
    "Consider the data found in the data file **nonlinear_data.csv** on [GitHub](https://raw.githubusercontent.com/maystey/uct_nassp_cm2021/master/book/content/numerical-methods/regression/data/nonlinear_data.csv) , plotted below:"
   ]
  },
  {
   "cell_type": "code",
   "execution_count": 2,
   "metadata": {
    "tags": [
     "remove_input"
    ]
   },
   "outputs": [
    {
     "data": {
      "image/png": "[encoded data removed]",
      "text/plain": [
       "<Figure size 432x288 with 1 Axes>"
      ]
     },
     "metadata": {
      "filenames": {
       "image/png": "/home/mayhew/University/NASSP/Archive/CM 2021/OnlineNotes/uct_nassp_cm2021/book/_build/jupyter_execute/content/numerical-methods/regression/scipy_5_0.png"
      },
      "needs_background": "light"
     },
     "output_type": "display_data"
    }
   ],
   "source": [
    "import numpy as np\n",
    "import matplotlib.pyplot as plt\n",
    "\n",
    "#Generating data, be sure to remove this cell and use the data file\n",
    "\n",
    "#Functional relation\n",
    "def f(a, x):\n",
    "    return a[0] + a[1] * np.exp(a[2] * x)\n",
    "\n",
    "#Parameters\n",
    "a = [2, 0.5, 0.2]\n",
    "N = 20\n",
    "xlims = [0, 10]\n",
    "sigma_y = 0.15\n",
    "\n",
    "#Random data\n",
    "xdata = np.random.uniform(xlims[0], xlims[1], N)\n",
    "ydata = np.random.normal(loc = f(a, xdata), scale = sigma_y)\n",
    "\n",
    "#Writing\n",
    "np.savetxt('data/nonlinear_data.csv', np.array((xdata, ydata)).T, header = 'x,y', delimiter = ',')\n",
    "\n",
    "#Plotting\n",
    "plt.plot(xdata, ydata, 'bo')\n",
    "plt.show()"
   ]
  },
  {
   "cell_type": "markdown",
   "metadata": {},
   "source": [
    "Though the data may appear to follow a linear trend, this is not the case. Consider the linear fit below:"
   ]
  },
  {
   "cell_type": "code",
   "execution_count": 3,
   "metadata": {
    "jupyter": {
     "source_hidden": true
    },
    "tags": [
     "remove_input"
    ]
   },
   "outputs": [
    {
     "data": {
      "image/png": "[encoded data removed]",
      "text/plain": [
       "<Figure size 432x288 with 1 Axes>"
      ]
     },
     "metadata": {
      "filenames": {
       "image/png": "/home/mayhew/University/NASSP/Archive/CM 2021/OnlineNotes/uct_nassp_cm2021/book/_build/jupyter_execute/content/numerical-methods/regression/scipy_7_0.png"
      },
      "needs_background": "light"
     },
     "output_type": "display_data"
    }
   ],
   "source": [
    "from scipy.optimize import leastsq\n",
    "import numpy as np\n",
    "import matplotlib.pyplot as plt\n",
    "\n",
    "#Remove input\n",
    "\n",
    "def lin_f(a,x):\n",
    "    return a[0] + a[1]*x\n",
    "\n",
    "def lin_err(a, x, y):\n",
    "    return lin_f(a, x) - y\n",
    "\n",
    "a0 = [1.5, 0.2]\n",
    "\n",
    "a, success = leastsq(lin_err, a0, args = (xdata, ydata))\n",
    "\n",
    "#Plotting the fit and data\n",
    "x = np.linspace(xdata.min(), xdata.max(), 1000)\n",
    "\n",
    "plt.plot(xdata, ydata, 'bo')\n",
    "plt.plot(x, lin_f(a, x), 'r-')\n",
    "plt.xlabel('x')\n",
    "plt.ylabel('y')\n",
    "plt.show()"
   ]
  },
  {
   "cell_type": "markdown",
   "metadata": {},
   "source": [
    "Instead a more appropriate functional relation is an exponential function:\n",
    "\n",
    "$$\n",
    "y = a_0 + a_1 e^{a_2 x}\n",
    "$$"
   ]
  },
  {
   "cell_type": "code",
   "execution_count": 4,
   "metadata": {
    "jupyter": {
     "source_hidden": true
    },
    "tags": [
     "remove_input"
    ]
   },
   "outputs": [
    {
     "data": {
      "image/png": "[encoded data removed]",
      "text/plain": [
       "<Figure size 432x288 with 1 Axes>"
      ]
     },
     "metadata": {
      "filenames": {
       "image/png": "/home/mayhew/University/NASSP/Archive/CM 2021/OnlineNotes/uct_nassp_cm2021/book/_build/jupyter_execute/content/numerical-methods/regression/scipy_9_0.png"
      },
      "needs_background": "light"
     },
     "output_type": "display_data"
    }
   ],
   "source": [
    "#Model\n",
    "def f(a, x):\n",
    "    return a[0] + a[1] * np.exp(a[2] * x)\n",
    "\n",
    "#Residuals (in this case the error term)\n",
    "def err(a, x, y):\n",
    "    return f(a, x) - y\n",
    "\n",
    "#Reading the data\n",
    "\n",
    "#Performing the fit\n",
    "a0 = [1.5, 0.6, 0.2] #initial guess\n",
    "\n",
    "a, success = leastsq(err, a0, args = (xdata, ydata))\n",
    "\n",
    "#Plotting the fit and data\n",
    "x = np.linspace(xdata.min(), xdata.max(), 1000)\n",
    "\n",
    "plt.plot(xdata, ydata, 'bo')\n",
    "plt.plot(x, f(a, x), 'r-')\n",
    "plt.xlabel('x')\n",
    "plt.ylabel('y')\n",
    "plt.show()"
   ]
  },
  {
   "cell_type": "markdown",
   "metadata": {},
   "source": [
    "Note that this functional relation is non-linear in $a_2$. Applying the method of least squares minimization to this functional relation will not yield an analytic solution, therefore a numerical method is required. We shall not be implementing this numerical method ourselves, instead using a function from **SciPy** to solve our problem. In short the numerical minimization technique involves following the negative gradient (or an approximation of this) from a given starting point, until a local minimum is found (essentially the solution is captured here).\n",
    "\n",
    "<!---\n",
    "Include a visual analogy of a ball rolling down a surface\n",
    "--->"
   ]
  },
  {
   "cell_type": "markdown",
   "metadata": {
    "tags": [
     "remove_cell"
    ]
   },
   "source": [
    "The trouble with trying to use least squares on this **non-linear** functional relation ...\n",
    "\n",
    "$$\n",
    "\\begin{align*}\n",
    "\\frac{\\partial S^2}{\\partial a_2} = \\sum_{i = 1}^{N} 2 x_i \\left(a_0 + a_1 e^{a_2 x_i} \\right) & = 0\\\\\n",
    "\\therefore a_0 \\langle{x}\\rangle + a_1 \\left\\langle{x e^{a_2 x}}\\right\\rangle & = \n",
    "\\end{align*}\n",
    "$$"
   ]
  },
  {
   "cell_type": "markdown",
   "metadata": {},
   "source": [
    "## Nonlinear Least Squares Minimization with `scipy.optimize.leastsq`"
   ]
  },
  {
   "cell_type": "markdown",
   "metadata": {},
   "source": [
    "The SciPy module [`scipy.optimize`](https://docs.scipy.org/doc/scipy/reference/optimize.html) contains functions for minimization, least squares and root finding techniques. Of particular interest to us now is the `leastsq` function (documentation [here](https://docs.scipy.org/doc/scipy/reference/generated/scipy.optimize.leastsq.html)), which we shall use to perform nonlinear least squares minimization.\n",
    "\n",
    "The call signature of `leastsq`, including only the arguments of immediate interest to us, is:\n",
    "\n",
    "```python\n",
    "leastsq(func, x0, args = () )\n",
    "```\n",
    "\n",
    "The `x0` argument is an initial guess for the unknown parameters we are trying to find (required by the numerical minimization technique). In our case this is an initial guess for the $a_j$ constants.\n",
    "\n",
    "The keyword argument `args` is a tuple of the variables or data we are fitting the model to. In our case $x$ and $y$. The order in which these variables are presented is up to you, but must correspond to the order they are used in `func`. Each element of this tuple should be an array or list of data points, for instance `(xdata, ydata)`.\n",
    "\n",
    "The `func` argument is a callable object (function). It is referred to as the residual. It is the sum of the residuals squared that will be minimized.For the sum of errors squared the residual is equivalent to our error terms ($\\epsilon_i$). \n",
    "\n",
    "<!---\n",
    "Mention that the sum of errors squared is called the objective function\n",
    "--->\n",
    "\n",
    "$$\n",
    "S^2 = \\sum_{i = 1}^{N} \\text{func(arguments)}^2\n",
    "$$\n",
    "\n",
    "\n",
    "The call signature of `func` is:\n",
    "\n",
    "```python\n",
    "func(params, *args)\n",
    "```\n",
    "\n",
    "where `params` is a list or array of the parameters we are trying to find ($a_j$), and `args` is the tuple of the data for our variables ($x$ and $y$)."
   ]
  },
  {
   "cell_type": "markdown",
   "metadata": {
    "tags": [
     "hide_cell"
    ]
   },
   "source": [
    "The `*` operator before a sequence data structure in a function argument unpacks that data structure as if each element where entered into the function individually. For example `f( *(x,y,z) )` is equivalent to `f(x, y, z)`"
   ]
  },
  {
   "cell_type": "markdown",
   "metadata": {},
   "source": [
    "The return value of the `leastsq` function (if it is only given the arguments listed above) is a tuple containing the solution for the $a_j$ and an integer flag (for which a value between 1 and 4 indicates the solution was found)."
   ]
  },
  {
   "cell_type": "markdown",
   "metadata": {},
   "source": [
    "<div class=\"worked-example\">\n",
    "    <h5 class=\"worked-example-title\"><b>Worked Example</b></h5>"
   ]
  },
  {
   "cell_type": "markdown",
   "metadata": {},
   "source": [
    "Let's use `scipy.optimize.leastsq` to fit the functional relation:\n",
    "\n",
    "\\begin{align*}\n",
    "y &= a_0 + a_1 e^{a_2 x}\\\\\n",
    "  &= f(x; \\vec{a}) \n",
    "\\end{align*}\n",
    "\n",
    "    \n",
    "to the **nonlinear_data.csv**.\n",
    "\n",
    "Firstly we shall define the functional relation:\n",
    "\n",
    "```Python\n",
    "def f(a, x):\n",
    "    return a[0] + a[1] * np.exp(a[2] * x)\n",
    "```\n",
    "\n",
    "and use this to define the residuals. For regular least-squares, we will use the error as the residuals:\n",
    "\n",
    "$$\n",
    "\\epsilon = f(x; \\vec{a}) - y\n",
    "$$\n",
    "\n",
    "in Python this looks like:\n",
    "\n",
    "```Python\n",
    "def err(a, x, y):\n",
    "    return f(a, x) - y\n",
    "```\n",
    "\n",
    "Putting this into action:"
   ]
  },
  {
   "cell_type": "code",
   "execution_count": 5,
   "metadata": {},
   "outputs": [
    {
     "data": {
      "image/png": "[encoded data removed]",
      "text/plain": [
       "<Figure size 432x288 with 1 Axes>"
      ]
     },
     "metadata": {
      "filenames": {
       "image/png": "/home/mayhew/University/NASSP/Archive/CM 2021/OnlineNotes/uct_nassp_cm2021/book/_build/jupyter_execute/content/numerical-methods/regression/scipy_18_0.png"
      },
      "needs_background": "light"
     },
     "output_type": "display_data"
    }
   ],
   "source": [
    "import numpy as np\n",
    "import matplotlib.pyplot as plt\n",
    "\n",
    "#importing scipy.optimize.leastsq only\n",
    "from scipy.optimize import leastsq\n",
    "\n",
    "#The model to fit to the data\n",
    "def f(a, x):\n",
    "    return a[0] + a[1] * np.exp(a[2] * x)\n",
    "\n",
    "#Residuals (in this case the error term)\n",
    "def err(a, x, y):\n",
    "    return f(a, x) - y\n",
    "\n",
    "#Reading the data\n",
    "# The `unpack` keyword argument seperates the columns into individual arrays \n",
    "xdata, ydata = np.loadtxt('data/nonlinear_data.csv', delimiter = ',', unpack = True) \n",
    "\n",
    "#Performing the fit\n",
    "a0 = [1.5, 0.6, 0.2] #initial guess\n",
    "\n",
    "a, success = leastsq(err, a0, args = (xdata, ydata))\n",
    "\n",
    "#Plotting the fit and data\n",
    "x = np.linspace(xdata.min(), xdata.max(), 1000)\n",
    "\n",
    "plt.plot(xdata, ydata, 'bo')\n",
    "plt.plot(x, f(a, x), 'r-')\n",
    "plt.xlabel('x')\n",
    "plt.ylabel('y')\n",
    "plt.show()"
   ]
  },
  {
   "cell_type": "markdown",
   "metadata": {},
   "source": [
    "</div>"
   ]
  },
  {
   "cell_type": "markdown",
   "metadata": {},
   "source": [
    "### Solutions Converging on Local Minima"
   ]
  },
  {
   "cell_type": "markdown",
   "metadata": {},
   "source": [
    "As mentioned before, the numerical algorithm is complete once it has minimized the objective function (the sum of errors squared in out case) to a **local minimum**. It is possible for the solution to not represent the global minimum, which is the ideal solution to obtain.\n",
    "\n",
    "Let's take a relatively simple example to illustrate this. Consider the functional relation:\n",
    "\n",
    "$$\n",
    "y = a_0 + a_1 e^{-a_2 x} \\sin(a_3 x)\n",
    "$$"
   ]
  },
  {
   "cell_type": "code",
   "execution_count": 6,
   "metadata": {
    "tags": [
     "remove_input"
    ]
   },
   "outputs": [
    {
     "data": {
      "image/png": "[encoded data removed]",
      "text/plain": [
       "<Figure size 432x288 with 1 Axes>"
      ]
     },
     "metadata": {
      "filenames": {
       "image/png": "/home/mayhew/University/NASSP/Archive/CM 2021/OnlineNotes/uct_nassp_cm2021/book/_build/jupyter_execute/content/numerical-methods/regression/scipy_22_0.png"
      },
      "needs_background": "light"
     },
     "output_type": "display_data"
    }
   ],
   "source": [
    "import numpy as np\n",
    "import matplotlib.pyplot as plt\n",
    "from scipy.optimize import leastsq\n",
    "\n",
    "def f_sin(a, x):\n",
    "    return a[0] + a[1] * np.exp(-a[2] * x) * np.sin(a[3] * x)\n",
    "\n",
    "def err_sin(a, x, y):\n",
    "    return y - f_sin(a, x)\n",
    "\n",
    "\n",
    "x_arr = np.linspace(0, 7, 1000)\n",
    "a = [1, 2, 0.2, np.pi]\n",
    "\n",
    "fig, ax = plt.subplots()\n",
    "\n",
    "ax.plot(x_arr, f_sin(a, x_arr))\n",
    "ax.set_xlabel('x')\n",
    "ax.set_ylabel('y')\n",
    "\n",
    "plt.show()"
   ]
  },
  {
   "cell_type": "markdown",
   "metadata": {},
   "source": [
    "Given a set of data characterized by this relation:"
   ]
  },
  {
   "cell_type": "code",
   "execution_count": 7,
   "metadata": {
    "tags": [
     "remove_input"
    ]
   },
   "outputs": [
    {
     "data": {
      "image/png": "[encoded data removed]",
      "text/plain": [
       "<Figure size 432x288 with 1 Axes>"
      ]
     },
     "metadata": {
      "filenames": {
       "image/png": "/home/mayhew/University/NASSP/Archive/CM 2021/OnlineNotes/uct_nassp_cm2021/book/_build/jupyter_execute/content/numerical-methods/regression/scipy_24_0.png"
      },
      "needs_background": "light"
     },
     "output_type": "display_data"
    }
   ],
   "source": [
    "#data\n",
    "\n",
    "#Parameters\n",
    "a = [1, 2, 0.2, np.pi]\n",
    "N = 50\n",
    "xlims = [0, 7]\n",
    "sigma_y = 0.15\n",
    "\n",
    "#Random data\n",
    "xdata = np.random.uniform(xlims[0], xlims[1], N)\n",
    "ydata = np.random.normal(loc = f_sin(a, xdata), scale = sigma_y)\n",
    "\n",
    "#Writing\n",
    "#np.savetxt('data/nonlinear_sine.csv', np.array((xdata, ydata)).T, header = 'x,y', delimiter = ',')\n",
    "\n",
    "#Plotting\n",
    "plt.plot(xdata, ydata, 'ro')\n",
    "plt.show()"
   ]
  },
  {
   "cell_type": "markdown",
   "metadata": {},
   "source": [
    "It is relatively easy to find a good fit using `leastsq`:"
   ]
  },
  {
   "cell_type": "code",
   "execution_count": 8,
   "metadata": {
    "tags": [
     "remove_input"
    ]
   },
   "outputs": [
    {
     "data": {
      "image/png": "[encoded data removed]",
      "text/plain": [
       "<Figure size 432x288 with 1 Axes>"
      ]
     },
     "metadata": {
      "filenames": {
       "image/png": "/home/mayhew/University/NASSP/Archive/CM 2021/OnlineNotes/uct_nassp_cm2021/book/_build/jupyter_execute/content/numerical-methods/regression/scipy_26_0.png"
      },
      "needs_background": "light"
     },
     "output_type": "display_data"
    }
   ],
   "source": [
    "a0 = [1, 2.5, 0.2 , 2]\n",
    "\n",
    "xdata, ydata = np.loadtxt('data/nonlinear_sine.csv', delimiter = ',', unpack = True)\n",
    "\n",
    "a,s = leastsq(err_sin, a0, args = (xdata, ydata))\n",
    "\n",
    "x_arr = np.linspace(xdata.min(), xdata.max(), 1000)\n",
    "\n",
    "fig, ax = plt.subplots()\n",
    "\n",
    "ax.plot(xdata, ydata, 'bo')\n",
    "ax.plot(x_arr, f_sin(a, x_arr), 'r-')\n",
    "\n",
    "ax.set_xlabel('x')\n",
    "ax.set_ylabel('y')\n",
    "\n",
    "plt.show()"
   ]
  },
  {
   "cell_type": "markdown",
   "metadata": {},
   "source": [
    "Here are a couple of examples of solutions that returns a supposedly successful solution, but have obviously not converged to the best fit."
   ]
  },
  {
   "cell_type": "code",
   "execution_count": 9,
   "metadata": {
    "tags": [
     "remove_input"
    ]
   },
   "outputs": [
    {
     "data": {
      "image/png": "[encoded data removed]",
      "text/plain": [
       "<Figure size 432x288 with 1 Axes>"
      ]
     },
     "metadata": {
      "filenames": {
       "image/png": "/home/mayhew/University/NASSP/Archive/CM 2021/OnlineNotes/uct_nassp_cm2021/book/_build/jupyter_execute/content/numerical-methods/regression/scipy_28_0.png"
      },
      "needs_background": "light"
     },
     "output_type": "display_data"
    }
   ],
   "source": [
    "a0 = [1, 2.5, 0.2 , 6]\n",
    "\n",
    "xdata, ydata = np.loadtxt('data/nonlinear_sine.csv', delimiter = ',', unpack = True)\n",
    "\n",
    "a,s = leastsq(err_sin, a0, args = (xdata, ydata))\n",
    "\n",
    "x_arr = np.linspace(xdata.min(), xdata.max(), 1000)\n",
    "\n",
    "fig, ax = plt.subplots()\n",
    "\n",
    "ax.plot(xdata, ydata, 'bo')\n",
    "ax.plot(x_arr, f_sin(a, x_arr), 'r-')\n",
    "\n",
    "ax.set_xlabel('x')\n",
    "ax.set_ylabel('y')\n",
    "\n",
    "plt.show()"
   ]
  },
  {
   "cell_type": "code",
   "execution_count": 10,
   "metadata": {
    "tags": [
     "remove_input"
    ]
   },
   "outputs": [
    {
     "data": {
      "image/png": "[encoded data removed]",
      "text/plain": [
       "<Figure size 432x288 with 1 Axes>"
      ]
     },
     "metadata": {
      "filenames": {
       "image/png": "/home/mayhew/University/NASSP/Archive/CM 2021/OnlineNotes/uct_nassp_cm2021/book/_build/jupyter_execute/content/numerical-methods/regression/scipy_29_0.png"
      },
      "needs_background": "light"
     },
     "output_type": "display_data"
    }
   ],
   "source": [
    "a0 = [1, 2.5, -1.3 , 2]\n",
    "\n",
    "xdata, ydata = np.loadtxt('data/nonlinear_sine.csv', delimiter = ',', unpack = True)\n",
    "\n",
    "a,s = leastsq(err_sin, a0, args = (xdata, ydata))\n",
    "\n",
    "x_arr = np.linspace(xdata.min(), xdata.max(), 1000)\n",
    "\n",
    "fig, ax = plt.subplots()\n",
    "\n",
    "ax.plot(xdata, ydata, 'bo')\n",
    "ax.plot(x_arr, f_sin(a, x_arr), 'r-')\n",
    "\n",
    "ax.set_xlabel('x')\n",
    "ax.set_ylabel('y')\n",
    "\n",
    "plt.show()"
   ]
  },
  {
   "cell_type": "markdown",
   "metadata": {},
   "source": [
    "Here is an example of a solution that has not succeded (returned an integer flag greater than 4):"
   ]
  },
  {
   "cell_type": "code",
   "execution_count": 11,
   "metadata": {
    "tags": [
     "remove_input"
    ]
   },
   "outputs": [
    {
     "name": "stderr",
     "output_type": "stream",
     "text": [
      "/home/mayhew/anaconda3/lib/python3.7/site-packages/scipy/optimize/minpack.py:449: RuntimeWarning: Number of calls to function has reached maxfev = 1000.\n",
      "  warnings.warn(errors[info][0], RuntimeWarning)\n"
     ]
    },
    {
     "data": {
      "image/png": "[encoded data removed]",
      "text/plain": [
       "<Figure size 432x288 with 1 Axes>"
      ]
     },
     "metadata": {
      "filenames": {
       "image/png": "/home/mayhew/University/NASSP/Archive/CM 2021/OnlineNotes/uct_nassp_cm2021/book/_build/jupyter_execute/content/numerical-methods/regression/scipy_31_1.png"
      },
      "needs_background": "light"
     },
     "output_type": "display_data"
    }
   ],
   "source": [
    "a0 = [1, 2.5, 0.2 , 1.17]\n",
    "\n",
    "xdata, ydata = np.loadtxt('data/nonlinear_sine.csv', delimiter = ',', unpack = True)\n",
    "\n",
    "a,s = leastsq(err_sin, a0, args = (xdata, ydata))\n",
    "\n",
    "x_arr = np.linspace(xdata.min(), xdata.max(), 1000)\n",
    "\n",
    "fig, ax = plt.subplots()\n",
    "\n",
    "ax.plot(xdata, ydata, 'bo')\n",
    "ax.plot(x_arr, f_sin(a, x_arr), 'r-')\n",
    "\n",
    "ax.set_xlabel('x')\n",
    "ax.set_ylabel('y')\n",
    "\n",
    "plt.show()"
   ]
  },
  {
   "cell_type": "markdown",
   "metadata": {},
   "source": [
    "If your model does not fit, try varying the initial guess for the fit parameters."
   ]
  },
  {
   "cell_type": "code",
   "execution_count": null,
   "metadata": {},
   "outputs": [],
   "source": []
  }
 ],
 "metadata": {
  "kernelspec": {
   "display_name": "Python 3.7.3 64-bit ('base': conda)",
   "language": "python",
   "name": "python37364bitbaseconda97808f46a65a4f1e9dfdbcff18a07fbf"
  },
  "language_info": {
   "codemirror_mode": {
    "name": "ipython",
    "version": 3
   },
   "file_extension": ".py",
   "mimetype": "text/x-python",
   "name": "python",
   "nbconvert_exporter": "python",
   "pygments_lexer": "ipython3",
   "version": "3.7.3"
  }
 },
 "nbformat": 4,
 "nbformat_minor": 4
}