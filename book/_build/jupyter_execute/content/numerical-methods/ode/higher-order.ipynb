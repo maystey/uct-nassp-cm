{
 "cells": [
  {
   "cell_type": "markdown",
   "metadata": {},
   "source": [
    "# Solving Higher Order ODEs"
   ]
  },
  {
   "cell_type": "markdown",
   "metadata": {},
   "source": [
    "## Second Order Differential Equations"
   ]
  },
  {
   "cell_type": "markdown",
   "metadata": {},
   "source": [
    "In general, if we wish to solve an ODE of the form\n",
    "\n",
    "$$\n",
    "\\frac{d^2y}{dx^2} = f\\left(x, y, \\frac{dy}{dx}\\right)\n",
    "$$\n",
    "\n",
    "<!--- Problem with notation!!!!!!!!!! --->\n",
    "with initial conditions $y(x = x_0) = y_0$ and $y^\\prime(x = x_0) = y^\\prime_0$ ,\n",
    "we can transform these into a system of coupled first order equations by introducing the variable:\n",
    "\n",
    "$$\n",
    "v = \\frac{dy}{dx}\n",
    "$$\n",
    "\n",
    "which gives us the equations:\n",
    "\n",
    "$$\n",
    "\\begin{align*}\n",
    "\\frac{dy}{dx} &= v\\\\\n",
    "\\frac{dv}{dx} &= f(x, y, v)\\\\\n",
    "\\end{align*}\n",
    "$$\n",
    "\n",
    "with the initial conditions\n",
    "\n",
    "As the ODE for $y$ depends on $v$ and the ODE for $v$ depends on $y$, these equations need to be integrated simultaneously."
   ]
  },
  {
   "cell_type": "markdown",
   "metadata": {},
   "source": [
    "### Worked Example"
   ]
  },
  {
   "cell_type": "markdown",
   "metadata": {},
   "source": [
    "Consider second order ODE:\n",
    "\n",
    "$$\n",
    "\\frac{d^2 y}{dt^2} + 10 \\frac{dy}{dt} + 100y = 100 |\\sin(t)|\n",
    "$$\n",
    "\n",
    "which we wish to solve for the initial conditions $y = 0.1$, $dy/dx = -0.5$ at $t = 0$.\n",
    "\n",
    "Firstly let's rearrange the equation to make $y^{\\prime\\prime}$ the subject:\n",
    "\n",
    "$$\n",
    "\\frac{d^2 y}{dt^2} = 100 |\\sin(t)| - 10 \\frac{dy}{dt} - 100 y\n",
    "$$\n",
    "\n",
    "We start by introducing the variables:\n",
    "\n",
    "$$\n",
    "\\begin{align*}\n",
    "v_0 &= y\\\\\n",
    "v_1 &= \\frac{dy}{dt} = \\frac{d v_0}{dt}\\\\\n",
    "\\end{align*}\n",
    "$$\n",
    "\n",
    "in order to reduce the second order ODE to a coupled system of two first order ODEs:\n",
    "\n",
    "$$\n",
    "\\begin{align*}\n",
    "\\frac{d v_0}{dt} &= v_1\\\\\n",
    "\\frac{d v_1}{dt} &= 100|sin(t)| - 10 v_1 - 100 v_0\n",
    "\\end{align*}\n",
    "$$\n"
   ]
  },
  {
   "cell_type": "code",
   "execution_count": 1,
   "metadata": {
    "execution": {
     "iopub.execute_input": "2020-11-24T18:50:41.295660Z",
     "iopub.status.busy": "2020-11-24T18:50:41.290314Z",
     "iopub.status.idle": "2020-11-24T18:50:41.605713Z",
     "shell.execute_reply": "2020-11-24T18:50:41.606049Z"
    }
   },
   "outputs": [
    {
     "data": {
      "text/plain": [
       "<Figure size 640x500 with 2 Axes>"
      ]
     },
     "metadata": {},
     "output_type": "display_data"
    }
   ],
   "source": [
    "import numpy as np\n",
    "import matplotlib.pyplot as plt\n",
    "\n",
    "t0, y0, v0 = 0, 0.1, -0.5 #initial conditions\n",
    "h = 0.05 #step size\n",
    "t_end = 10\n",
    "\n",
    "\n",
    "#The ODE function\n",
    "def f1(t, y, v):\n",
    "    return v\n",
    "\n",
    "def f2(t, y, v):\n",
    "    return 100*np.abs(np.sin(t)) - 10 * v - 100 * y\n",
    "\n",
    "\n",
    "#Constructing the arrays:\n",
    "t_arr = np.arange(t0, t_end + h, h) #make sure it goes up to and including x_end\n",
    "\n",
    "y_arr = np.zeros(t_arr.shape)\n",
    "v_arr = np.zeros(t_arr.shape)\n",
    "\n",
    "#Setting the initial conditions\n",
    "y_arr[0] = y0\n",
    "v_arr[0] = v0\n",
    "\n",
    "#Performing the Euler method, note we don't use the last x value in the update calculations\n",
    "for i,t in enumerate(t_arr[:-1]):\n",
    "    y_arr[i + 1] = y_arr[i] + h * f1(t, y_arr[i], v_arr[i])\n",
    "    v_arr[i + 1] = v_arr[i] + h * f2(t, y_arr[i], v_arr[i])\n",
    "    \n",
    "##Plotting both curves\n",
    "fig, ax = plt.subplots(2,1, sharex = True, figsize = (6.4, 5))\n",
    "\n",
    "ax[0].plot(t_arr, y_arr)\n",
    "\n",
    "ax[0].set_ylabel('y(t)')\n",
    "\n",
    "ax[1].plot(t_arr, v_arr)\n",
    "\n",
    "ax[1].set_xlabel('t')\n",
    "ax[1].set_ylabel(\"y'(t)\")\n",
    "\n",
    "plt.show()"
   ]
  },
  {
   "cell_type": "markdown",
   "metadata": {},
   "source": [
    "In the solution above we used separate variables to store the values for $y(x)$ and $v(x)$. In the example below, we shall see that it is more practical to store these values in a single 2D array."
   ]
  },
  {
   "cell_type": "markdown",
   "metadata": {},
   "source": [
    "## Higher Order Differential Equations"
   ]
  },
  {
   "cell_type": "markdown",
   "metadata": {},
   "source": [
    "We can extend this technique of creating a system of coupled first order equations to an ODE of arbitrary order:\n",
    "\n",
    "$$\n",
    "\\frac{d^n y}{d x^n} =  f\\left(x, \\frac{d y}{dx}, \\frac{d^2y}{dx^2}, \\frac{d^3y}{dx^3}, \\dots, \\frac{d^{n-1} y}{dx^{n-1}} \\right)\n",
    "$$\n",
    "\n",
    "with initial conditions\n",
    "\n",
    "$$\n",
    "y(x = x_0) = y_0 ~~~~~~ \\frac{dy}{dx}(x = x_0) = y^\\prime_0 ~~~~~~ \\frac{d^2y}{dx^2}(x = x_0) = y^{\\prime\\prime}_0 ~~~~~~ \\dots ~~~~~~ \\frac{d^{n-1}y}{dx^{n-1}}(x = x_0) = y^{(n-1)}_0\n",
    "$$\n",
    "\n",
    "We start by introducing the variables:\n",
    "\n",
    "$$\n",
    "v_0 = y ~~~~~~ v_1 = \\frac{dy}{dx} ~~~~~~ v_2 = \\frac{d^2y}{dx^2} ~~~~~~ \\dots ~~~~~ v_{n-1} = \\frac{d^{n-1}y}{dx^{n-1}}\n",
    "$$\n",
    "\n",
    "we can transform the order $n$ ODE to a set of $n$ first order coupled differential equations:\n",
    "\n",
    "$$\n",
    "\\begin{align*}\n",
    "\\frac{dv_0}{dx} &= v_1\\\\\n",
    "\\frac{dv_1}{dx} &= v_2\\\\\n",
    "\\frac{dv_2}{dx} &= v_3\\\\\n",
    "                &\\vdots\\\\\n",
    "\\frac{dv_{n-2}}{dx} &= v_{n-1}\\\\\n",
    "\\frac{dv_{n-1}}{dx} &= f(x, v_0, v_1, v_2, v_3, \\dots, v_{n-2}, v_{n-1})\\\\\n",
    "\\end{align*}\n",
    "$$\n",
    "\n",
    "As the subscripts suggest, it is practical to store the $v_i$ values in a vector. \n",
    "\n",
    "These equations can be integrated simultaneously, and the solution for $y$ given by $v_0$."
   ]
  },
  {
   "cell_type": "markdown",
   "metadata": {},
   "source": [
    "### Worked Example"
   ]
  },
  {
   "cell_type": "markdown",
   "metadata": {},
   "source": [
    "Consider the order 3 ODE:\n",
    "\n",
    "$$\n",
    "\\frac{d^3 y}{dx^3} + y \\frac{d^2 y}{dx^2} = 0\n",
    "$$\n",
    "\n",
    "with the initial conditions $y = 1$, $\\tfrac{d}{dx}y = 0.5$ and $\\tfrac{d^2}{dx^2} y = 0.7$ at $x = 0$.\n",
    "\n",
    "To solve this we introduce the variables:\n",
    "\n",
    "$$\n",
    "\\begin{align*}\n",
    "y_0 &= y\\\\\n",
    "y_1 &= \\frac{d y}{dx}\\\\\n",
    "y_2 &= \\frac{d^2y}{dx^2}\n",
    "\\end{align*}\n",
    "$$\n",
    "\n",
    "This gives us the system of equations:\n",
    "\n",
    "$$\n",
    "\\begin{align*}\n",
    "\\frac{dy_0}{dx} &= y_1\\\\\n",
    "\\frac{dy_1}{dx} &= y_2\\\\\n",
    "\\frac{dy_2}{dx} &= -y_0 y_2\n",
    "\\end{align*}\n",
    "$$\n",
    "\n",
    "The solution in Python is:"
   ]
  },
  {
   "cell_type": "code",
   "execution_count": 2,
   "metadata": {
    "execution": {
     "iopub.execute_input": "2020-11-24T18:50:41.639222Z",
     "iopub.status.busy": "2020-11-24T18:50:41.636307Z",
     "iopub.status.idle": "2020-11-24T18:50:42.154441Z",
     "shell.execute_reply": "2020-11-24T18:50:42.153997Z"
    }
   },
   "outputs": [
    {
     "data": {
      "image/png": "[encoded data removed]",
      "text/plain": [
       "<Figure size 432x288 with 1 Axes>"
      ]
     },
     "metadata": {
      "filenames": {
       "image/png": "/home/mayhew/Dropbox/Nassp/CM2021/OnlineNotes/uct_nassp_cm2021/book/_build/jupyter_execute/content/numerical-methods/ode/higher-order_11_0.png"
      },
      "needs_background": "light"
     },
     "output_type": "display_data"
    },
    {
     "data": {
      "image/png": "[encoded data removed]",
      "text/plain": [
       "<Figure size 460.8x720 with 3 Axes>"
      ]
     },
     "metadata": {
      "filenames": {
       "image/png": "/home/mayhew/Dropbox/Nassp/CM2021/OnlineNotes/uct_nassp_cm2021/book/_build/jupyter_execute/content/numerical-methods/ode/higher-order_11_1.png"
      },
      "needs_background": "light"
     },
     "output_type": "display_data"
    }
   ],
   "source": [
    "import numpy as np\n",
    "import matplotlib.pyplot as plt\n",
    "\n",
    "x0, y0 = 0, [1, 0.5, 0.7] #initial conditions\n",
    "h = 0.05\n",
    "x_end = 1\n",
    "\n",
    "##The ODE function (takes y as an array and returns an array of values)\n",
    "\n",
    "def f(x, y):\n",
    "    return np.array([\n",
    "        y[1],\n",
    "        y[2],\n",
    "        - y[0] * y[2],\n",
    "    ])\n",
    "\n",
    "\n",
    "#Contructing the arrays\n",
    "x_arr = np.arange(x0, x_end + h, h)\n",
    "\n",
    "y_arr = np.zeros((x_arr.size, len(y0))) #Using y instead of v as there is no ambiguity\n",
    "y_arr[0, :] = y0 #setting the initial conditions\n",
    "\n",
    "\n",
    "#Performing the Euler method, note we don't use the last x value in the update calculations\n",
    "for i,x in enumerate(x_arr[:-1]):\n",
    "    y_arr[i+1, :] = y_arr[i, :] + h*f(x, y_arr[i, :])\n",
    "\n",
    "    \n",
    "##Plotting the solution for y(x) only\n",
    "fig1, ax1 = plt.subplots()\n",
    "\n",
    "ax1.plot(x_arr, y_arr[:, 0])\n",
    "\n",
    "ax1.set_xlabel('x')\n",
    "ax1.set_ylabel('y(x)')\n",
    "\n",
    "plt.show()\n",
    "\n",
    "##Plotting the solutions to the derivatives\n",
    "fig2, ax2 = plt.subplots(len(y0),1, sharex = True, figsize = (6.4, 10))\n",
    "\n",
    "\n",
    "for i in range(len(y0)):\n",
    "    ax2[i].plot(x_arr, y_arr[:, i])\n",
    "    \n",
    "    ax2[i].set_ylabel('y{}(x)'.format(\"'\"*i))\n",
    "\n",
    "ax2[-1].set_xlabel('x')\n",
    "\n",
    "plt.show()"
   ]
  },
  {
   "cell_type": "code",
   "execution_count": null,
   "metadata": {},
   "outputs": [],
   "source": []
  }
 ],
 "metadata": {
  "kernelspec": {
   "display_name": "Python 3.7.3 64-bit ('base': conda)",
   "language": "python",
   "name": "python37364bitbaseconda97808f46a65a4f1e9dfdbcff18a07fbf"
  },
  "language_info": {
   "codemirror_mode": {
    "name": "ipython",
    "version": 3
   },
   "file_extension": ".py",
   "mimetype": "text/x-python",
   "name": "python",
   "nbconvert_exporter": "python",
   "pygments_lexer": "ipython3",
   "version": "3.7.3"
  }
 },
 "nbformat": 4,
 "nbformat_minor": 4
}