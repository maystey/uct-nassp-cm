{
 "cells": [
  {
   "cell_type": "code",
   "execution_count": 1,
   "metadata": {
    "tags": [
     "remove_cell"
    ]
   },
   "outputs": [],
   "source": [
    "%matplotlib inline\n",
    "import numpy as np\n",
    "import matplotlib.pyplot as plt\n",
    "\n",
    "from scipy.optimize import curve_fit"
   ]
  },
  {
   "cell_type": "markdown",
   "metadata": {},
   "source": [
    "# Fitting Models to Data with `scipy.optimize.curve_fit`"
   ]
  },
  {
   "cell_type": "markdown",
   "metadata": {},
   "source": [
    "The [`curve_fit`](https://docs.scipy.org/doc/scipy/reference/generated/scipy.optimize.curve_fit.html#scipy.optimize.curve_fit) function uses non-linear least squares minimization to fit a function to data (making use of the `least_squares` function). Though we demonstrated how to do this on the previous page using the `least_squares` function, the `curve_fit` function is far more convenient to use for this purpose."
   ]
  },
  {
   "cell_type": "markdown",
   "metadata": {},
   "source": [
    "The call signature of `curve_fit` (including only the arguments of immediate interest to us) is:\n",
    "\n",
    "```python\n",
    "curve_fit(f, xdata, ydata, p0=None, sigma=None, ..., bounds=(- np.inf, np.inf))\n",
    "```\n",
    "\n",
    "where\n",
    "\n",
    "- `f` is the function for the model being fitted to the data, i.e. $y = f(x, \\vec{a})$. It has the call signature `f(xdata, *params)`, where `params` are the model parameters which need to be found for the fit (in our previous notation, the $a_j$ values).\n",
    "- `xdata` is the data for the independent variable.\n",
    "- `ydata` is the data for the dependent variable.\n",
    "- `p0` is the initial guess for the model parameters ($a_j$).\n",
    "- `sigma` is the uncertainty in the `ydata`. If this is not `None`, then `curve_fit` will use $\\chi^2$ minimization.\n",
    "- `bounds` is a tuple of 2 arrays for the lower and upper bounds of the parameters (the same use as in `least_squares`).\n",
    "\n",
    "The `curve_fit` function returns a tuple where the first element is an array of the values for the model parameters which best fit the data.\n",
    "\n",
    "<!--\n",
    "The `curve_fit` function returns a tuple with the elements:\n",
    "\n",
    "- `popt`: array of the values for the model parameters which best fit the data.\n",
    "- `pcov`: the estimated \n",
    "-->"
   ]
  },
  {
   "cell_type": "markdown",
   "metadata": {},
   "source": [
    "<div class=\"worked-example\">\n",
    "    <h5 class=\"worked-example-title\"><b>Worked Example</b></h5>"
   ]
  },
  {
   "cell_type": "markdown",
   "metadata": {},
   "source": [
    "Let's use `curve_fit` to fit the previous functional relation:\n",
    "\n",
    "\\begin{align*}\n",
    "y &= a_0 + a_1 e^{a_2 x}\\\\\n",
    "  &= f(x; \\vec{a}) \n",
    "\\end{align*}\n",
    "\n",
    "to the **nonlinear_data.csv** data.\n",
    "\n",
    "Unlike when using `least_squares`, we don't have to define the residual function, only the functional relation:\n",
    "\n",
    "```Python\n",
    "def f(x, a):\n",
    "    return a[0] + a[1] * np.exp(a[2] * x)\n",
    "```"
   ]
  },
  {
   "cell_type": "code",
   "execution_count": 2,
   "metadata": {},
   "outputs": [
    {
     "data": {
      "image/png": "[encoded data removed]",
      "text/plain": [
       "<Figure size 432x288 with 1 Axes>"
      ]
     },
     "metadata": {
      "filenames": {
       "image/png": "/home/mayhew/University/NASSP/Archive/CM 2021/OnlineNotes/uct_nassp_cm2021/book/_build/jupyter_execute/content/numerical-methods/curve-fitting/scipy-curve-fit_6_0.png"
      },
      "needs_background": "light"
     },
     "output_type": "display_data"
    }
   ],
   "source": [
    "import numpy as np\n",
    "import matplotlib.pyplot as plt\n",
    "\n",
    "#importing scipy.optimize.leastsq only\n",
    "from scipy.optimize import curve_fit\n",
    "\n",
    "#The model to fit to the data\n",
    "def f(x, *a):\n",
    "    return a[0] + a[1] * np.exp(a[2] * x)\n",
    "\n",
    "#Reading the data\n",
    "# The `unpack` keyword argument seperates the columns into individual arrays \n",
    "xdata, ydata = np.loadtxt('data/nonlinear_data.csv', delimiter = ',', unpack = True) \n",
    "\n",
    "#Performing the fit\n",
    "a0 = [1.5, 0.6, 0.2] #initial guess\n",
    "\n",
    "fit = curve_fit(f, xdata, ydata, a0)\n",
    "\n",
    "#Plotting the fit and data\n",
    "x = np.linspace(xdata.min(), xdata.max(), 1000)\n",
    "\n",
    "plt.plot(xdata, ydata, 'bo')\n",
    "plt.plot(x, f(x, *fit[0]), 'r-')\n",
    "plt.xlabel('x')\n",
    "plt.ylabel('y')\n",
    "plt.show()"
   ]
  },
  {
   "cell_type": "markdown",
   "metadata": {},
   "source": [
    "</div>"
   ]
  }
 ],
 "metadata": {
  "kernelspec": {
   "display_name": "Python 3",
   "language": "python",
   "name": "python3"
  },
  "language_info": {
   "codemirror_mode": {
    "name": "ipython",
    "version": 3
   },
   "file_extension": ".py",
   "mimetype": "text/x-python",
   "name": "python",
   "nbconvert_exporter": "python",
   "pygments_lexer": "ipython3",
   "version": "3.9.6"
  }
 },
 "nbformat": 4,
 "nbformat_minor": 4
}