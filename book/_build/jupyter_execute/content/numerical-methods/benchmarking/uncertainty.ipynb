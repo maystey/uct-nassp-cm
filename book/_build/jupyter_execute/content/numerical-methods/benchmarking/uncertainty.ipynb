{
 "cells": [
  {
   "cell_type": "markdown",
   "metadata": {},
   "source": [
    "# Measurement and Uncertainty\n",
    "\n",
    "This section is a summary of some key points that are relevant to this course taken from the UCT Physics laboratory manual {cite}`nm-b-u-phy-gum`."
   ]
  },
  {
   "cell_type": "markdown",
   "metadata": {},
   "source": [
    "## Measurements\n",
    "When taking a physical measurement of a quantity (the **measurand**), the value you acquire is only a best approximation of the \"true value\" of the quantity (if that even exists for the given measurement). \n",
    "\n",
    "Many factors, from the precision of your apparatus to random or systematic noise, introduce some form of **uncertainty** to your measurand. That is a quantifiable measure of the interval in which the \"true value\" for your measurand may lie with knowledge of the probability of it lying in that interval.<!--- Needs editing -->"
   ]
  },
  {
   "cell_type": "markdown",
   "metadata": {},
   "source": [
    "## Sources of Uncertainty in Computing\n",
    "\n",
    "Seeing as we are working with computers, we don't have measurement apparatus to worry about. There are, however, other sources to consider.\n",
    "\n",
    "### Precision of Data Values\n",
    "Floating point numbers can only approximately represent a real numbers and have a finite precision due to having finite memory available.\n",
    "\n",
    "Although we generally won't have to worry about the precision of our floats in this course. Be careful when preforming numerical operations (especially division) that intermediate values don't become too small. <!--- ellaborate: enlarge inaccuracies by multiplying etc -->\n",
    "\n",
    "### Background Processes\n",
    "If you are using a personal computer with an operating system there are always going to be background processes being preformed. These processes (however light they may be) are competing with your programs for resources.\n",
    "\n",
    "This is especially relevant when you are running benchmarks for your code (time it takes to complete execution, memory use, etc.).\n",
    "\n",
    "This form of uncertainty can be quite noisy and thus treated as **Type A** uncertainty (see the section below).<!--- Type A -->\n",
    "\n",
    "### Error or Approximations in Numerical Solutions\n",
    "Every numerical solution or simulation contains some approximation. This leads to uncertainty in the results you've acquired. How you handle this uncertainty depends on the particular method in question."
   ]
  },
  {
   "cell_type": "markdown",
   "metadata": {},
   "source": [
    "## Type A Uncertainty\n",
    "\n",
    "Sometimes you encounter fluctuation in your measurements of a single measurand. If this dispersion is unavoidable, the recommended approach is to take a data set of repeated measurements.\n",
    "\n",
    "In many cases, given enough data points, the data will appear to follow a Gaussian probability distribution function (plot the data in a histogram if you're not sure).\n",
    "\n",
    "Here we will denote the data set as ${x_i}$ where $i = 1, 2, 3, \\dots, N$ (there are $N$ data points). <!--- Show a typical histogram for this data -->\n",
    "\n",
    "The Gaussian probability distribution function is:"
   ]
  },
  {
   "cell_type": "markdown",
   "metadata": {},
   "source": [
    "$$\n",
    "p(x) = \\frac{1}{\\sigma \\sqrt{2 \\pi}}~\\exp\\bigg(-\\frac{1}{2}\\Big(\\frac{x - \\mu}{\\sigma}\\Big)^2\\bigg)\n",
    "$$"
   ]
  },
  {
   "cell_type": "markdown",
   "metadata": {},
   "source": [
    "where $\\exp$ is the natural exponential function, $x$ is a possible value of a data point, $\\mu$ is the first moment of the distribution and $\\sigma^2$ is the second moment of the distribution.\n",
    "\n",
    "<!--- Mention the approximation using data later  or rather that the histogram should roughly match this-->"
   ]
  },
  {
   "cell_type": "code",
   "execution_count": 1,
   "metadata": {
    "tags": [
     "remove_input"
    ]
   },
   "outputs": [
    {
     "data": {
      "image/png": "[encoded data removed]",
      "text/plain": [
       "<Figure size 432x288 with 1 Axes>"
      ]
     },
     "metadata": {
      "filenames": {
       "image/png": "/home/mayhew/Dropbox/Nassp/CM2021/OnlineNotes/uct_nassp_cm2021/book/_build/jupyter_execute/content/numerical-methods/benchmarking/uncertainty_6_0.png"
      },
      "needs_background": "light"
     },
     "output_type": "display_data"
    }
   ],
   "source": [
    "##Plot of a Gaussian (hide input)\n",
    "import numpy as np\n",
    "import matplotlib.pyplot as plt\n",
    "\n",
    "mu = 0\n",
    "sigma = 1\n",
    "x = np.linspace(-2.5*sigma, 2.5*sigma, 1000)\n",
    "xticks = [0]\n",
    "xlabels = [r'$\\mu$']\n",
    "fs = 16\n",
    "\n",
    "def gauss(x, mean, std_dev):\n",
    "    return 1/std_dev/np.sqrt(2*np.pi) * np.exp(-0.5*(x - mean)**2/std_dev/std_dev)\n",
    "\n",
    "fig, ax = plt.subplots()\n",
    "\n",
    "ax.plot(x, gauss(x, mu, sigma), color = 'black', linewidth = 2)\n",
    "\n",
    "\n",
    "ax.set_ylim([0, 1.05*gauss(mu, mu, sigma)])\n",
    "\n",
    "ax.set_xticks(xticks)\n",
    "ax.set_xticklabels(xlabels, fontsize = fs)\n",
    "ax.set_yticks([])\n",
    "\n",
    "ax.set_xlabel('x', fontsize = fs)\n",
    "ax.set_ylabel('p(x)', fontsize = fs)\n",
    "\n",
    "plt.show()"
   ]
  },
  {
   "cell_type": "markdown",
   "metadata": {},
   "source": [
    "As you can see illustrated in the figure above, the Gaussian peaks around $x = \\mu$. We could say the most likely value of $x$ lies in an interval around $\\mu$ (continuous probability distribution functions represent probability densities).\n",
    "\n",
    "<!---\n",
    "In our histogram of the data we expect the bin with the highest frequency to contain $\\mu$.\n",
    "--->\n",
    "\n",
    "For Gaussian distributed data, such as ${x_i}$, we can approximate $\\mu$ using the arithmetic mean, $\\bar{x}$:"
   ]
  },
  {
   "cell_type": "markdown",
   "metadata": {},
   "source": [
    "$$\n",
    "\\bar{x} = \\frac{1}{N} \\sum_{i=1}^{N} x_i\n",
    "$$"
   ]
  },
  {
   "cell_type": "markdown",
   "metadata": {},
   "source": [
    "This value will be taken as our **best approximation** of the value of the measurand.\n",
    "\n",
    "$\\sigma^2$ can be approximated by the variance of the data:\n",
    "\n",
    "$$\n",
    "\\frac{1}{N-1}\\sum_{i=1}^{N} (x - \\bar{x})^2\n",
    "$$\n",
    "\n",
    "The variance gives us a measure of the spread of the data (it is essentially the average square distance of each data point from the mean). Note the division by $N-1$ and not $N$.\n",
    "\n",
    "Of more immediate use to us is the square root of the variance, or the **experimental standard deviation** $s(d)$:"
   ]
  },
  {
   "cell_type": "markdown",
   "metadata": {},
   "source": [
    "$$\n",
    "s(x) = \\sqrt{\\frac{1}{N-1} \\sum_{i = 1}^{N} (x - \\bar{x})^2}\n",
    "$$"
   ]
  },
  {
   "cell_type": "markdown",
   "metadata": {},
   "source": [
    "But how do we use $s(x)$, a measure of the spread of our data ${x_i}$, to determine the uncertainty of our best approximation of the value of the measurand $\\bar{x}$?"
   ]
  },
  {
   "cell_type": "markdown",
   "metadata": {},
   "source": [
    "### Coverage Probability"
   ]
  },
  {
   "cell_type": "markdown",
   "metadata": {},
   "source": [
    "Now we need to consider the uncertainty of this best approximation. The uncertainty will represent an interval around our best approximation of the value of the measurand in which we have some confidence that the \"true value\" lies.\n",
    "\n",
    "We can quantify this interval by looking back at our pdf. If we take the area under $p(x)$ for a given interval that tells us the probability of finding $x$ in that interval.\n",
    "\n",
    "For example, taking an interval of $[\\mu - \\sigma, \\mu + \\sigma]$ (or $\\mu \\pm \\sigma$) gives us a probability of $68\\%$ (or rather the value of the area is 0.68). That is the probability of finding any $x$ value inside that interval. <!--- Show gaussians with different sigmas to illustrate how it characterises the spread of data --->"
   ]
  },
  {
   "cell_type": "code",
   "execution_count": 2,
   "metadata": {
    "tags": [
     "remove_input"
    ]
   },
   "outputs": [
    {
     "data": {
      "image/png": "[encoded data removed]",
      "text/plain": [
       "<Figure size 432x288 with 1 Axes>"
      ]
     },
     "metadata": {
      "filenames": {
       "image/png": "/home/mayhew/Dropbox/Nassp/CM2021/OnlineNotes/uct_nassp_cm2021/book/_build/jupyter_execute/content/numerical-methods/benchmarking/uncertainty_14_0.png"
      },
      "needs_background": "light"
     },
     "output_type": "display_data"
    }
   ],
   "source": [
    "##Plot of a Gaussian with 68% confidence area shaded (hide input)\n",
    "import numpy as np\n",
    "import matplotlib.pyplot as plt\n",
    "\n",
    "mu = 0\n",
    "sigma = 1\n",
    "\n",
    "xticks = [0, -sigma, sigma]\n",
    "xlabels = [r'$\\mu$', r'$-\\sigma$', r'$\\sigma$']\n",
    "fs = 16\n",
    "\n",
    "x = np.linspace(-2.5*sigma, 2.5*sigma, 1000)\n",
    "x_area = np.linspace(-sigma, sigma, 500)\n",
    "\n",
    "def gauss(x, mean, std_dev):\n",
    "    return 1/std_dev/np.sqrt(2*np.pi) * np.exp(-0.5*(x - mean)**2/std_dev/std_dev)\n",
    "\n",
    "fig, ax = plt.subplots()\n",
    "\n",
    "ax.fill_between(x_area, gauss(x_area, mu, sigma), color = '0.7')\n",
    "\n",
    "ax.plot([-sigma, -sigma], \n",
    "        [0, gauss(-sigma, mu, sigma)], \n",
    "        color = 'black', ls = '--')\n",
    "ax.plot([sigma, sigma], \n",
    "        [0, gauss(sigma, mu, sigma)], \n",
    "        color = 'black', ls = '--')\n",
    "\n",
    "ax.plot(x, gauss(x, mu, sigma), color = 'black', linewidth = 2)\n",
    "\n",
    "ax.set_ylim([0, 1.05*gauss(mu, mu, sigma)])\n",
    "ax.set_xticks(xticks)\n",
    "ax.set_xticklabels(xlabels, fontsize = fs)\n",
    "ax.set_yticks([])\n",
    "\n",
    "ax.set_xlabel('x', fontsize = fs)\n",
    "ax.set_ylabel('p(x)', fontsize = fs)\n",
    "\n",
    "plt.show()"
   ]
  },
  {
   "cell_type": "markdown",
   "metadata": {},
   "source": [
    "This interval is often used for quoting the coverage probability of a measured variable $x$. Sometimes an interval of $\\mu \\pm 2\\sigma$ is used, which gives us a coverage probability of $95%$ (though normally the narrower interval of $1\\sigma$ is preferred).\n",
    "\n",
    "Note that, for a Gaussian distribution, $100\\%$ coverage requires an infinitely large interval and is thus meaningless."
   ]
  },
  {
   "cell_type": "markdown",
   "metadata": {},
   "source": [
    "Remember that $\\sigma$ characterizes the width of the Gaussian, so this interval is also an indication of the spread of the measured data (illustrated below, each region has an area of 0.68 and the scale is maintained):"
   ]
  },
  {
   "cell_type": "code",
   "execution_count": 3,
   "metadata": {
    "tags": [
     "remove_input"
    ]
   },
   "outputs": [
    {
     "data": {
      "image/png": "[encoded data removed]",
      "text/plain": [
       "<Figure size 921.6x345.6 with 3 Axes>"
      ]
     },
     "metadata": {
      "filenames": {
       "image/png": "/home/mayhew/Dropbox/Nassp/CM2021/OnlineNotes/uct_nassp_cm2021/book/_build/jupyter_execute/content/numerical-methods/benchmarking/uncertainty_17_0.png"
      },
      "needs_background": "light"
     },
     "output_type": "display_data"
    }
   ],
   "source": [
    "##Plot of a Gaussians with 68% confidence area shaded (hide input)\n",
    "#Come back and improve this (set fig size, ect)\n",
    "import numpy as np\n",
    "import matplotlib.pyplot as plt\n",
    "\n",
    "mu = 0\n",
    "sigmas = [0.5, 1, 2]\n",
    "\n",
    "xlabels = [r'$\\mu$', r'$-\\sigma$', r'$\\sigma$']\n",
    "fs = 20\n",
    "\n",
    "x = np.linspace(-2.5, 2.5, 1000)\n",
    "\n",
    "\n",
    "def gauss(x, mean, std_dev):\n",
    "    return 1/std_dev/np.sqrt(2*np.pi) * np.exp(-0.5*(x - mean)**2/std_dev/std_dev)\n",
    "\n",
    "fig, ax = plt.subplots(1, 3, sharey = True , figsize = (12.8, 4.8))\n",
    "\n",
    "for i,sigma in enumerate(sigmas):\n",
    "    x_area = np.linspace(-sigma, sigma, 500)\n",
    "\n",
    "    ax[i].fill_between(x_area, gauss(x_area, mu, sigma), color = '0.7')\n",
    "\n",
    "    ax[i].plot([-sigma, -sigma], \n",
    "            [0, gauss(-sigma, mu, sigma)], \n",
    "            color = 'black', ls = '--')\n",
    "    ax[i].plot([sigma, sigma], \n",
    "            [0, gauss(sigma, mu, sigma)], \n",
    "            color = 'black', ls = '--')\n",
    "\n",
    "    ax[i].plot(x, gauss(x, mu, sigma), color = 'black', linewidth = 2)\n",
    "\n",
    "    ax[i].set_xticks([0, -sigma, sigma])\n",
    "    ax[i].set_xticklabels(xlabels, fontsize = fs)\n",
    "\n",
    "    ax[i].set_xlabel('x', fontsize = fs)\n",
    "    ax[i].set_title(f'$\\\\sigma = {sigma}$', fontsize = fs)\n",
    "\n",
    "ax[0].set_ylim([0, 1.05*gauss(mu, mu, min(sigmas))])\n",
    "ax[0].set_ylabel('p(x)', fontsize = fs)\n",
    "ax[0].set_yticks([])\n",
    "\n",
    "plt.show()"
   ]
  },
  {
   "cell_type": "markdown",
   "metadata": {},
   "source": [
    "So how do we turn an interval with a coverage probability of $68\\%$ into an uncertainty? \n",
    "\n",
    "Firstly, for our data set of measured $x_i$ values, the value of our measurand is approximated as the arithmetic mean of the data, $\\bar{x}$. We are, therefore, not interested in the spread of the $x_i$ values, but rather the spread in possible values of $\\bar{x}$.\n",
    "\n",
    "If we want to quote the interval with a coverage probability of $68\\%$  (the standard uncertainty) for $\\bar{x}$, we will need to calculate $s(\\bar{x})$ (an approximation of $\\sigma$ for the distribution of possible $\\bar{x}$ values). This can be calculated using the relationship:"
   ]
  },
  {
   "cell_type": "markdown",
   "metadata": {},
   "source": [
    "$$\n",
    "s(\\bar{x}) = \\frac{s(x)}{\\sqrt{N}}\n",
    "$$"
   ]
  },
  {
   "cell_type": "markdown",
   "metadata": {},
   "source": [
    "<!--- where $N$ is the number of data values in our data set. --->\n",
    "\n",
    "This result is derived by taking samples of the data set and calculating the variance of the mean values of the samples. The derivation is not included in these notes."
   ]
  },
  {
   "cell_type": "markdown",
   "metadata": {},
   "source": [
    "### In Summary"
   ]
  },
  {
   "cell_type": "markdown",
   "metadata": {},
   "source": [
    "For a data set ${x_i}$ where $i = 1, 2, 3, \\dots, N$ of measured values, if the data is Gaussian distributed, the **best approximation** for the value of the **measurand** is the **arithmetic mean**:"
   ]
  },
  {
   "cell_type": "markdown",
   "metadata": {},
   "source": [
    "$$\n",
    "\\bar{x} = \\frac{1}{N} \\sum_{i = 1}^{N}\n",
    "$$"
   ]
  },
  {
   "cell_type": "markdown",
   "metadata": {},
   "source": [
    "The **standard uncertainty** for the mean value is given by the **experimental standard deviation of the mean**:"
   ]
  },
  {
   "cell_type": "markdown",
   "metadata": {},
   "source": [
    "$$\n",
    "u(\\bar{x}) = s(\\bar{x}) = \\frac{s(x)}{\\sqrt{N}}\n",
    "$$"
   ]
  },
  {
   "cell_type": "markdown",
   "metadata": {},
   "source": [
    "which gives us a $68\\%$ probability coverage."
   ]
  },
  {
   "cell_type": "markdown",
   "metadata": {},
   "source": [
    "$s(x)$ is the **experimental standard deviation** of the data:"
   ]
  },
  {
   "cell_type": "markdown",
   "metadata": {},
   "source": [
    "$$\n",
    "s(x) = \\sqrt{\\frac{1}{N-1} \\sum_{i = 1}^{N} (x - x_i)^2}\n",
    "$$"
   ]
  },
  {
   "cell_type": "markdown",
   "metadata": {},
   "source": [
    "(Note: when using `numpy.std()` to calculate $s(x)$, make sure to set the keyword argument `ddof = 1`, as the divisor is given by `N - ddof`. See the [documentation](https://docs.scipy.org/doc/numpy/reference/generated/numpy.std.html) for more.)"
   ]
  },
  {
   "cell_type": "markdown",
   "metadata": {},
   "source": [
    "## Quoting a Measurement With It's Uncertainty"
   ]
  },
  {
   "cell_type": "markdown",
   "metadata": {},
   "source": [
    "You have a measurand $Y$ (that is a quantity you wish to measure). You've found that the best approximation for the value of that measurand is $y$ and you've determined an uncertainty of that value $u(y)$ with a coverage probability of $P\\%$.\n",
    "\n",
    "When quoting the results of the measurement, make sure all of this data is present and clearly stated.\n",
    "\n",
    "One way to quote your data is:  \n",
    "$Y ~ = ~ y ~ \\pm ~ u(y)$ units ($P\\%$ coverage probability)  \n",
    "\n",
    "or in a body of text, you can use something along the lines of:  \n",
    "\"The best approximation of the measurand $Y$ was found to be $y ~ \\pm u(y)$ units ($P\\%$ coverage probability)\"\n",
    "\n",
    "**Don't forget to quote your units!**"
   ]
  },
  {
   "cell_type": "markdown",
   "metadata": {},
   "source": [
    "### Significant Figures"
   ]
  },
  {
   "cell_type": "markdown",
   "metadata": {},
   "source": [
    "Your approximation of the value of the measurand will likely carry a lengthy decimal part (potentially up to floating point precision). You select the number of decimal places to quote by looking at your uncertainty.\n",
    "\n",
    "You should generally quote your uncertainty within **two** significant figures and round your measurand value to match that. Significant figures are the first non-zero figures in a value.\n",
    "\n",
    "For example, the measurement (with coverage probability omitted):\n",
    "\n",
    "$L ~ = ~ 14.567354536267\\dots ~ \\pm ~ 0.00346735838\\dots$cm\n",
    "\n",
    "should be rounded to:\n",
    "\n",
    "$L ~ = ~ 14.5674 ~ \\pm ~ 0.0035$cm"
   ]
  },
  {
   "cell_type": "markdown",
   "metadata": {},
   "source": [
    "## Comparing Different Measurements"
   ]
  },
  {
   "cell_type": "markdown",
   "metadata": {},
   "source": [
    "Now that we have a way of quoting measurements, let's discuss how to compare measurements.\n",
    "\n",
    "Consider the figure below, where measurements A, B and C are compared. The best approximation of the value of the measurand is represented by the dots and the uncertainty intervals are represented by the capped lines.  "
   ]
  },
  {
   "cell_type": "code",
   "execution_count": 4,
   "metadata": {
    "jupyter": {
     "source_hidden": true
    },
    "tags": [
     "remove_input"
    ]
   },
   "outputs": [
    {
     "data": {
      "image/png": "[encoded data removed]",
      "text/plain": [
       "<Figure size 432x288 with 1 Axes>"
      ]
     },
     "metadata": {
      "filenames": {
       "image/png": "/home/mayhew/Dropbox/Nassp/CM2021/OnlineNotes/uct_nassp_cm2021/book/_build/jupyter_execute/content/numerical-methods/benchmarking/uncertainty_36_0.png"
      },
      "needs_background": "light"
     },
     "output_type": "display_data"
    }
   ],
   "source": [
    "##Comparing measuremnets\n",
    "\n",
    "meas = [7.34, 7.38, 7.46]\n",
    "err = [.045, .025, .06]\n",
    "\n",
    "heights = [1, 0.5, 0]\n",
    "\n",
    "lw = 2\n",
    "fs = 14\n",
    "\n",
    "ytick_labels = ['Measurement A',\n",
    "               'Measurement B',\n",
    "               'Measurement C']\n",
    "\n",
    "fig, ax = plt.subplots()\n",
    "\n",
    "ax.errorbar(meas, heights, xerr = err, ls = '', color = 'black', fmt = 'o',\n",
    "           linewidth = lw,\n",
    "            capsize = 4, capthick = lw)\n",
    "\n",
    "ax.set_yticks(heights)\n",
    "ax.set_yticklabels(ytick_labels, fontsize = fs)\n",
    "\n",
    "ax.set_xticklabels([])\n",
    "ax.set_xlabel('Measured Values', fontsize = fs)\n",
    "\n",
    "ax.grid(True, axis = 'x')\n",
    "\n",
    "plt.show()"
   ]
  },
  {
   "cell_type": "markdown",
   "metadata": {},
   "source": [
    "In this case we can say that the results of measurements A and B **agree within their stated experimental uncertainties**, as do B and C, however B and C **do not agree** with each other."
   ]
  },
  {
   "cell_type": "markdown",
   "metadata": {},
   "source": [
    "## References\n",
    "```{bibliography}\n",
    ":cited:\n",
    ":style: plain\n",
    ":labelprefix: U\n",
    ":keyprefix: nm-b-u-\n",
    "```"
   ]
  },
  {
   "cell_type": "code",
   "execution_count": null,
   "metadata": {},
   "outputs": [],
   "source": []
  }
 ],
 "metadata": {
  "kernelspec": {
   "display_name": "Python 3",
   "language": "python",
   "name": "python3"
  },
  "language_info": {
   "codemirror_mode": {
    "name": "ipython",
    "version": 3
   },
   "file_extension": ".py",
   "mimetype": "text/x-python",
   "name": "python",
   "nbconvert_exporter": "python",
   "pygments_lexer": "ipython3",
   "version": "3.9.1"
  }
 },
 "nbformat": 4,
 "nbformat_minor": 4
}