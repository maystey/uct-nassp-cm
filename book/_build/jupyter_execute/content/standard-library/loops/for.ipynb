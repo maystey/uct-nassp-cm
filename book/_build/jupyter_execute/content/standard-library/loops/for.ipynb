{
 "cells": [
  {
   "cell_type": "markdown",
   "metadata": {},
   "source": [
    "# For Loops\n",
    "\n",
    "For loops can be used to repeat a block of code by iterating through specified values.\n",
    "\n",
    "The structure of a for loop is as follows:\n",
    "\n",
    "```\n",
    "for i in iterator:\n",
    "    code block to be repeated\n",
    "```\n",
    "\n",
    "where `i` is the iteration variable and the iterator represents a sequence of values that `i` will be set to each time the loop is repeated. Here `i` can be treated like a variable and can take on any allowed variable name.\n",
    "\n",
    "The code block to be repeated must be indented after the `:`. The loop repeats until `i` has run through all of the values in the iterator, or until the loop is broken.\n",
    "\n",
    "Be careful not to alter the iterator inside the code block being repeated."
   ]
  },
  {
   "cell_type": "markdown",
   "metadata": {},
   "source": [
    "## Worked Example\n",
    "As a simple example, let's say we wanted to print out the first $n$ integer squares starting with 0.\n",
    "\n",
    "This can be achieved manually for small $n$, for example $n = 5$:"
   ]
  },
  {
   "cell_type": "code",
   "execution_count": 1,
   "metadata": {
    "execution": {
     "iopub.execute_input": "2020-11-24T18:52:03.355665Z",
     "iopub.status.busy": "2020-11-24T18:52:03.353864Z",
     "iopub.status.idle": "2020-11-24T18:52:03.359516Z",
     "shell.execute_reply": "2020-11-24T18:52:03.359034Z"
    }
   },
   "outputs": [
    {
     "name": "stdout",
     "output_type": "stream",
     "text": [
      "0 squared is 0\n",
      "1 squared is 1\n",
      "2 squared is 4\n",
      "3 squared is 9\n",
      "4 squared is 16\n",
      "5 squared is 25\n"
     ]
    }
   ],
   "source": [
    "print('0 squared is', 0**2)\n",
    "print('1 squared is', 1**2)\n",
    "print('2 squared is', 2**2)\n",
    "print('3 squared is', 3**2)\n",
    "print('4 squared is', 4**2)\n",
    "print('5 squared is', 5**2)"
   ]
  },
  {
   "cell_type": "markdown",
   "metadata": {},
   "source": [
    "This quickly becomes tedious and produces messy code. To achieve the same goal using a `for` loop we can do the following:"
   ]
  },
  {
   "cell_type": "code",
   "execution_count": 2,
   "metadata": {
    "execution": {
     "iopub.execute_input": "2020-11-24T18:52:03.363580Z",
     "iopub.status.busy": "2020-11-24T18:52:03.363029Z",
     "iopub.status.idle": "2020-11-24T18:52:03.365933Z",
     "shell.execute_reply": "2020-11-24T18:52:03.366386Z"
    }
   },
   "outputs": [
    {
     "name": "stdout",
     "output_type": "stream",
     "text": [
      "0 squared is 0\n",
      "1 squared is 1\n",
      "2 squared is 4\n",
      "3 squared is 9\n",
      "4 squared is 16\n",
      "5 squared is 25\n"
     ]
    }
   ],
   "source": [
    "for i in range(6):\n",
    "    print(i, 'squared is', i**2)"
   ]
  },
  {
   "cell_type": "markdown",
   "metadata": {},
   "source": [
    "Here we have made use of the `range` function to create our iterator.\n",
    "\n",
    "<!--- Give a more detailed breakdown of what's happening -->"
   ]
  },
  {
   "cell_type": "markdown",
   "metadata": {},
   "source": [
    "## The `range()` Function\n",
    "\n",
    "The `range()` function takes integer arguments and produces a series of integers. As we shall see, the `range()` function's arguments are very similar to slicing.\n",
    "<!--- Maybe remove the latter sentence -->\n",
    "\n",
    "In the example above we used it with one argument,\n",
    "```\n",
    "range(stop)\n",
    "```\n",
    "Here `range()` will produce a series of integers starting at zero and ending just before the `stop` value.\n",
    "\n",
    "If we were to use range with 2 arguments:\n",
    "```\n",
    "range(start, stop)\n",
    "```\n",
    "`range()` will produce a series of integers starting with the `start` value and ending with the `stop` value. \n",
    "\n",
    "For example:"
   ]
  },
  {
   "cell_type": "code",
   "execution_count": 3,
   "metadata": {
    "execution": {
     "iopub.execute_input": "2020-11-24T18:52:03.370092Z",
     "iopub.status.busy": "2020-11-24T18:52:03.369540Z",
     "iopub.status.idle": "2020-11-24T18:52:03.372641Z",
     "shell.execute_reply": "2020-11-24T18:52:03.372077Z"
    }
   },
   "outputs": [
    {
     "name": "stdout",
     "output_type": "stream",
     "text": [
      "2\n",
      "3\n",
      "4\n"
     ]
    }
   ],
   "source": [
    "for i in range (2, 5):\n",
    "    print(i)"
   ]
  },
  {
   "cell_type": "markdown",
   "metadata": {},
   "source": [
    "Lastly if we were to use `range()` with 3 arguments:\n",
    "```\n",
    "range(start, stop, step)\n",
    "```\n",
    "`range()` returns a series starting with the `start` value and with step sizes of `step` in between each value until it reaches the value before `stop`. \n",
    "\n",
    "For example:"
   ]
  },
  {
   "cell_type": "code",
   "execution_count": 4,
   "metadata": {
    "execution": {
     "iopub.execute_input": "2020-11-24T18:52:03.376307Z",
     "iopub.status.busy": "2020-11-24T18:52:03.375754Z",
     "iopub.status.idle": "2020-11-24T18:52:03.378392Z",
     "shell.execute_reply": "2020-11-24T18:52:03.378812Z"
    }
   },
   "outputs": [
    {
     "name": "stdout",
     "output_type": "stream",
     "text": [
      "2\n",
      "5\n",
      "8\n"
     ]
    }
   ],
   "source": [
    "for i in range(2, 10, 3):\n",
    "    print(i)"
   ]
  },
  {
   "cell_type": "markdown",
   "metadata": {},
   "source": [
    "The default value for `step` is 1. If you want the series to descend, you can use a negative step size:"
   ]
  },
  {
   "cell_type": "code",
   "execution_count": 5,
   "metadata": {
    "execution": {
     "iopub.execute_input": "2020-11-24T18:52:03.382610Z",
     "iopub.status.busy": "2020-11-24T18:52:03.382058Z",
     "iopub.status.idle": "2020-11-24T18:52:03.384654Z",
     "shell.execute_reply": "2020-11-24T18:52:03.385075Z"
    }
   },
   "outputs": [
    {
     "name": "stdout",
     "output_type": "stream",
     "text": [
      "11\n",
      "9\n",
      "7\n",
      "5\n"
     ]
    }
   ],
   "source": [
    "for i in range(11, 3, -2):\n",
    "    print(i)"
   ]
  },
  {
   "cell_type": "markdown",
   "metadata": {},
   "source": [
    "## Looping Through Sequences\n",
    "<!--- I need to introduce lists somewhere else! Maybe in basics along with dictionaries? -->\n",
    "\n",
    "Sequences such as tuples, lists and strings can also be used as iterators. For example:"
   ]
  },
  {
   "cell_type": "code",
   "execution_count": 6,
   "metadata": {
    "execution": {
     "iopub.execute_input": "2020-11-24T18:52:03.388809Z",
     "iopub.status.busy": "2020-11-24T18:52:03.388250Z",
     "iopub.status.idle": "2020-11-24T18:52:03.391997Z",
     "shell.execute_reply": "2020-11-24T18:52:03.391498Z"
    }
   },
   "outputs": [
    {
     "name": "stdout",
     "output_type": "stream",
     "text": [
      "T\n",
      "h\n",
      "i\n",
      "s\n",
      " \n",
      "s\n",
      "t\n",
      "r\n",
      "i\n",
      "n\n",
      "g\n"
     ]
    }
   ],
   "source": [
    "for char in 'This string':\n",
    "    print(char)"
   ]
  },
  {
   "cell_type": "markdown",
   "metadata": {},
   "source": [
    "and"
   ]
  },
  {
   "cell_type": "code",
   "execution_count": 7,
   "metadata": {
    "execution": {
     "iopub.execute_input": "2020-11-24T18:52:03.395931Z",
     "iopub.status.busy": "2020-11-24T18:52:03.395360Z",
     "iopub.status.idle": "2020-11-24T18:52:03.398088Z",
     "shell.execute_reply": "2020-11-24T18:52:03.397514Z"
    }
   },
   "outputs": [
    {
     "name": "stdout",
     "output_type": "stream",
     "text": [
      "1\n",
      "2\n",
      "3\n",
      "a\n",
      "b\n",
      "c\n"
     ]
    }
   ],
   "source": [
    "for item in [1, 2, 3, 'a', 'b', 'c']:\n",
    "    print(item)"
   ]
  },
  {
   "cell_type": "markdown",
   "metadata": {},
   "source": [
    "### `enumerate()` To Iterate Through Sequence and Index\n",
    "\n",
    "Sometimes you want to loop through a sequence but also want to keep track of the index. This can be achieved by using range:"
   ]
  },
  {
   "cell_type": "code",
   "execution_count": 8,
   "metadata": {
    "execution": {
     "iopub.execute_input": "2020-11-24T18:52:03.402267Z",
     "iopub.status.busy": "2020-11-24T18:52:03.401715Z",
     "iopub.status.idle": "2020-11-24T18:52:03.405101Z",
     "shell.execute_reply": "2020-11-24T18:52:03.404545Z"
    }
   },
   "outputs": [
    {
     "name": "stdout",
     "output_type": "stream",
     "text": [
      "0 s\n",
      "1 t\n",
      "2 r\n",
      "3 i\n",
      "4 n\n",
      "5 g\n"
     ]
    }
   ],
   "source": [
    "string = 'string'\n",
    "\n",
    "for i in range(len(string)):\n",
    "    print(i, string[i])"
   ]
  },
  {
   "cell_type": "markdown",
   "metadata": {},
   "source": [
    "but there is a far more convenient way using the `enumerate()` function:"
   ]
  },
  {
   "cell_type": "code",
   "execution_count": 9,
   "metadata": {
    "execution": {
     "iopub.execute_input": "2020-11-24T18:52:03.409299Z",
     "iopub.status.busy": "2020-11-24T18:52:03.408706Z",
     "iopub.status.idle": "2020-11-24T18:52:03.412104Z",
     "shell.execute_reply": "2020-11-24T18:52:03.412530Z"
    }
   },
   "outputs": [
    {
     "name": "stdout",
     "output_type": "stream",
     "text": [
      "0 s\n",
      "1 t\n",
      "2 r\n",
      "3 i\n",
      "4 n\n",
      "5 g\n"
     ]
    }
   ],
   "source": [
    "for i,char in enumerate('string'):\n",
    "    print(i, char)"
   ]
  },
  {
   "cell_type": "markdown",
   "metadata": {},
   "source": [
    "### `zip()` To Iterate Through More Than One Sequence Simultaneously\n",
    "\n",
    "If you wanted to loop through more than one sequence at a time you could iterate through the index:"
   ]
  },
  {
   "cell_type": "code",
   "execution_count": 10,
   "metadata": {
    "execution": {
     "iopub.execute_input": "2020-11-24T18:52:03.417232Z",
     "iopub.status.busy": "2020-11-24T18:52:03.416677Z",
     "iopub.status.idle": "2020-11-24T18:52:03.418925Z",
     "shell.execute_reply": "2020-11-24T18:52:03.419352Z"
    }
   },
   "outputs": [
    {
     "name": "stdout",
     "output_type": "stream",
     "text": [
      "1 a\n",
      "2 b\n",
      "3 c\n"
     ]
    }
   ],
   "source": [
    "list_a = [1,2,3]\n",
    "list_b = ['a', 'b', 'c']\n",
    "\n",
    "for i in range(len(list_a)):\n",
    "    print(list_a[i], list_b[i])"
   ]
  },
  {
   "cell_type": "markdown",
   "metadata": {},
   "source": [
    "but there is a cleaner way using the `zip` function:"
   ]
  },
  {
   "cell_type": "code",
   "execution_count": 11,
   "metadata": {
    "execution": {
     "iopub.execute_input": "2020-11-24T18:52:03.423405Z",
     "iopub.status.busy": "2020-11-24T18:52:03.422859Z",
     "iopub.status.idle": "2020-11-24T18:52:03.425723Z",
     "shell.execute_reply": "2020-11-24T18:52:03.426147Z"
    }
   },
   "outputs": [
    {
     "name": "stdout",
     "output_type": "stream",
     "text": [
      "1 a\n",
      "2 b\n",
      "3 c\n"
     ]
    }
   ],
   "source": [
    "for a,b in zip([1,2,3], ['a', 'b', 'c']):\n",
    "    print(a, b)"
   ]
  },
  {
   "cell_type": "markdown",
   "metadata": {},
   "source": [
    "Note that the loop will only iterate as much as the shortest sequence."
   ]
  },
  {
   "cell_type": "markdown",
   "metadata": {},
   "source": [
    "## Looping Through Dictionaries\n",
    "\n",
    "To loop through the key-value pairs of a dictionary you can use the `dict.items()` method:"
   ]
  },
  {
   "cell_type": "code",
   "execution_count": 12,
   "metadata": {
    "execution": {
     "iopub.execute_input": "2020-11-24T18:52:03.430740Z",
     "iopub.status.busy": "2020-11-24T18:52:03.430150Z",
     "iopub.status.idle": "2020-11-24T18:52:03.432970Z",
     "shell.execute_reply": "2020-11-24T18:52:03.433394Z"
    }
   },
   "outputs": [
    {
     "name": "stdout",
     "output_type": "stream",
     "text": [
      "a 54\n",
      "b 754\n",
      "c 42\n"
     ]
    }
   ],
   "source": [
    "d = {'a' : 54, 'b' : 754, 'c' : 42}\n",
    "\n",
    "for k,v in d.items():\n",
    "    print(k, v)"
   ]
  },
  {
   "cell_type": "code",
   "execution_count": null,
   "metadata": {},
   "outputs": [],
   "source": []
  }
 ],
 "metadata": {
  "kernelspec": {
   "display_name": "Python 3",
   "language": "python",
   "name": "python3"
  },
  "language_info": {
   "codemirror_mode": {
    "name": "ipython",
    "version": 3
   },
   "file_extension": ".py",
   "mimetype": "text/x-python",
   "name": "python",
   "nbconvert_exporter": "python",
   "pygments_lexer": "ipython3",
   "version": "3.7.8"
  }
 },
 "nbformat": 4,
 "nbformat_minor": 4
}