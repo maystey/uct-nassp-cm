{
 "cells": [
  {
   "cell_type": "markdown",
   "metadata": {},
   "source": [
    "# For Loops\n",
    "\n",
    "For loops can be used to repeat a block of code by iterating through specified values. Python for loops are technically \"foreach\" loops. Though the distinction is important in other programming languages, we will refer to these as \"for\" loops for the entirety of the book.\n",
    "\n",
    "The syntax for a for loop is:\n",
    "\n",
    "```python\n",
    "for i in iterable:\n",
    "    code block\n",
    "```\n",
    "\n",
    "As with the while loop, code indented after the `:` is inside the loop and will be executed with each loop iteration (here this code is represented by `code block`). \n",
    "\n",
    "The `iterable` is an **iterable** object. <!--- technically this means it implements the ... method (maybe put this in glossary--> These are objects that can be prompted to return a sequence of objects. Strings, lists and tuples are all examples of iterable objects. \n",
    "\n",
    "When the loop is executed Python instances a new object from `iterable` called an **iterator**. The iterator is asked for the next object in the sequence before each loop iteration, until there isn't a next object and control leaves the loop.\n",
    "\n",
    "`i` is referred to as the **iteration variable**. It can be seen as a variable, and can be given any viable variable name. Before each loop iteration `i` is set to the next value of the iterator. This value can then be used in the `code block` by referring to `i` as a variable.\n",
    "\n",
    "**Note:** be careful not to alter `iterable` inside the loop (`code block`), as this will cause an error."
   ]
  },
  {
   "cell_type": "markdown",
   "metadata": {},
   "source": [
    "The for loop can be illustrated using the control flow diagram:\n",
    "\n",
    "```{figure} ./figures/foreach.png\n",
    ":name: fig-for-control-flow\n",
    "\n",
    "Control flow diagram of the for loop.\n",
    "```\n",
    "\n",
    "Note that elements of {numref}`fig-for-control-flow` have been simplified. <!--- If you are interested in how a for loop can be constructed using a while loop (or another form of recursion) see ... no next iterator error -->"
   ]
  },
  {
   "cell_type": "markdown",
   "metadata": {},
   "source": [
    "## Looping Through Sequences\n",
    "\n",
    "As mentioned, sequences such as tuples, lists and strings can also be used as iterables. For example, if we want to print the individual characters of a string separately:"
   ]
  },
  {
   "cell_type": "code",
   "execution_count": 6,
   "metadata": {},
   "outputs": [
    {
     "name": "stdout",
     "output_type": "stream",
     "text": [
      "T\n",
      "h\n",
      "i\n",
      "s\n",
      " \n",
      "s\n",
      "t\n",
      "r\n",
      "i\n",
      "n\n",
      "g\n"
     ]
    }
   ],
   "source": [
    "for char in 'This string':\n",
    "    print(char)"
   ]
  },
  {
   "cell_type": "markdown",
   "metadata": {},
   "source": [
    "Note that we called the iteration variable `char`. We can give it any name we want.\n",
    "\n",
    "Similarly we can print each object in a list:"
   ]
  },
  {
   "cell_type": "code",
   "execution_count": 7,
   "metadata": {},
   "outputs": [
    {
     "name": "stdout",
     "output_type": "stream",
     "text": [
      "1\n",
      "2\n",
      "3\n",
      "a\n",
      "b\n",
      "c\n"
     ]
    }
   ],
   "source": [
    "for item in [1, 2, 3, 'a', 'b', 'c']:\n",
    "    print(item)"
   ]
  },
  {
   "cell_type": "markdown",
   "metadata": {},
   "source": [
    "## The `range()` Function\n",
    "\n",
    "If you need to loop through a sequence of values that aren't already in an instanced data collection, you can use the `range()` function. The `range()` function takes integer arguments and returns an iterable the produces a series of integers. As we shall see, the `range()` function's arguments are very similar to slicing.\n",
    "<!--- Maybe remove the latter sentence -->\n",
    "\n",
    "Range can be used with a single argument:\n",
    "\n",
    "```\n",
    "range(stop)\n",
    "```\n",
    "\n",
    "Here `range()` will produce a series of integers starting at zero and ending **before** the `stop` value. For example:"
   ]
  },
  {
   "cell_type": "code",
   "execution_count": 8,
   "metadata": {},
   "outputs": [
    {
     "name": "stdout",
     "output_type": "stream",
     "text": [
      "0\n",
      "1\n",
      "2\n",
      "3\n",
      "4\n"
     ]
    }
   ],
   "source": [
    "for i in range(5):\n",
    "    print(i)"
   ]
  },
  {
   "cell_type": "markdown",
   "metadata": {},
   "source": [
    "If we were to use range with 2 arguments:\n",
    "```\n",
    "range(start, stop)\n",
    "```\n",
    "`range()` will produce a series of integers starting with the `start` value and ending with the `stop` value. \n",
    "\n",
    "For example:"
   ]
  },
  {
   "cell_type": "code",
   "execution_count": 1,
   "metadata": {},
   "outputs": [
    {
     "name": "stdout",
     "output_type": "stream",
     "text": [
      "2\n",
      "3\n",
      "4\n"
     ]
    }
   ],
   "source": [
    "for i in range (2, 5):\n",
    "    print(i)"
   ]
  },
  {
   "cell_type": "markdown",
   "metadata": {},
   "source": [
    "Lastly if we were to use `range()` with 3 arguments:\n",
    "```\n",
    "range(start, stop, step)\n",
    "```\n",
    "`range()` returns a series starting with the `start` value and with step sizes of `step` in between each value until it reaches the value before `stop`. \n",
    "\n",
    "For example:"
   ]
  },
  {
   "cell_type": "code",
   "execution_count": 2,
   "metadata": {},
   "outputs": [
    {
     "name": "stdout",
     "output_type": "stream",
     "text": [
      "2\n",
      "5\n",
      "8\n"
     ]
    }
   ],
   "source": [
    "for i in range(2, 10, 3):\n",
    "    print(i)"
   ]
  },
  {
   "cell_type": "markdown",
   "metadata": {},
   "source": [
    "The default value for `step` is 1. If you want the series to descend, you can use a negative step size:"
   ]
  },
  {
   "cell_type": "code",
   "execution_count": 5,
   "metadata": {},
   "outputs": [
    {
     "name": "stdout",
     "output_type": "stream",
     "text": [
      "11\n",
      "9\n",
      "7\n",
      "5\n"
     ]
    }
   ],
   "source": [
    "for i in range(11, 3, -2):\n",
    "    print(i)"
   ]
  },
  {
   "cell_type": "markdown",
   "metadata": {},
   "source": [
    "## Useful Functions for Iterables"
   ]
  },
  {
   "cell_type": "markdown",
   "metadata": {},
   "source": [
    "### `enumerate()` To Iterate Through Sequence and Index\n",
    "\n",
    "Sometimes you want to loop through a sequence but also want to keep track of the index. The most convenient way to do this is using the `enumerate()` function:"
   ]
  },
  {
   "cell_type": "code",
   "execution_count": 1,
   "metadata": {},
   "outputs": [
    {
     "name": "stdout",
     "output_type": "stream",
     "text": [
      "0 s\n",
      "1 t\n",
      "2 r\n",
      "3 i\n",
      "4 n\n",
      "5 g\n"
     ]
    }
   ],
   "source": [
    "for i,char in enumerate('string'):\n",
    "    print(i, char)"
   ]
  },
  {
   "cell_type": "markdown",
   "metadata": {},
   "source": [
    "where the iteration value is a tuple of the index and value from the original iterator (unpacked as `i` and `char` respectively)."
   ]
  },
  {
   "cell_type": "markdown",
   "metadata": {},
   "source": [
    "Alternatively, the same can be achieved using the range function and indexing the iterable sequence manually:"
   ]
  },
  {
   "cell_type": "code",
   "execution_count": 3,
   "metadata": {},
   "outputs": [
    {
     "name": "stdout",
     "output_type": "stream",
     "text": [
      "0 s\n",
      "1 t\n",
      "2 r\n",
      "3 i\n",
      "4 n\n",
      "5 g\n"
     ]
    }
   ],
   "source": [
    "string = 'string'\n",
    "\n",
    "for i in range(len(string)):\n",
    "    print(i, string[i])"
   ]
  },
  {
   "cell_type": "markdown",
   "metadata": {},
   "source": [
    "### `zip()` To Iterate Through More Than One Sequence Simultaneously\n",
    "\n",
    "If you wanted to loop through more than one sequence at a time you can use the `zip` function:"
   ]
  },
  {
   "cell_type": "code",
   "execution_count": 7,
   "metadata": {},
   "outputs": [
    {
     "name": "stdout",
     "output_type": "stream",
     "text": [
      "1 a\n",
      "2 b\n",
      "3 c\n"
     ]
    }
   ],
   "source": [
    "for a,b in zip([1,2,3], ['a', 'b', 'c']):\n",
    "    print(a, b)"
   ]
  },
  {
   "cell_type": "markdown",
   "metadata": {},
   "source": [
    "Note that the loop will only iterate as much as the shortest sequence."
   ]
  },
  {
   "cell_type": "markdown",
   "metadata": {},
   "source": [
    "This can also be achieved manually:"
   ]
  },
  {
   "cell_type": "code",
   "execution_count": 3,
   "metadata": {},
   "outputs": [
    {
     "name": "stdout",
     "output_type": "stream",
     "text": [
      "1 a\n",
      "2 b\n",
      "3 c\n"
     ]
    }
   ],
   "source": [
    "list_a = [1,2,3]\n",
    "list_b = ['a', 'b', 'c']\n",
    "\n",
    "for i in range(min(len(list_a), len(list_b))):\n",
    "    print(list_a[i], list_b[i])"
   ]
  },
  {
   "cell_type": "markdown",
   "metadata": {},
   "source": [
    "## Looping Through Dictionaries\n",
    "\n",
    "To loop through the key-value pairs of a dictionary you can use the `dict.items()` method:"
   ]
  },
  {
   "cell_type": "code",
   "execution_count": 5,
   "metadata": {},
   "outputs": [
    {
     "name": "stdout",
     "output_type": "stream",
     "text": [
      "a 54\n",
      "b 754\n",
      "c 42\n"
     ]
    }
   ],
   "source": [
    "d = {'a' : 54, 'b' : 754, 'c' : 42}\n",
    "\n",
    "for k,v in d.items():\n",
    "    print(k, v)"
   ]
  },
  {
   "cell_type": "markdown",
   "metadata": {},
   "source": [
    "You can also loop through only the keys:"
   ]
  },
  {
   "cell_type": "code",
   "execution_count": 6,
   "metadata": {},
   "outputs": [
    {
     "name": "stdout",
     "output_type": "stream",
     "text": [
      "a 54\n",
      "b 754\n",
      "c 42\n"
     ]
    }
   ],
   "source": [
    "for k in d.keys():\n",
    "    print(k, d[k])"
   ]
  },
  {
   "cell_type": "markdown",
   "metadata": {},
   "source": [
    "or only the values:"
   ]
  },
  {
   "cell_type": "code",
   "execution_count": 7,
   "metadata": {},
   "outputs": [
    {
     "name": "stdout",
     "output_type": "stream",
     "text": [
      "54\n",
      "754\n",
      "42\n"
     ]
    }
   ],
   "source": [
    "for v in d.values():\n",
    "    print(v)"
   ]
  },
  {
   "cell_type": "markdown",
   "metadata": {},
   "source": [
    "Note that the values returned from `dictionary.values()` won't always appear in the same order. If this is a requirement it is better to use an ordered dictionary. <!--- provide link --> <!-- perhaps this is better off in the dictionary section -->"
   ]
  },
  {
   "cell_type": "markdown",
   "metadata": {},
   "source": [
    "## Using a `while` Loop in Place of a `for` Loop"
   ]
  },
  {
   "cell_type": "markdown",
   "metadata": {},
   "source": [
    "Although it's not as clean, you can use while loops in place of for loops. We will not cover how to do this in general here <!--- Link to external resource doing this -->, a simple example is using a while loop instead of a for loop with a `range()` iterable:"
   ]
  },
  {
   "cell_type": "code",
   "execution_count": 1,
   "metadata": {},
   "outputs": [
    {
     "name": "stdout",
     "output_type": "stream",
     "text": [
      "For loop\n",
      "0\n",
      "1\n",
      "2\n",
      "3\n",
      "4\n",
      "\n",
      "While loop\n",
      "0\n",
      "1\n",
      "2\n",
      "3\n",
      "4\n"
     ]
    }
   ],
   "source": [
    "#For loop:\n",
    "print('For loop')\n",
    "\n",
    "for i in range(5):\n",
    "    print(i)\n",
    "\n",
    "#Equivalent while loop:\n",
    "print('')\n",
    "print('While loop')\n",
    "\n",
    "i = 0\n",
    "\n",
    "while i < 5:\n",
    "    print(i)\n",
    "    \n",
    "    i += 1"
   ]
  },
  {
   "cell_type": "markdown",
   "metadata": {
    "tags": [
     "remove_cell"
    ]
   },
   "source": [
    "Perhaps return this to the `range` function section.\n",
    "\n",
    "## Worked Example\n",
    "As a simple example, let's say we wanted to print out the first $n$ integer squares starting with 0.\n",
    "\n",
    "This can be achieved manually for small $n$, for example $n = 5$:"
   ]
  },
  {
   "cell_type": "code",
   "execution_count": 3,
   "metadata": {
    "tags": [
     "remove_cell"
    ]
   },
   "outputs": [
    {
     "name": "stdout",
     "output_type": "stream",
     "text": [
      "0 squared is 0\n",
      "1 squared is 1\n",
      "2 squared is 4\n",
      "3 squared is 9\n",
      "4 squared is 16\n",
      "5 squared is 25\n"
     ]
    }
   ],
   "source": [
    "print('0 squared is', 0**2)\n",
    "print('1 squared is', 1**2)\n",
    "print('2 squared is', 2**2)\n",
    "print('3 squared is', 3**2)\n",
    "print('4 squared is', 4**2)\n",
    "print('5 squared is', 5**2)"
   ]
  },
  {
   "cell_type": "markdown",
   "metadata": {
    "tags": [
     "remove_cell"
    ]
   },
   "source": [
    "This quickly becomes tedious and produces messy code. To achieve the same goal using a `for` loop we can do the following:"
   ]
  },
  {
   "cell_type": "code",
   "execution_count": 5,
   "metadata": {
    "tags": [
     "remove_cell"
    ]
   },
   "outputs": [
    {
     "name": "stdout",
     "output_type": "stream",
     "text": [
      "0 squared is 0\n",
      "1 squared is 1\n",
      "2 squared is 4\n",
      "3 squared is 9\n",
      "4 squared is 16\n",
      "5 squared is 25\n"
     ]
    }
   ],
   "source": [
    "for i in range(6):\n",
    "    print(i, 'squared is', i**2)"
   ]
  },
  {
   "cell_type": "markdown",
   "metadata": {
    "tags": [
     "remove_cell"
    ]
   },
   "source": [
    "Here we have made use of the `range` function to create our iterator.\n",
    "\n",
    "<!--- Give a more detailed breakdown of what's happening -->"
   ]
  }
 ],
 "metadata": {
  "kernelspec": {
   "display_name": "Python 3",
   "language": "python",
   "name": "python3"
  },
  "language_info": {
   "codemirror_mode": {
    "name": "ipython",
    "version": 3
   },
   "file_extension": ".py",
   "mimetype": "text/x-python",
   "name": "python",
   "nbconvert_exporter": "python",
   "pygments_lexer": "ipython3",
   "version": "3.7.3"
  }
 },
 "nbformat": 4,
 "nbformat_minor": 4
}