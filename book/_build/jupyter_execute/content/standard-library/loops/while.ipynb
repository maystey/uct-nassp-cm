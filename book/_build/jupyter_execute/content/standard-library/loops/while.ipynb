{
 "cells": [
  {
   "cell_type": "markdown",
   "metadata": {},
   "source": [
    "# While Loops\n",
    "\n",
    "While loops are used to repeat a block of code **while** a given condition is true. If this condition is false (or becomes false), the code block will not be repeated. I will refer to individual loop repetitions as **\"iterations\"** (the first time the code in the loop is run is the **first iteration**, the next time is the **second iteration**, etc.)."
   ]
  },
  {
   "cell_type": "markdown",
   "metadata": {},
   "source": [
    "The syntax for a `while` loop is:\n",
    "\n",
    "```python\n",
    "while condition:\n",
    "    code block\n",
    "```\n",
    "\n",
    "Note the use of the `while` statement and the `:` following the condition. All the code indented after the `:` is inside the loop, represented by `code block` here. The `condition` used in the loop must either evaluate to or be a boolean value.\n",
    "\n",
    "\n",
    "In each loop iteration `condition` is evaluated. If `condition` is found to be **true** then the loop will go through another iteration, executing `code block`, and checking for another iteration. If `condition` is found to be **false**, then control will leave the loop and it will not undergo another iteration.\n",
    "\n",
    "Note that if `condition` starts as false, then `code block` will never be executed.\n",
    "\n",
    "\n",
    "<!-- example -->"
   ]
  },
  {
   "cell_type": "markdown",
   "metadata": {},
   "source": [
    "The while loop can be illustrated with the control flow diagram:\n",
    "\n",
    "```{figure} ./figures/while.png\n",
    ":name: fig-while-control-flow\n",
    "\n",
    "Control flow diagram of the while loop.\n",
    "```"
   ]
  },
  {
   "cell_type": "markdown",
   "metadata": {},
   "source": [
    "<div class=\"worked-example\">\n",
    "    <h5 class=\"worked-example-title\"><b>Worked Example</b></h5>"
   ]
  },
  {
   "cell_type": "markdown",
   "metadata": {},
   "source": [
    "Let's consider the following problem where we can make use of a `while` loop to solve the recursive series: <!--- Introduce recursive series in For Loop Examples -->\n",
    "\n",
    "$$\n",
    "\\begin{eqnarray}\n",
    "T_n & = & T_{n-1}^{3/4} \\\\\n",
    "T_0 & = & 100\n",
    "\\end{eqnarray}\n",
    "$$\n",
    "\n",
    "Let's say we want to know when this series drops below 2 (what is the first value of $n$ for which $T_n < 2$). One solution is:"
   ]
  },
  {
   "cell_type": "code",
   "execution_count": 1,
   "metadata": {},
   "outputs": [
    {
     "name": "stdout",
     "output_type": "stream",
     "text": [
      "T_n is less than 2 for n = 7\n"
     ]
    }
   ],
   "source": [
    "T = 100 #T_0 term\n",
    "\n",
    "n = 0\n",
    "\n",
    "while T >= 2:\n",
    "    T = T**(3/4.) #T_{n+1} term\n",
    "    n += 1\n",
    "\n",
    "print('T_n is less than 2 for n =', n)"
   ]
  },
  {
   "cell_type": "markdown",
   "metadata": {},
   "source": [
    "Notice how the condition is `T >= 2` and not `T < 2`. That is because the loop continues **while** the condition is true and we want the loop to stop when `T < 2` is `True` (and the converse `T >= 2` is `False`)."
   ]
  },
  {
   "cell_type": "markdown",
   "metadata": {},
   "source": [
    "</div>"
   ]
  },
  {
   "cell_type": "markdown",
   "metadata": {},
   "source": [
    "## Avoiding Infinite Recursion\n",
    "\n",
    "Something to be careful of when using `while` loops is a loop that doesn't stop looping. If `condition` never evaluates to `False`, or if you never break out of the loop in another way, control will never leave the loop. Sometimes it is useful to use a maximum number of loop iterations to avoid this:\n",
    "\n",
    "```python\n",
    "counter = 0\n",
    "\n",
    "while condition and counter < max_count:\n",
    "    block of code\n",
    "```\n",
    "\n",
    "where `max_count` is the chosen maximum number of recursions (normally chosen as a very large number). <!--- rather give a concrete example -->"
   ]
  },
  {
   "cell_type": "markdown",
   "metadata": {
    "tags": [
     "remove_cell"
    ]
   },
   "source": [
    "## Replacing For Loops\n",
    "\n",
    "`while` loops can be used to replace for `loops`, for example:"
   ]
  },
  {
   "cell_type": "code",
   "execution_count": 2,
   "metadata": {
    "tags": [
     "remove_cell"
    ]
   },
   "outputs": [
    {
     "name": "stdout",
     "output_type": "stream",
     "text": [
      "for loop\n",
      "0\n",
      "1\n",
      "2\n",
      "3\n",
      "4\n",
      "\n",
      "while loop\n",
      "0\n",
      "1\n",
      "2\n",
      "3\n",
      "4\n"
     ]
    }
   ],
   "source": [
    "## For loop\n",
    "print('for loop')\n",
    "\n",
    "for i in range(5):\n",
    "    print(i)\n",
    "    \n",
    "## While loop\n",
    "print('')\n",
    "print('while loop')\n",
    "\n",
    "i = 0\n",
    "\n",
    "while i < 5:\n",
    "    print(i)\n",
    "    i+=1"
   ]
  },
  {
   "cell_type": "markdown",
   "metadata": {
    "tags": [
     "remove_cell"
    ]
   },
   "source": [
    "As you can see the `while` loop is a bit less convenient than the `for` loop in this case. The `while` loop becomes even less convenient when looping through a collection:"
   ]
  },
  {
   "cell_type": "code",
   "execution_count": 3,
   "metadata": {
    "tags": [
     "remove_cell"
    ]
   },
   "outputs": [
    {
     "name": "stdout",
     "output_type": "stream",
     "text": [
      "for loop\n",
      "a\n",
      " \n",
      "s\n",
      "t\n",
      "r\n",
      "i\n",
      "n\n",
      "g\n",
      "\n",
      "while loop\n",
      "a\n",
      " \n",
      "s\n",
      "t\n",
      "r\n",
      "i\n",
      "n\n",
      "g\n"
     ]
    }
   ],
   "source": [
    "string = 'a string'\n",
    "\n",
    "## For loop\n",
    "print('for loop')\n",
    "\n",
    "for char in string:\n",
    "    print(char)\n",
    "\n",
    "## While loop\n",
    "print('')\n",
    "print('while loop')\n",
    "\n",
    "index = 0\n",
    "\n",
    "while index < len(string):\n",
    "    print(string[index])\n",
    "    index += 1"
   ]
  },
  {
   "cell_type": "code",
   "execution_count": null,
   "metadata": {},
   "outputs": [],
   "source": []
  }
 ],
 "metadata": {
  "kernelspec": {
   "display_name": "Python 3",
   "language": "python",
   "name": "python3"
  },
  "language_info": {
   "codemirror_mode": {
    "name": "ipython",
    "version": 3
   },
   "file_extension": ".py",
   "mimetype": "text/x-python",
   "name": "python",
   "nbconvert_exporter": "python",
   "pygments_lexer": "ipython3",
   "version": "3.9.6"
  }
 },
 "nbformat": 4,
 "nbformat_minor": 4
}