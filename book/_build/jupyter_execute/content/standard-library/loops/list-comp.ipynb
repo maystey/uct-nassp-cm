{
 "cells": [
  {
   "cell_type": "markdown",
   "metadata": {},
   "source": [
    "# List Comprehension\n",
    "\n",
    "There will be many times you will want to automate the creation of a list. You can use loops for this but can become impractical. A nice way to generate lists is using **list comprehension**:"
   ]
  },
  {
   "cell_type": "code",
   "execution_count": 1,
   "metadata": {
    "execution": {
     "iopub.execute_input": "2020-11-24T18:52:05.488424Z",
     "iopub.status.busy": "2020-11-24T18:52:05.486577Z",
     "iopub.status.idle": "2020-11-24T18:52:05.493830Z",
     "shell.execute_reply": "2020-11-24T18:52:05.495350Z"
    }
   },
   "outputs": [
    {
     "name": "stdout",
     "output_type": "stream",
     "text": [
      "[0, 1, 2, 3, 4, 5]\n"
     ]
    }
   ],
   "source": [
    "#Generating a list of integers in ascending order\n",
    "numbers = [i for i in range(6)]\n",
    "print(numbers)"
   ]
  },
  {
   "cell_type": "markdown",
   "metadata": {},
   "source": [
    "You can treat the `for` inside the list just like a `for` loop, including looping through collections:"
   ]
  },
  {
   "cell_type": "code",
   "execution_count": 2,
   "metadata": {
    "execution": {
     "iopub.execute_input": "2020-11-24T18:52:05.508111Z",
     "iopub.status.busy": "2020-11-24T18:52:05.506290Z",
     "iopub.status.idle": "2020-11-24T18:52:05.514926Z",
     "shell.execute_reply": "2020-11-24T18:52:05.512960Z"
    }
   },
   "outputs": [
    {
     "name": "stdout",
     "output_type": "stream",
     "text": [
      "['a', 'b', 'c', 'd', 'e', 'f', 'g']\n"
     ]
    }
   ],
   "source": [
    "string = 'abcdefg'\n",
    "\n",
    "#Generating a list of characters from a string\n",
    "char_list = [char for char in string]\n",
    "print(char_list)"
   ]
  },
  {
   "cell_type": "markdown",
   "metadata": {},
   "source": [
    "Only use list comprehension if you are interested in the list itself. Do not use it in place of a `for` loop."
   ]
  },
  {
   "cell_type": "markdown",
   "metadata": {},
   "source": [
    "You can also embed list comprehension: "
   ]
  },
  {
   "cell_type": "code",
   "execution_count": 3,
   "metadata": {
    "execution": {
     "iopub.execute_input": "2020-11-24T18:52:05.528040Z",
     "iopub.status.busy": "2020-11-24T18:52:05.526241Z",
     "iopub.status.idle": "2020-11-24T18:52:05.534744Z",
     "shell.execute_reply": "2020-11-24T18:52:05.533050Z"
    }
   },
   "outputs": [
    {
     "name": "stdout",
     "output_type": "stream",
     "text": [
      "[[0, 1, 2], [1, 2, 3], [2, 3, 4], [3, 4, 5]]\n"
     ]
    }
   ],
   "source": [
    "print([[i + j for j in range(3)] for i in range(4) ])"
   ]
  },
  {
   "cell_type": "code",
   "execution_count": null,
   "metadata": {},
   "outputs": [],
   "source": []
  }
 ],
 "metadata": {
  "kernelspec": {
   "display_name": "Python 3",
   "language": "python",
   "name": "python3"
  },
  "language_info": {
   "codemirror_mode": {
    "name": "ipython",
    "version": 3
   },
   "file_extension": ".py",
   "mimetype": "text/x-python",
   "name": "python",
   "nbconvert_exporter": "python",
   "pygments_lexer": "ipython3",
   "version": "3.7.8"
  }
 },
 "nbformat": 4,
 "nbformat_minor": 4
}