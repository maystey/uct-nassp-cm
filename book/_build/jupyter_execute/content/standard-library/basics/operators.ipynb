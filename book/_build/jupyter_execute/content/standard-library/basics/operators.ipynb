{
 "cells": [
  {
   "cell_type": "markdown",
   "metadata": {},
   "source": [
    "# Numerical Operators\n",
    "<!--- Rename to arithmatic operators? -->"
   ]
  },
  {
   "cell_type": "markdown",
   "metadata": {},
   "source": [
    "Coding, in the simplest sense, is merely the action of assigning values to variables, and then 'doing things' with those variables.\n",
    "\n",
    "In this section we will look at some of the basic operators used for integers and floats. Other variable types have different operators, which we shall see later.\n",
    "\n",
    "An obvious starting point is basic arithmetic; addition, subtraction, multiplication and division:"
   ]
  },
  {
   "cell_type": "code",
   "execution_count": 1,
   "metadata": {
    "execution": {
     "iopub.execute_input": "2020-11-24T18:51:29.262981Z",
     "iopub.status.busy": "2020-11-24T18:51:29.261169Z",
     "iopub.status.idle": "2020-11-24T18:51:29.273367Z",
     "shell.execute_reply": "2020-11-24T18:51:29.271256Z"
    }
   },
   "outputs": [
    {
     "name": "stdout",
     "output_type": "stream",
     "text": [
      "a added to b is 5.0\n",
      "a multiplied by c is 20.0\n",
      "c divided by b is 3.3333333333333335\n",
      "a subtracted from c 8.0\n"
     ]
    }
   ],
   "source": [
    "a = 2.0\n",
    "b = 3.0\n",
    "c = 10.0\n",
    "\n",
    "print('a added to b is', a + b)\n",
    "print('a multiplied by c is', a*c)\n",
    "print('c divided by b is', c/b)\n",
    "print('a subtracted from c', c - a)"
   ]
  },
  {
   "cell_type": "markdown",
   "metadata": {},
   "source": [
    "These operators can also be used for integers:"
   ]
  },
  {
   "cell_type": "code",
   "execution_count": 2,
   "metadata": {
    "execution": {
     "iopub.execute_input": "2020-11-24T18:51:29.285402Z",
     "iopub.status.busy": "2020-11-24T18:51:29.283594Z",
     "iopub.status.idle": "2020-11-24T18:51:29.292741Z",
     "shell.execute_reply": "2020-11-24T18:51:29.290919Z"
    }
   },
   "outputs": [
    {
     "name": "stdout",
     "output_type": "stream",
     "text": [
      "2 multiplied by 3 is 6\n"
     ]
    }
   ],
   "source": [
    "print('2 multiplied by 3 is', 2*3)"
   ]
  },
  {
   "cell_type": "markdown",
   "metadata": {},
   "source": [
    "and between integers and floats:"
   ]
  },
  {
   "cell_type": "code",
   "execution_count": 3,
   "metadata": {
    "execution": {
     "iopub.execute_input": "2020-11-24T18:51:29.305905Z",
     "iopub.status.busy": "2020-11-24T18:51:29.303727Z",
     "iopub.status.idle": "2020-11-24T18:51:29.313451Z",
     "shell.execute_reply": "2020-11-24T18:51:29.311835Z"
    }
   },
   "outputs": [
    {
     "name": "stdout",
     "output_type": "stream",
     "text": [
      "1.5 multiplied by 2 is 3.0\n"
     ]
    }
   ],
   "source": [
    "print('1.5 multiplied by 2 is', 1.5*2)"
   ]
  },
  {
   "cell_type": "markdown",
   "metadata": {},
   "source": [
    "If you are using Python version 2.xxx or below, beware of dividing by integers..."
   ]
  },
  {
   "cell_type": "markdown",
   "metadata": {},
   "source": [
    "## The Exponential Operator `**`\n",
    "Another useful operator is the exponential operator `**`. This returns the left number to the power of the right:"
   ]
  },
  {
   "cell_type": "code",
   "execution_count": 4,
   "metadata": {
    "execution": {
     "iopub.execute_input": "2020-11-24T18:51:29.321966Z",
     "iopub.status.busy": "2020-11-24T18:51:29.320656Z",
     "iopub.status.idle": "2020-11-24T18:51:29.325263Z",
     "shell.execute_reply": "2020-11-24T18:51:29.325965Z"
    }
   },
   "outputs": [
    {
     "name": "stdout",
     "output_type": "stream",
     "text": [
      "8\n"
     ]
    }
   ],
   "source": [
    "print(2**3)"
   ]
  },
  {
   "cell_type": "markdown",
   "metadata": {},
   "source": [
    "which can be read as $2^3$.\n",
    "\n",
    "Note that this operator also works on floats and float-integer combinations:"
   ]
  },
  {
   "cell_type": "code",
   "execution_count": 5,
   "metadata": {
    "execution": {
     "iopub.execute_input": "2020-11-24T18:51:29.332155Z",
     "iopub.status.busy": "2020-11-24T18:51:29.331219Z",
     "iopub.status.idle": "2020-11-24T18:51:29.335569Z",
     "shell.execute_reply": "2020-11-24T18:51:29.334834Z"
    }
   },
   "outputs": [
    {
     "name": "stdout",
     "output_type": "stream",
     "text": [
      "2.0\n"
     ]
    }
   ],
   "source": [
    "print(4**0.5) #square root of 4"
   ]
  },
  {
   "cell_type": "markdown",
   "metadata": {},
   "source": [
    "## The Modulo Operator `%`\n",
    "The modulo operator returns the remainder of the left number divided by the right:"
   ]
  },
  {
   "cell_type": "code",
   "execution_count": 6,
   "metadata": {
    "execution": {
     "iopub.execute_input": "2020-11-24T18:51:29.340235Z",
     "iopub.status.busy": "2020-11-24T18:51:29.339503Z",
     "iopub.status.idle": "2020-11-24T18:51:29.341973Z",
     "shell.execute_reply": "2020-11-24T18:51:29.342428Z"
    }
   },
   "outputs": [
    {
     "name": "stdout",
     "output_type": "stream",
     "text": [
      "1\n"
     ]
    }
   ],
   "source": [
    "print(16%3)"
   ]
  },
  {
   "cell_type": "markdown",
   "metadata": {},
   "source": [
    "In mathematics this would be expressed as \n",
    "\n",
    "$16$ mod $3$.\n",
    "\n",
    "This operator can also act on floats and integer-float combinations:"
   ]
  },
  {
   "cell_type": "code",
   "execution_count": 7,
   "metadata": {
    "execution": {
     "iopub.execute_input": "2020-11-24T18:51:29.346140Z",
     "iopub.status.busy": "2020-11-24T18:51:29.345637Z",
     "iopub.status.idle": "2020-11-24T18:51:29.348220Z",
     "shell.execute_reply": "2020-11-24T18:51:29.347705Z"
    }
   },
   "outputs": [
    {
     "name": "stdout",
     "output_type": "stream",
     "text": [
      "1.3000000000000007\n"
     ]
    }
   ],
   "source": [
    "print(16.3%3)"
   ]
  },
  {
   "cell_type": "markdown",
   "metadata": {},
   "source": [
    "## The Floor Division Operator `//`\n",
    "This returns the result of the left number divided by the right, but without the remainder:"
   ]
  },
  {
   "cell_type": "code",
   "execution_count": 8,
   "metadata": {
    "execution": {
     "iopub.execute_input": "2020-11-24T18:51:29.351472Z",
     "iopub.status.busy": "2020-11-24T18:51:29.351013Z",
     "iopub.status.idle": "2020-11-24T18:51:29.353092Z",
     "shell.execute_reply": "2020-11-24T18:51:29.353456Z"
    }
   },
   "outputs": [
    {
     "name": "stdout",
     "output_type": "stream",
     "text": [
      "5\n"
     ]
    }
   ],
   "source": [
    "print(16//3)"
   ]
  },
  {
   "cell_type": "markdown",
   "metadata": {},
   "source": [
    "Like the others this works for both integers and floats."
   ]
  },
  {
   "cell_type": "markdown",
   "metadata": {},
   "source": [
    "## Special Functions and Advanced Mathematics\n",
    "For more complex mathematics involving logs, trigonometry, etc. we'll rely on the scientific packages SciPy and NumPy. We'll discuss these at a later stage."
   ]
  },
  {
   "cell_type": "markdown",
   "metadata": {},
   "source": [
    "## Multiple Operations in a Single Expression\n",
    "Though we have only seen one operation or function used per line, you can combine as many as you'd like:"
   ]
  },
  {
   "cell_type": "code",
   "execution_count": 9,
   "metadata": {
    "execution": {
     "iopub.execute_input": "2020-11-24T18:51:29.356612Z",
     "iopub.status.busy": "2020-11-24T18:51:29.356151Z",
     "iopub.status.idle": "2020-11-24T18:51:29.358292Z",
     "shell.execute_reply": "2020-11-24T18:51:29.357934Z"
    }
   },
   "outputs": [
    {
     "name": "stdout",
     "output_type": "stream",
     "text": [
      "12\n"
     ]
    }
   ],
   "source": [
    "print( 2**3 + 4)"
   ]
  },
  {
   "cell_type": "markdown",
   "metadata": {},
   "source": [
    "If you want to group or control the order in which operations are executed use brackets. For example:"
   ]
  },
  {
   "cell_type": "code",
   "execution_count": 10,
   "metadata": {
    "execution": {
     "iopub.execute_input": "2020-11-24T18:51:29.361516Z",
     "iopub.status.busy": "2020-11-24T18:51:29.361049Z",
     "iopub.status.idle": "2020-11-24T18:51:29.363445Z",
     "shell.execute_reply": "2020-11-24T18:51:29.363072Z"
    }
   },
   "outputs": [
    {
     "name": "stdout",
     "output_type": "stream",
     "text": [
      "100000\n"
     ]
    }
   ],
   "source": [
    "print( (2 + 17//2)**5 )"
   ]
  },
  {
   "cell_type": "markdown",
   "metadata": {},
   "source": [
    "where the `//` is applied first, then the `+` and lastly the `**`. We shall discuss the order in which operations and function calls are executed later. <!--- in Section.... Make a url -->"
   ]
  },
  {
   "cell_type": "code",
   "execution_count": null,
   "metadata": {},
   "outputs": [],
   "source": []
  }
 ],
 "metadata": {
  "kernelspec": {
   "display_name": "Python 3",
   "language": "python",
   "name": "python3"
  },
  "language_info": {
   "codemirror_mode": {
    "name": "ipython",
    "version": 3
   },
   "file_extension": ".py",
   "mimetype": "text/x-python",
   "name": "python",
   "nbconvert_exporter": "python",
   "pygments_lexer": "ipython3",
   "version": "3.7.8"
  }
 },
 "nbformat": 4,
 "nbformat_minor": 4
}