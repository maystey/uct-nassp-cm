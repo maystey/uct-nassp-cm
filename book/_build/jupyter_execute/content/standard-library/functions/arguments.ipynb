{
 "cells": [
  {
   "cell_type": "markdown",
   "metadata": {},
   "source": [
    "# Function Arguments"
   ]
  },
  {
   "cell_type": "markdown",
   "metadata": {},
   "source": [
    "You can include as many arguments as you want in your function definition. Inside the function, these arguments can be treated as variables.\n",
    "\n",
    "<!--- The names you give these arguments can be treated as variable names inside the function. -->"
   ]
  },
  {
   "cell_type": "code",
   "execution_count": 1,
   "metadata": {
    "execution": {
     "iopub.execute_input": "2020-11-24T18:51:45.844260Z",
     "iopub.status.busy": "2020-11-24T18:51:45.842216Z",
     "iopub.status.idle": "2020-11-24T18:51:45.848067Z",
     "shell.execute_reply": "2020-11-24T18:51:45.849555Z"
    }
   },
   "outputs": [],
   "source": [
    "def arg3(arg1, arg2, arg3):\n",
    "    print(arg1)\n",
    "    print(arg2)\n",
    "    return arg3"
   ]
  },
  {
   "cell_type": "code",
   "execution_count": 2,
   "metadata": {
    "execution": {
     "iopub.execute_input": "2020-11-24T18:51:45.858826Z",
     "iopub.status.busy": "2020-11-24T18:51:45.855986Z",
     "iopub.status.idle": "2020-11-24T18:51:45.952969Z",
     "shell.execute_reply": "2020-11-24T18:51:45.951081Z"
    }
   },
   "outputs": [
    {
     "name": "stdout",
     "output_type": "stream",
     "text": [
      "1\n",
      "2\n"
     ]
    },
    {
     "data": {
      "text/plain": [
       "3"
      ]
     },
     "execution_count": 2,
     "metadata": {},
     "output_type": "execute_result"
    }
   ],
   "source": [
    "arg3(1, 2, 3)"
   ]
  },
  {
   "cell_type": "markdown",
   "metadata": {},
   "source": [
    "You may use variables or statements (anything that resolves to a value or object) as arguments:"
   ]
  },
  {
   "cell_type": "code",
   "execution_count": 3,
   "metadata": {
    "execution": {
     "iopub.execute_input": "2020-11-24T18:51:45.963354Z",
     "iopub.status.busy": "2020-11-24T18:51:45.961536Z",
     "iopub.status.idle": "2020-11-24T18:51:46.013367Z",
     "shell.execute_reply": "2020-11-24T18:51:46.014997Z"
    }
   },
   "outputs": [
    {
     "name": "stdout",
     "output_type": "stream",
     "text": [
      "45\n",
      "12\n"
     ]
    },
    {
     "data": {
      "text/plain": [
       "7"
      ]
     },
     "execution_count": 3,
     "metadata": {},
     "output_type": "execute_result"
    }
   ],
   "source": [
    "var1 = 45\n",
    "\n",
    "arg3(var1, 3*4, 7)"
   ]
  },
  {
   "cell_type": "markdown",
   "metadata": {},
   "source": [
    "## Positional Arguments"
   ]
  },
  {
   "cell_type": "markdown",
   "metadata": {},
   "source": [
    "The arguments defined above are called **positional arguments**. In order to set them correctly, you need to parse them in the order they are defined in the function. You must also provide a value for each argument:"
   ]
  },
  {
   "cell_type": "code",
   "execution_count": 4,
   "metadata": {
    "execution": {
     "iopub.execute_input": "2020-11-24T18:51:46.025644Z",
     "iopub.status.busy": "2020-11-24T18:51:46.023879Z",
     "iopub.status.idle": "2020-11-24T18:51:46.177089Z",
     "shell.execute_reply": "2020-11-24T18:51:46.176169Z"
    },
    "tags": [
     "raises-exception"
    ]
   },
   "outputs": [
    {
     "ename": "TypeError",
     "evalue": "arg3() missing 1 required positional argument: 'arg3'",
     "output_type": "error",
     "traceback": [
      "\u001b[0;31m---------------------------------------------------------------------------\u001b[0m",
      "\u001b[0;31mTypeError\u001b[0m                                 Traceback (most recent call last)",
      "\u001b[0;32m<ipython-input-4-964cf24ab02e>\u001b[0m in \u001b[0;36m<module>\u001b[0;34m\u001b[0m\n\u001b[0;32m----> 1\u001b[0;31m \u001b[0marg3\u001b[0m\u001b[0;34m(\u001b[0m\u001b[0;34m'a'\u001b[0m\u001b[0;34m,\u001b[0m \u001b[0;34m'b'\u001b[0m\u001b[0;34m)\u001b[0m\u001b[0;34m\u001b[0m\u001b[0;34m\u001b[0m\u001b[0m\n\u001b[0m",
      "\u001b[0;31mTypeError\u001b[0m: arg3() missing 1 required positional argument: 'arg3'"
     ]
    }
   ],
   "source": [
    "arg3('a', 'b')"
   ]
  },
  {
   "cell_type": "markdown",
   "metadata": {},
   "source": [
    "## Keyword Arguments"
   ]
  },
  {
   "cell_type": "markdown",
   "metadata": {},
   "source": [
    "If you want to set optional arguments with a default value, you can use keyword arguments. The syntax is:\n",
    "```python\n",
    "def function_name(keyword_arg = default_value):\n",
    "```\n",
    "\n",
    "For example:\n",
    "<!--- Should I really be using string formatting here? I guess it's as good a time as any... -->"
   ]
  },
  {
   "cell_type": "code",
   "execution_count": 5,
   "metadata": {
    "execution": {
     "iopub.execute_input": "2020-11-24T18:51:46.289342Z",
     "iopub.status.busy": "2020-11-24T18:51:46.287488Z",
     "iopub.status.idle": "2020-11-24T18:51:46.295022Z",
     "shell.execute_reply": "2020-11-24T18:51:46.293432Z"
    }
   },
   "outputs": [],
   "source": [
    "def hello(name = 'World', time = 'today'):\n",
    "    return f'Hello {name}! How are you {time}?' "
   ]
  },
  {
   "cell_type": "markdown",
   "metadata": {},
   "source": [
    "(If you are unfamiliar with f-strings `f''`, see the page on {doc}`String Formatting <../basics/string-formatting>`)"
   ]
  },
  {
   "cell_type": "markdown",
   "metadata": {},
   "source": [
    "This function can be called with no arguments, in which case the default values will be used:"
   ]
  },
  {
   "cell_type": "code",
   "execution_count": 6,
   "metadata": {
    "execution": {
     "iopub.execute_input": "2020-11-24T18:51:46.304950Z",
     "iopub.status.busy": "2020-11-24T18:51:46.303146Z",
     "iopub.status.idle": "2020-11-24T18:51:46.376593Z",
     "shell.execute_reply": "2020-11-24T18:51:46.374973Z"
    }
   },
   "outputs": [
    {
     "data": {
      "text/plain": [
       "'Hello World! How are you today?'"
      ]
     },
     "execution_count": 6,
     "metadata": {},
     "output_type": "execute_result"
    }
   ],
   "source": [
    "hello()"
   ]
  },
  {
   "cell_type": "markdown",
   "metadata": {},
   "source": [
    "We can also parse the arguments like positional arguments:"
   ]
  },
  {
   "cell_type": "code",
   "execution_count": 7,
   "metadata": {
    "execution": {
     "iopub.execute_input": "2020-11-24T18:51:46.386469Z",
     "iopub.status.busy": "2020-11-24T18:51:46.384724Z",
     "iopub.status.idle": "2020-11-24T18:51:46.454720Z",
     "shell.execute_reply": "2020-11-24T18:51:46.453161Z"
    }
   },
   "outputs": [
    {
     "data": {
      "text/plain": [
       "'Hello reader! How are you feeling?'"
      ]
     },
     "execution_count": 7,
     "metadata": {},
     "output_type": "execute_result"
    }
   ],
   "source": [
    "hello('reader', 'feeling')"
   ]
  },
  {
   "cell_type": "code",
   "execution_count": 8,
   "metadata": {
    "execution": {
     "iopub.execute_input": "2020-11-24T18:51:46.464722Z",
     "iopub.status.busy": "2020-11-24T18:51:46.462946Z",
     "iopub.status.idle": "2020-11-24T18:51:46.533771Z",
     "shell.execute_reply": "2020-11-24T18:51:46.531948Z"
    }
   },
   "outputs": [
    {
     "data": {
      "text/plain": [
       "'Hello reader! How are you today?'"
      ]
     },
     "execution_count": 8,
     "metadata": {},
     "output_type": "execute_result"
    }
   ],
   "source": [
    "hello('reader')"
   ]
  },
  {
   "cell_type": "markdown",
   "metadata": {},
   "source": [
    "Keyword arguments can be referred to by name, and out of order:"
   ]
  },
  {
   "cell_type": "code",
   "execution_count": 9,
   "metadata": {
    "execution": {
     "iopub.execute_input": "2020-11-24T18:51:46.544140Z",
     "iopub.status.busy": "2020-11-24T18:51:46.542254Z",
     "iopub.status.idle": "2020-11-24T18:51:46.613248Z",
     "shell.execute_reply": "2020-11-24T18:51:46.611384Z"
    }
   },
   "outputs": [
    {
     "data": {
      "text/plain": [
       "'Hello World! How are you this morning?'"
      ]
     },
     "execution_count": 9,
     "metadata": {},
     "output_type": "execute_result"
    }
   ],
   "source": [
    "hello(time = 'this morning')"
   ]
  },
  {
   "cell_type": "markdown",
   "metadata": {},
   "source": [
    "## Combining Positional and Keyword Arguments"
   ]
  },
  {
   "cell_type": "markdown",
   "metadata": {},
   "source": [
    "If you define a function with both positional and keyword arguments, the positional arguments must appear **before** the keyword arguments.\n",
    "\n",
    "For example:"
   ]
  },
  {
   "cell_type": "code",
   "execution_count": 10,
   "metadata": {
    "execution": {
     "iopub.execute_input": "2020-11-24T18:51:46.624810Z",
     "iopub.status.busy": "2020-11-24T18:51:46.622935Z",
     "iopub.status.idle": "2020-11-24T18:51:46.687147Z",
     "shell.execute_reply": "2020-11-24T18:51:46.688701Z"
    }
   },
   "outputs": [],
   "source": [
    "def hello_hello(num, name = 'World', time = 'today', weather = 'good'):\n",
    "    \n",
    "    return f\"Hello {num*'hello'} {name}! How are you {time}?\""
   ]
  },
  {
   "cell_type": "markdown",
   "metadata": {},
   "source": [
    "Here the positional argument `num` must be provided"
   ]
  },
  {
   "cell_type": "code",
   "execution_count": 11,
   "metadata": {
    "execution": {
     "iopub.execute_input": "2020-11-24T18:51:46.698717Z",
     "iopub.status.busy": "2020-11-24T18:51:46.696909Z",
     "iopub.status.idle": "2020-11-24T18:51:46.787334Z",
     "shell.execute_reply": "2020-11-24T18:51:46.784061Z"
    },
    "tags": [
     "raises-exception"
    ]
   },
   "outputs": [
    {
     "ename": "TypeError",
     "evalue": "hello_hello() missing 1 required positional argument: 'num'",
     "output_type": "error",
     "traceback": [
      "\u001b[0;31m---------------------------------------------------------------------------\u001b[0m",
      "\u001b[0;31mTypeError\u001b[0m                                 Traceback (most recent call last)",
      "\u001b[0;32m<ipython-input-11-260a0f5fbf0a>\u001b[0m in \u001b[0;36m<module>\u001b[0;34m\u001b[0m\n\u001b[0;32m----> 1\u001b[0;31m \u001b[0mhello_hello\u001b[0m\u001b[0;34m(\u001b[0m\u001b[0;34m)\u001b[0m\u001b[0;34m\u001b[0m\u001b[0;34m\u001b[0m\u001b[0m\n\u001b[0m",
      "\u001b[0;31mTypeError\u001b[0m: hello_hello() missing 1 required positional argument: 'num'"
     ]
    }
   ],
   "source": [
    "hello_hello()"
   ]
  },
  {
   "cell_type": "markdown",
   "metadata": {},
   "source": [
    "As before, the keyword arguments can be provided like positional arguments or by name:"
   ]
  },
  {
   "cell_type": "code",
   "execution_count": 12,
   "metadata": {
    "execution": {
     "iopub.execute_input": "2020-11-24T18:51:46.898420Z",
     "iopub.status.busy": "2020-11-24T18:51:46.896574Z",
     "iopub.status.idle": "2020-11-24T18:51:46.907002Z",
     "shell.execute_reply": "2020-11-24T18:51:46.905147Z"
    }
   },
   "outputs": [
    {
     "data": {
      "text/plain": [
       "'Hello hello there! How are you doing?'"
      ]
     },
     "execution_count": 12,
     "metadata": {},
     "output_type": "execute_result"
    }
   ],
   "source": [
    "hello_hello(1, 'there', 'doing')"
   ]
  },
  {
   "cell_type": "code",
   "execution_count": 13,
   "metadata": {
    "execution": {
     "iopub.execute_input": "2020-11-24T18:51:46.917715Z",
     "iopub.status.busy": "2020-11-24T18:51:46.915899Z",
     "iopub.status.idle": "2020-11-24T18:51:47.002771Z",
     "shell.execute_reply": "2020-11-24T18:51:47.001224Z"
    }
   },
   "outputs": [
    {
     "data": {
      "text/plain": [
       "'Hello  sleepy head! How are you awake this early?'"
      ]
     },
     "execution_count": 13,
     "metadata": {},
     "output_type": "execute_result"
    }
   ],
   "source": [
    "hello_hello(0, time = 'awake this early', name = 'sleepy head')"
   ]
  }
 ],
 "metadata": {
  "kernelspec": {
   "display_name": "Python 3.7.3 64-bit ('base': conda)",
   "language": "python",
   "name": "python37364bitbaseconda97808f46a65a4f1e9dfdbcff18a07fbf"
  },
  "language_info": {
   "codemirror_mode": {
    "name": "ipython",
    "version": 3
   },
   "file_extension": ".py",
   "mimetype": "text/x-python",
   "name": "python",
   "nbconvert_exporter": "python",
   "pygments_lexer": "ipython3",
   "version": "3.7.3"
  }
 },
 "nbformat": 4,
 "nbformat_minor": 4
}