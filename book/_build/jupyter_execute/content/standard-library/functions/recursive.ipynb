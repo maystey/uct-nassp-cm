{
 "cells": [
  {
   "cell_type": "markdown",
   "metadata": {},
   "source": [
    "# Recursive Functions"
   ]
  },
  {
   "cell_type": "markdown",
   "metadata": {},
   "source": [
    "Recursive functions are functions that make calls to themselves.\n",
    "\n",
    "They can be used in place of loops. Though in Python they don't necessarily provide a more efficient solution, there are many problems for which a recursive function is the most elegant and convenient solution."
   ]
  },
  {
   "cell_type": "markdown",
   "metadata": {},
   "source": [
    "## Worked Example: Factorial"
   ]
  },
  {
   "cell_type": "markdown",
   "metadata": {},
   "source": [
    "One of the most famous implementations of a recursive function is to implement the factorial:\n",
    "\n",
    "$$\n",
    "\\begin{align*}\n",
    "0! &= 1\\\\\n",
    "n! &= n\\times(n-1)\\times(n-2)\\times(n-3)\\times\\dots\\times2\\times1\\\\\n",
    "\\end{align*}\n",
    "$$\n",
    "\n",
    "This is achieved by using the recurrence relation:\n",
    "\n",
    "$$\n",
    "n! = n\\times(n-1)!\n",
    "$$\n",
    "\n",
    "The recursive function which solves this is:"
   ]
  },
  {
   "cell_type": "code",
   "execution_count": 1,
   "metadata": {
    "execution": {
     "iopub.execute_input": "2020-11-24T18:51:52.409542Z",
     "iopub.status.busy": "2020-11-24T18:51:52.407508Z",
     "iopub.status.idle": "2020-11-24T18:51:52.413226Z",
     "shell.execute_reply": "2020-11-24T18:51:52.414770Z"
    }
   },
   "outputs": [],
   "source": [
    "def factorial(n):\n",
    "    if not type(n) is int:\n",
    "        print('n must be an integer')\n",
    "        return\n",
    "    if n <0:\n",
    "        print('n must be greater than or equal to 0')\n",
    "        return\n",
    "    \n",
    "    if n == 0:\n",
    "        return 1\n",
    "    \n",
    "    return n*factorial(n-1)"
   ]
  },
  {
   "cell_type": "markdown",
   "metadata": {},
   "source": [
    "Note, an important aspect of this function is the return value of 1 for `n == 0`. This is called the base class, without it the function would never finish it's recursion.\n",
    "\n",
    "Putting this function into action:"
   ]
  },
  {
   "cell_type": "code",
   "execution_count": 2,
   "metadata": {
    "execution": {
     "iopub.execute_input": "2020-11-24T18:51:52.424890Z",
     "iopub.status.busy": "2020-11-24T18:51:52.423134Z",
     "iopub.status.idle": "2020-11-24T18:51:53.209443Z",
     "shell.execute_reply": "2020-11-24T18:51:53.207571Z"
    }
   },
   "outputs": [
    {
     "name": "stdout",
     "output_type": "stream",
     "text": [
      "n must be greater than or equal to 0\n"
     ]
    }
   ],
   "source": [
    "factorial(-1)"
   ]
  },
  {
   "cell_type": "code",
   "execution_count": 3,
   "metadata": {
    "execution": {
     "iopub.execute_input": "2020-11-24T18:51:53.219357Z",
     "iopub.status.busy": "2020-11-24T18:51:53.217644Z",
     "iopub.status.idle": "2020-11-24T18:51:53.817101Z",
     "shell.execute_reply": "2020-11-24T18:51:53.815467Z"
    }
   },
   "outputs": [
    {
     "name": "stdout",
     "output_type": "stream",
     "text": [
      "n must be an integer\n"
     ]
    }
   ],
   "source": [
    "factorial(0.5)"
   ]
  },
  {
   "cell_type": "code",
   "execution_count": 4,
   "metadata": {
    "execution": {
     "iopub.execute_input": "2020-11-24T18:51:53.827290Z",
     "iopub.status.busy": "2020-11-24T18:51:53.825492Z",
     "iopub.status.idle": "2020-11-24T18:51:53.948059Z",
     "shell.execute_reply": "2020-11-24T18:51:53.946325Z"
    }
   },
   "outputs": [
    {
     "data": {
      "text/plain": [
       "1"
      ]
     },
     "execution_count": 4,
     "metadata": {},
     "output_type": "execute_result"
    }
   ],
   "source": [
    "factorial(0)"
   ]
  },
  {
   "cell_type": "code",
   "execution_count": 5,
   "metadata": {
    "execution": {
     "iopub.execute_input": "2020-11-24T18:51:53.956879Z",
     "iopub.status.busy": "2020-11-24T18:51:53.954122Z",
     "iopub.status.idle": "2020-11-24T18:51:54.065277Z",
     "shell.execute_reply": "2020-11-24T18:51:54.063586Z"
    }
   },
   "outputs": [
    {
     "data": {
      "text/plain": [
       "1"
      ]
     },
     "execution_count": 5,
     "metadata": {},
     "output_type": "execute_result"
    }
   ],
   "source": [
    "factorial(1)"
   ]
  },
  {
   "cell_type": "code",
   "execution_count": 6,
   "metadata": {
    "execution": {
     "iopub.execute_input": "2020-11-24T18:51:54.075270Z",
     "iopub.status.busy": "2020-11-24T18:51:54.073539Z",
     "iopub.status.idle": "2020-11-24T18:51:54.167422Z",
     "shell.execute_reply": "2020-11-24T18:51:54.165884Z"
    }
   },
   "outputs": [
    {
     "data": {
      "text/plain": [
       "120"
      ]
     },
     "execution_count": 6,
     "metadata": {},
     "output_type": "execute_result"
    }
   ],
   "source": [
    "factorial(5)"
   ]
  },
  {
   "cell_type": "code",
   "execution_count": 7,
   "metadata": {
    "execution": {
     "iopub.execute_input": "2020-11-24T18:51:54.177612Z",
     "iopub.status.busy": "2020-11-24T18:51:54.175592Z",
     "iopub.status.idle": "2020-11-24T18:51:54.270186Z",
     "shell.execute_reply": "2020-11-24T18:51:54.268635Z"
    }
   },
   "outputs": [
    {
     "data": {
      "text/plain": [
       "3628800"
      ]
     },
     "execution_count": 7,
     "metadata": {},
     "output_type": "execute_result"
    }
   ],
   "source": [
    "factorial(10)"
   ]
  },
  {
   "cell_type": "markdown",
   "metadata": {
    "tags": [
     "remove_cell"
    ]
   },
   "source": [
    "### Illustration of How a Function Call Works"
   ]
  },
  {
   "cell_type": "markdown",
   "metadata": {},
   "source": [
    "The inner workings of this `factorial()` function are fairly subtle. The (informal) flow diagram below illustrates the function call for `factorial(5)`:\n",
    "\n",
    "![Factorial flow chart](function_recursion_factorial.png)"
   ]
  },
  {
   "cell_type": "markdown",
   "metadata": {},
   "source": [
    "## The Base Class"
   ]
  },
  {
   "cell_type": "markdown",
   "metadata": {},
   "source": [
    "As mentioned earlier, a recursive function must have at least one base class. The base class is a return state that **doesn't** make another recursive function call.\n",
    "\n",
    "It's also important to make sure that the recursion eventually reaches the base class when designing your function."
   ]
  },
  {
   "cell_type": "code",
   "execution_count": null,
   "metadata": {},
   "outputs": [],
   "source": []
  }
 ],
 "metadata": {
  "kernelspec": {
   "display_name": "Python 3.7.3 64-bit ('base': conda)",
   "language": "python",
   "name": "python37364bitbaseconda97808f46a65a4f1e9dfdbcff18a07fbf"
  },
  "language_info": {
   "codemirror_mode": {
    "name": "ipython",
    "version": 3
   },
   "file_extension": ".py",
   "mimetype": "text/x-python",
   "name": "python",
   "nbconvert_exporter": "python",
   "pygments_lexer": "ipython3",
   "version": "3.7.3"
  }
 },
 "nbformat": 4,
 "nbformat_minor": 4
}