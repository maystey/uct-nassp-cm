{
 "cells": [
  {
   "cell_type": "markdown",
   "metadata": {},
   "source": [
    "# Local Variables"
   ]
  },
  {
   "cell_type": "markdown",
   "metadata": {},
   "source": [
    "Variables defined in the main body of a script are called **global** variables. <!--- Fact check! --> These variables are accessible inside of functions:"
   ]
  },
  {
   "cell_type": "code",
   "execution_count": 1,
   "metadata": {
    "execution": {
     "iopub.execute_input": "2020-11-24T18:51:50.145718Z",
     "iopub.status.busy": "2020-11-24T18:51:50.145050Z",
     "iopub.status.idle": "2020-11-24T18:51:50.147860Z",
     "shell.execute_reply": "2020-11-24T18:51:50.147311Z"
    }
   },
   "outputs": [],
   "source": [
    "x = 5\n",
    "\n",
    "def get_x():\n",
    "    return x"
   ]
  },
  {
   "cell_type": "code",
   "execution_count": 2,
   "metadata": {
    "execution": {
     "iopub.execute_input": "2020-11-24T18:51:50.151474Z",
     "iopub.status.busy": "2020-11-24T18:51:50.150798Z",
     "iopub.status.idle": "2020-11-24T18:51:50.268797Z",
     "shell.execute_reply": "2020-11-24T18:51:50.267322Z"
    }
   },
   "outputs": [
    {
     "data": {
      "text/plain": [
       "5"
      ]
     },
     "execution_count": 2,
     "metadata": {},
     "output_type": "execute_result"
    }
   ],
   "source": [
    "get_x()"
   ]
  },
  {
   "cell_type": "markdown",
   "metadata": {},
   "source": [
    "The arguments parsed into and the variables defined inside the function are **local variables**. They only exist in a particular instance of a function. <!--- namespace --->\n",
    "\n",
    "In other words, these variables are not accessable from outside the function. For example:"
   ]
  },
  {
   "cell_type": "code",
   "execution_count": 3,
   "metadata": {
    "execution": {
     "iopub.execute_input": "2020-11-24T18:51:50.279586Z",
     "iopub.status.busy": "2020-11-24T18:51:50.277815Z",
     "iopub.status.idle": "2020-11-24T18:51:50.362545Z",
     "shell.execute_reply": "2020-11-24T18:51:50.360706Z"
    }
   },
   "outputs": [],
   "source": [
    "def make_var():\n",
    "    func_var = 4\n",
    "    return func_var"
   ]
  },
  {
   "cell_type": "code",
   "execution_count": 4,
   "metadata": {
    "execution": {
     "iopub.execute_input": "2020-11-24T18:51:50.372435Z",
     "iopub.status.busy": "2020-11-24T18:51:50.370626Z",
     "iopub.status.idle": "2020-11-24T18:51:50.454321Z",
     "shell.execute_reply": "2020-11-24T18:51:50.455857Z"
    }
   },
   "outputs": [
    {
     "data": {
      "text/plain": [
       "4"
      ]
     },
     "execution_count": 4,
     "metadata": {},
     "output_type": "execute_result"
    }
   ],
   "source": [
    "make_var()"
   ]
  },
  {
   "cell_type": "code",
   "execution_count": 5,
   "metadata": {
    "execution": {
     "iopub.execute_input": "2020-11-24T18:51:50.466070Z",
     "iopub.status.busy": "2020-11-24T18:51:50.464315Z",
     "iopub.status.idle": "2020-11-24T18:51:50.605129Z",
     "shell.execute_reply": "2020-11-24T18:51:50.604174Z"
    },
    "tags": [
     "raises-exception"
    ]
   },
   "outputs": [
    {
     "ename": "NameError",
     "evalue": "name 'func_var' is not defined",
     "output_type": "error",
     "traceback": [
      "\u001b[0;31m---------------------------------------------------------------------------\u001b[0m",
      "\u001b[0;31mNameError\u001b[0m                                 Traceback (most recent call last)",
      "\u001b[0;32m<ipython-input-5-96e608aeebf3>\u001b[0m in \u001b[0;36m<module>\u001b[0;34m\u001b[0m\n\u001b[0;32m----> 1\u001b[0;31m \u001b[0mfunc_var\u001b[0m\u001b[0;34m\u001b[0m\u001b[0;34m\u001b[0m\u001b[0m\n\u001b[0m",
      "\u001b[0;31mNameError\u001b[0m: name 'func_var' is not defined"
     ]
    }
   ],
   "source": [
    "func_var"
   ]
  },
  {
   "cell_type": "markdown",
   "metadata": {},
   "source": [
    "If we were to define `func_var` as a global variable, `make_var` will instance a local variable instead of reassigning the global variable:"
   ]
  },
  {
   "cell_type": "code",
   "execution_count": 6,
   "metadata": {
    "execution": {
     "iopub.execute_input": "2020-11-24T18:51:50.719295Z",
     "iopub.status.busy": "2020-11-24T18:51:50.716984Z",
     "iopub.status.idle": "2020-11-24T18:51:50.727137Z",
     "shell.execute_reply": "2020-11-24T18:51:50.725315Z"
    }
   },
   "outputs": [
    {
     "name": "stdout",
     "output_type": "stream",
     "text": [
      "Before function 6\n",
      "Function return 4\n",
      "After function 6\n"
     ]
    }
   ],
   "source": [
    "func_var = 6\n",
    "\n",
    "print('Before function', func_var)\n",
    "print('Function return', make_var())\n",
    "print('After function', func_var)"
   ]
  },
  {
   "cell_type": "markdown",
   "metadata": {},
   "source": [
    "Note that when referencing a variable, Python will check the local namespace **before** the global namespace (i.e. local variables are given preference)."
   ]
  },
  {
   "cell_type": "markdown",
   "metadata": {},
   "source": [
    "As stated above, function arguments can also be treated as local variables."
   ]
  },
  {
   "cell_type": "code",
   "execution_count": 7,
   "metadata": {
    "execution": {
     "iopub.execute_input": "2020-11-24T18:51:50.737236Z",
     "iopub.status.busy": "2020-11-24T18:51:50.735475Z",
     "iopub.status.idle": "2020-11-24T18:51:50.812625Z",
     "shell.execute_reply": "2020-11-24T18:51:50.810964Z"
    }
   },
   "outputs": [],
   "source": [
    "def arg_var(x):\n",
    "    return x"
   ]
  },
  {
   "cell_type": "code",
   "execution_count": 8,
   "metadata": {
    "execution": {
     "iopub.execute_input": "2020-11-24T18:51:50.822646Z",
     "iopub.status.busy": "2020-11-24T18:51:50.820873Z",
     "iopub.status.idle": "2020-11-24T18:51:50.906411Z",
     "shell.execute_reply": "2020-11-24T18:51:50.904745Z"
    }
   },
   "outputs": [
    {
     "data": {
      "text/plain": [
       "2"
      ]
     },
     "execution_count": 8,
     "metadata": {},
     "output_type": "execute_result"
    }
   ],
   "source": [
    "x = 5\n",
    "\n",
    "arg_var(2)"
   ]
  },
  {
   "cell_type": "markdown",
   "metadata": {
    "tags": [
     "remove_cell"
    ]
   },
   "source": [
    "<!--- Note that when you parse a variable into a function, only the variables value is passed into the function-->\n",
    "\n",
    "Note that, for variables that return values when referenced, "
   ]
  },
  {
   "cell_type": "code",
   "execution_count": 9,
   "metadata": {
    "execution": {
     "iopub.execute_input": "2020-11-24T18:51:50.916828Z",
     "iopub.status.busy": "2020-11-24T18:51:50.914923Z",
     "iopub.status.idle": "2020-11-24T18:51:51.050918Z",
     "shell.execute_reply": "2020-11-24T18:51:51.049079Z"
    },
    "tags": [
     "remove_cell"
    ]
   },
   "outputs": [],
   "source": [
    "def arg_change(x):\n",
    "    x = x + 2\n",
    "    return x"
   ]
  },
  {
   "cell_type": "code",
   "execution_count": 10,
   "metadata": {
    "execution": {
     "iopub.execute_input": "2020-11-24T18:51:51.062127Z",
     "iopub.status.busy": "2020-11-24T18:51:51.060272Z",
     "iopub.status.idle": "2020-11-24T18:51:51.143309Z",
     "shell.execute_reply": "2020-11-24T18:51:51.142143Z"
    },
    "tags": [
     "remove_cell"
    ]
   },
   "outputs": [
    {
     "name": "stdout",
     "output_type": "stream",
     "text": [
      "6\n",
      "4\n"
     ]
    }
   ],
   "source": [
    "y = 4\n",
    "\n",
    "print(arg_change(y))\n",
    "print(y)"
   ]
  },
  {
   "cell_type": "code",
   "execution_count": 11,
   "metadata": {
    "execution": {
     "iopub.execute_input": "2020-11-24T18:51:51.149721Z",
     "iopub.status.busy": "2020-11-24T18:51:51.148868Z",
     "iopub.status.idle": "2020-11-24T18:51:51.242753Z",
     "shell.execute_reply": "2020-11-24T18:51:51.241195Z"
    },
    "tags": [
     "remove_cell"
    ]
   },
   "outputs": [],
   "source": [
    "def add_to_dict(d):\n",
    "    d['key'] = 'value'\n",
    "    return d"
   ]
  },
  {
   "cell_type": "code",
   "execution_count": 12,
   "metadata": {
    "execution": {
     "iopub.execute_input": "2020-11-24T18:51:51.253934Z",
     "iopub.status.busy": "2020-11-24T18:51:51.252174Z",
     "iopub.status.idle": "2020-11-24T18:51:51.336209Z",
     "shell.execute_reply": "2020-11-24T18:51:51.334026Z"
    },
    "tags": [
     "remove_cell"
    ]
   },
   "outputs": [
    {
     "name": "stdout",
     "output_type": "stream",
     "text": [
      "{}\n",
      "{'key': 'value'}\n",
      "{'key': 'value'}\n"
     ]
    }
   ],
   "source": [
    "d = {}\n",
    "\n",
    "print(d)\n",
    "print(add_to_dict(d))\n",
    "print(d)"
   ]
  },
  {
   "cell_type": "code",
   "execution_count": null,
   "metadata": {},
   "outputs": [],
   "source": []
  }
 ],
 "metadata": {
  "kernelspec": {
   "display_name": "Python 3.7.3 64-bit ('base': conda)",
   "language": "python",
   "name": "python37364bitbaseconda97808f46a65a4f1e9dfdbcff18a07fbf"
  },
  "language_info": {
   "codemirror_mode": {
    "name": "ipython",
    "version": 3
   },
   "file_extension": ".py",
   "mimetype": "text/x-python",
   "name": "python",
   "nbconvert_exporter": "python",
   "pygments_lexer": "ipython3",
   "version": "3.7.3"
  }
 },
 "nbformat": 4,
 "nbformat_minor": 4
}