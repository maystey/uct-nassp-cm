{
 "cells": [
  {
   "cell_type": "markdown",
   "metadata": {},
   "source": [
    "# `return` Statement"
   ]
  },
  {
   "cell_type": "markdown",
   "metadata": {},
   "source": [
    "## `return None`"
   ]
  },
  {
   "cell_type": "markdown",
   "metadata": {},
   "source": [
    "Some functions return nothing (for example the `print()` function). To achieve this you can either return `None`, leave the return value blank after `return`, or  put no `return` statement at all."
   ]
  },
  {
   "cell_type": "code",
   "execution_count": 1,
   "metadata": {
    "execution": {
     "iopub.execute_input": "2020-11-24T18:51:55.461146Z",
     "iopub.status.busy": "2020-11-24T18:51:55.460527Z",
     "iopub.status.idle": "2020-11-24T18:51:55.462831Z",
     "shell.execute_reply": "2020-11-24T18:51:55.463345Z"
    }
   },
   "outputs": [],
   "source": [
    "def none1():\n",
    "    return\n",
    "\n",
    "def none2():\n",
    "    return None\n",
    "\n",
    "def none3():\n",
    "    x = 2 #Needs code to work"
   ]
  },
  {
   "cell_type": "code",
   "execution_count": 2,
   "metadata": {
    "execution": {
     "iopub.execute_input": "2020-11-24T18:51:55.467495Z",
     "iopub.status.busy": "2020-11-24T18:51:55.466838Z",
     "iopub.status.idle": "2020-11-24T18:51:55.597536Z",
     "shell.execute_reply": "2020-11-24T18:51:55.595685Z"
    }
   },
   "outputs": [
    {
     "data": {
      "text/plain": [
       "NoneType"
      ]
     },
     "execution_count": 2,
     "metadata": {},
     "output_type": "execute_result"
    }
   ],
   "source": [
    "type(none1())"
   ]
  },
  {
   "cell_type": "code",
   "execution_count": 3,
   "metadata": {
    "execution": {
     "iopub.execute_input": "2020-11-24T18:51:55.607526Z",
     "iopub.status.busy": "2020-11-24T18:51:55.605774Z",
     "iopub.status.idle": "2020-11-24T18:51:55.705234Z",
     "shell.execute_reply": "2020-11-24T18:51:55.703223Z"
    }
   },
   "outputs": [
    {
     "data": {
      "text/plain": [
       "NoneType"
      ]
     },
     "execution_count": 3,
     "metadata": {},
     "output_type": "execute_result"
    }
   ],
   "source": [
    "type(none2())"
   ]
  },
  {
   "cell_type": "code",
   "execution_count": 4,
   "metadata": {
    "execution": {
     "iopub.execute_input": "2020-11-24T18:51:55.715254Z",
     "iopub.status.busy": "2020-11-24T18:51:55.713524Z",
     "iopub.status.idle": "2020-11-24T18:51:55.806759Z",
     "shell.execute_reply": "2020-11-24T18:51:55.805239Z"
    }
   },
   "outputs": [
    {
     "data": {
      "text/plain": [
       "NoneType"
      ]
     },
     "execution_count": 4,
     "metadata": {},
     "output_type": "execute_result"
    }
   ],
   "source": [
    "type(none3())"
   ]
  },
  {
   "cell_type": "markdown",
   "metadata": {},
   "source": [
    "## `return` Breaks Out of the Function"
   ]
  },
  {
   "cell_type": "markdown",
   "metadata": {},
   "source": [
    "It was stated above that the `return` statement breaks out of the function. This means that anything that comes directly after a `return` inside the function body will not execute. Consider the following example to illustrate this:"
   ]
  },
  {
   "cell_type": "code",
   "execution_count": 5,
   "metadata": {
    "execution": {
     "iopub.execute_input": "2020-11-24T18:51:55.817180Z",
     "iopub.status.busy": "2020-11-24T18:51:55.815396Z",
     "iopub.status.idle": "2020-11-24T18:51:55.906788Z",
     "shell.execute_reply": "2020-11-24T18:51:55.904952Z"
    }
   },
   "outputs": [],
   "source": [
    "def message():\n",
    "    print('This code will execute')\n",
    "    return\n",
    "    print('This code will not execute')"
   ]
  },
  {
   "cell_type": "code",
   "execution_count": 6,
   "metadata": {
    "execution": {
     "iopub.execute_input": "2020-11-24T18:51:55.916927Z",
     "iopub.status.busy": "2020-11-24T18:51:55.915101Z",
     "iopub.status.idle": "2020-11-24T18:51:56.008767Z",
     "shell.execute_reply": "2020-11-24T18:51:56.006920Z"
    }
   },
   "outputs": [
    {
     "name": "stdout",
     "output_type": "stream",
     "text": [
      "This code will execute\n"
     ]
    }
   ],
   "source": [
    "message()"
   ]
  },
  {
   "cell_type": "markdown",
   "metadata": {},
   "source": [
    "It can be useful to use this feature of `return` to break out of a loop, or even to ignore the `else` or `elif` parts of an `if` statement. \n",
    "\n",
    "For example, consider the function that checks if it's argument is even or odd:"
   ]
  },
  {
   "cell_type": "code",
   "execution_count": 7,
   "metadata": {
    "execution": {
     "iopub.execute_input": "2020-11-24T18:51:56.019849Z",
     "iopub.status.busy": "2020-11-24T18:51:56.017965Z",
     "iopub.status.idle": "2020-11-24T18:51:56.117554Z",
     "shell.execute_reply": "2020-11-24T18:51:56.119004Z"
    }
   },
   "outputs": [],
   "source": [
    "def is_even(value):\n",
    "    if value%2 == 0:\n",
    "        return True\n",
    "    else:\n",
    "        return False"
   ]
  },
  {
   "cell_type": "code",
   "execution_count": 8,
   "metadata": {
    "execution": {
     "iopub.execute_input": "2020-11-24T18:51:56.129128Z",
     "iopub.status.busy": "2020-11-24T18:51:56.127349Z",
     "iopub.status.idle": "2020-11-24T18:51:56.803112Z",
     "shell.execute_reply": "2020-11-24T18:51:56.801295Z"
    }
   },
   "outputs": [
    {
     "data": {
      "text/plain": [
       "False"
      ]
     },
     "execution_count": 8,
     "metadata": {},
     "output_type": "execute_result"
    }
   ],
   "source": [
    "is_even(3)"
   ]
  },
  {
   "cell_type": "code",
   "execution_count": 9,
   "metadata": {
    "execution": {
     "iopub.execute_input": "2020-11-24T18:51:56.813182Z",
     "iopub.status.busy": "2020-11-24T18:51:56.811386Z",
     "iopub.status.idle": "2020-11-24T18:51:56.897022Z",
     "shell.execute_reply": "2020-11-24T18:51:56.895403Z"
    }
   },
   "outputs": [
    {
     "data": {
      "text/plain": [
       "True"
      ]
     },
     "execution_count": 9,
     "metadata": {},
     "output_type": "execute_result"
    }
   ],
   "source": [
    "is_even(6)"
   ]
  },
  {
   "cell_type": "markdown",
   "metadata": {},
   "source": [
    "The else part of the function is unnecessary:"
   ]
  },
  {
   "cell_type": "code",
   "execution_count": 10,
   "metadata": {
    "execution": {
     "iopub.execute_input": "2020-11-24T18:51:56.908135Z",
     "iopub.status.busy": "2020-11-24T18:51:56.906246Z",
     "iopub.status.idle": "2020-11-24T18:51:56.988283Z",
     "shell.execute_reply": "2020-11-24T18:51:56.989767Z"
    }
   },
   "outputs": [],
   "source": [
    "def is_even(value):\n",
    "    if value%2 == 0:\n",
    "        return True\n",
    "    return False"
   ]
  },
  {
   "cell_type": "code",
   "execution_count": 11,
   "metadata": {
    "execution": {
     "iopub.execute_input": "2020-11-24T18:51:57.000067Z",
     "iopub.status.busy": "2020-11-24T18:51:56.998154Z",
     "iopub.status.idle": "2020-11-24T18:51:57.091201Z",
     "shell.execute_reply": "2020-11-24T18:51:57.088866Z"
    }
   },
   "outputs": [
    {
     "data": {
      "text/plain": [
       "False"
      ]
     },
     "execution_count": 11,
     "metadata": {},
     "output_type": "execute_result"
    }
   ],
   "source": [
    "is_even(3)"
   ]
  }
 ],
 "metadata": {
  "kernelspec": {
   "display_name": "Python 3.7.3 64-bit ('base': conda)",
   "language": "python",
   "name": "python37364bitbaseconda97808f46a65a4f1e9dfdbcff18a07fbf"
  },
  "language_info": {
   "codemirror_mode": {
    "name": "ipython",
    "version": 3
   },
   "file_extension": ".py",
   "mimetype": "text/x-python",
   "name": "python",
   "nbconvert_exporter": "python",
   "pygments_lexer": "ipython3",
   "version": "3.7.3"
  }
 },
 "nbformat": 4,
 "nbformat_minor": 4
}