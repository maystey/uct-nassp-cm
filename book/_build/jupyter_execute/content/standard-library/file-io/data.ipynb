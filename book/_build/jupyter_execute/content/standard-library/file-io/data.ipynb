{
 "cells": [
  {
   "cell_type": "markdown",
   "metadata": {},
   "source": [
    "# Structured Data Files"
   ]
  },
  {
   "cell_type": "markdown",
   "metadata": {},
   "source": [
    "In this section we focus on reading from and writing to files with a row-column format, such as is found in comma-separated (csv) and tab-separated (tsv) data files.\n",
    "\n",
    "Although `numpy.loadtxt()` is suitable for this task, it is valuable to be able to write your own code solution."
   ]
  },
  {
   "cell_type": "markdown",
   "metadata": {},
   "source": [
    "## Writing a Data File"
   ]
  },
  {
   "cell_type": "markdown",
   "metadata": {},
   "source": [
    "Let us generate some data and write it in a csv format (comma-separated values). In general what you use as the separator (delimiter) for your data is up to you, but if we use a .csv file extension it's best to stick to the standard."
   ]
  },
  {
   "cell_type": "code",
   "execution_count": 1,
   "metadata": {},
   "outputs": [],
   "source": [
    "import numpy as np\n",
    "\n",
    "#Generating data\n",
    "x = np.linspace(0, 2*np.pi)\n",
    "y = np.sin(x)\n",
    "z = np.cos(x)\n",
    "\n",
    "#Writing the data to file in csv format\n",
    "with open('data1.csv', 'w') as f:\n",
    "    f.write('x,sin(x),cos(x)\\n') #Header\n",
    "    \n",
    "    for xx, yy, zz in zip(x, y, z):\n",
    "        f.write(f'{xx},{yy},{zz}\\n')"
   ]
  },
  {
   "cell_type": "markdown",
   "metadata": {},
   "source": [
    "If you are not familiar with the string formatting used (`f'{xx},{yy},{zz}\\n'`) see the page [**The Python Standard Library/Strings/String Formatting**](../strings/string-formatting). Note that it is in this line (and also in the header) that we have separated the values with commas."
   ]
  },
  {
   "cell_type": "markdown",
   "metadata": {},
   "source": [
    "Note that the file extension **.csv** acts more as a hint for other software. There is no physical difference between a file we write with this extension or any other extension (including no extension). As long as the file mode is set to text (`'t'`), we are writing plain text files."
   ]
  },
  {
   "cell_type": "markdown",
   "metadata": {},
   "source": [
    "The output of our data file **data1.csv** looks like:"
   ]
  },
  {
   "cell_type": "code",
   "execution_count": 2,
   "metadata": {
    "tags": [
     "remove_input"
    ]
   },
   "outputs": [
    {
     "name": "stdout",
     "output_type": "stream",
     "text": [
      "x,sin(x),cos(x)\n",
      "0.0,0.0,1.0\n",
      "0.1282282715750936,0.127877161684506,0.9917900138232462\n",
      "0.2564565431501872,0.25365458390950735,0.9672948630390295\n",
      "0.38468481472528077,0.3752670048793741,0.9269167573460217\n",
      "0.5129130863003744,0.49071755200393785,0.8713187041233894\n",
      "0.6411413578754679,0.5981105304912159,0.8014136218679567\n",
      "0.7693696294505615,0.6956825506034864,0.7183493500977276\n",
      "0.8975979010256552,0.7818314824680298,0.6234898018587336\n",
      "1.0258261726007487,0.8551427630053461,0.5183925683105252\n",
      "\n"
     ]
    }
   ],
   "source": [
    "with open('data1.csv', 'r') as f:\n",
    "    data1 = f.readlines()\n",
    "\n",
    "print(('{}'*10).format(*data1[:10]))"
   ]
  },
  {
   "cell_type": "markdown",
   "metadata": {},
   "source": [
    "Or in a more presentable format:"
   ]
  },
  {
   "cell_type": "code",
   "execution_count": 3,
   "metadata": {
    "tags": [
     "remove_input"
    ]
   },
   "outputs": [
    {
     "data": {
      "text/html": [
       "<table border=\"1\" class=\"dataframe\">\n",
       "  <thead>\n",
       "    <tr style=\"text-align: right;\">\n",
       "      <th>x</th>\n",
       "      <th>sin(x)</th>\n",
       "      <th>cos(x)</th>\n",
       "    </tr>\n",
       "  </thead>\n",
       "  <tbody>\n",
       "    <tr>\n",
       "      <td>0.000000</td>\n",
       "      <td>0.000000e+00</td>\n",
       "      <td>1.000000</td>\n",
       "    </tr>\n",
       "    <tr>\n",
       "      <td>0.128228</td>\n",
       "      <td>1.278772e-01</td>\n",
       "      <td>0.991790</td>\n",
       "    </tr>\n",
       "    <tr>\n",
       "      <td>0.256457</td>\n",
       "      <td>2.536546e-01</td>\n",
       "      <td>0.967295</td>\n",
       "    </tr>\n",
       "    <tr>\n",
       "      <td>0.384685</td>\n",
       "      <td>3.752670e-01</td>\n",
       "      <td>0.926917</td>\n",
       "    </tr>\n",
       "    <tr>\n",
       "      <td>...</td>\n",
       "      <td>...</td>\n",
       "      <td>...</td>\n",
       "    </tr>\n",
       "    <tr>\n",
       "      <td>5.898500</td>\n",
       "      <td>-3.752670e-01</td>\n",
       "      <td>0.926917</td>\n",
       "    </tr>\n",
       "    <tr>\n",
       "      <td>6.026729</td>\n",
       "      <td>-2.536546e-01</td>\n",
       "      <td>0.967295</td>\n",
       "    </tr>\n",
       "    <tr>\n",
       "      <td>6.154957</td>\n",
       "      <td>-1.278772e-01</td>\n",
       "      <td>0.991790</td>\n",
       "    </tr>\n",
       "    <tr>\n",
       "      <td>6.283185</td>\n",
       "      <td>-2.449294e-16</td>\n",
       "      <td>1.000000</td>\n",
       "    </tr>\n",
       "  </tbody>\n",
       "</table>"
      ],
      "text/plain": [
       "<IPython.core.display.HTML object>"
      ]
     },
     "metadata": {},
     "output_type": "display_data"
    }
   ],
   "source": [
    "import pandas as pd\n",
    "from IPython.display import display, HTML\n",
    "\n",
    "data1 = pd.read_csv('data1.csv')\n",
    "\n",
    "display(HTML(data1.to_html(max_rows = 8, index = False)))"
   ]
  },
  {
   "cell_type": "markdown",
   "metadata": {},
   "source": [
    "## Reading a Data File"
   ]
  },
  {
   "cell_type": "markdown",
   "metadata": {},
   "source": [
    "Now, let's read the data file we wrote. If we want to store each column in a separate list or array, it will be best to iterate through the lines of the file."
   ]
  },
  {
   "cell_type": "markdown",
   "metadata": {},
   "source": [
    "We will need to divide the values from each line using the separator. To do this, we will use the `.split()` string method:"
   ]
  },
  {
   "cell_type": "code",
   "execution_count": 4,
   "metadata": {},
   "outputs": [
    {
     "data": {
      "text/plain": [
       "['a', 'b', 'c', 'd']"
      ]
     },
     "execution_count": 4,
     "metadata": {},
     "output_type": "execute_result"
    }
   ],
   "source": [
    "'a b c d'.split()"
   ]
  },
  {
   "cell_type": "markdown",
   "metadata": {},
   "source": [
    "As you can see this splits the string into a list of strings. By default it uses a space as the dividing character, given a string argument it will use that as the delimiter instead:"
   ]
  },
  {
   "cell_type": "code",
   "execution_count": 5,
   "metadata": {},
   "outputs": [
    {
     "data": {
      "text/plain": [
       "['a', 'b', 'c', 'd']"
      ]
     },
     "execution_count": 5,
     "metadata": {},
     "output_type": "execute_result"
    }
   ],
   "source": [
    "'a,b,c,d'.split(',')"
   ]
  },
  {
   "cell_type": "markdown",
   "metadata": {},
   "source": [
    "We must keep in mind that the file we are reading has a header we want to read before any of the data."
   ]
  },
  {
   "cell_type": "markdown",
   "metadata": {},
   "source": [
    "Something else to keep in mind is that the file contains text (or rather the content is a string). If we want to store the data as numbers, we need to convert them first."
   ]
  },
  {
   "cell_type": "code",
   "execution_count": 6,
   "metadata": {},
   "outputs": [],
   "source": [
    "#Lists to hold the data\n",
    "x = []\n",
    "y = []\n",
    "z = []\n",
    "\n",
    "with open('data1.csv', 'r') as f:\n",
    "    header = f.readline() #read header\n",
    "    \n",
    "    for line in f:\n",
    "        line = line.strip() #This clears trailing whitespace (e.g. \\n)\n",
    "        \n",
    "        #Makes a list from the string using ',' as the seperator\n",
    "        line = line.split(',')\n",
    "        \n",
    "        x.append(float(line[0]))\n",
    "        y.append(float(line[1]))\n",
    "        z.append(float(line[2]))\n",
    "\n",
    "#If you need to convert x, y, z to arrays:\n",
    "x = np.array(x)\n",
    "y = np.array(y)\n",
    "z = np.array(z)"
   ]
  },
  {
   "cell_type": "markdown",
   "metadata": {},
   "source": [
    "Note that we start with lists and convert to an array later (if an array is needed). The reason for doing this is that we don't necessarily know how many lines the file has before we begin, and appending to lists is more easy and efficient than concatenating arrays."
   ]
  },
  {
   "cell_type": "markdown",
   "metadata": {},
   "source": [
    "As a sanity check, let's plot the data we have just read:"
   ]
  },
  {
   "cell_type": "code",
   "execution_count": 7,
   "metadata": {},
   "outputs": [
    {
     "data": {
      "text/plain": [
       "<Figure size 640x480 with 1 Axes>"
      ]
     },
     "metadata": {},
     "output_type": "display_data"
    }
   ],
   "source": [
    "import matplotlib.pyplot as plt\n",
    "\n",
    "fig, ax = plt.subplots()\n",
    "\n",
    "ax.plot(x, y, label = 'sin(x)')\n",
    "ax.plot(x, z, '--',  label = 'cos(x)')\n",
    "\n",
    "ax.set_xlabel('x')\n",
    "ax.set_ylabel('y')\n",
    "ax.legend(loc = 9)\n",
    "\n",
    "plt.show()"
   ]
  },
  {
   "cell_type": "markdown",
   "metadata": {},
   "source": [
    "## Writing and Reading a Tab Separated File"
   ]
  },
  {
   "cell_type": "markdown",
   "metadata": {},
   "source": [
    "If you are comfortable with the sections above, you may skip this one. If you'd like to see another example of a data file with a different delimiter, we will write a data file using tab separation instead of commas (tsv)."
   ]
  },
  {
   "cell_type": "code",
   "execution_count": 8,
   "metadata": {},
   "outputs": [],
   "source": [
    "import numpy as np\n",
    "\n",
    "#Generating data\n",
    "x = np.linspace(0, 2, 100)\n",
    "y = np.sqrt(x)\n",
    "z = x*x\n",
    "\n",
    "#Writing a data file with space seperations\n",
    "with open('data2.tsv', 'w') as f:\n",
    "    f.write('x\\ty\\tz\\n') #Header\n",
    "    \n",
    "    for xx, yy, zz in zip(x, y, z):\n",
    "        f.write(f'{xx}\\t{yy}\\t{zz}\\n')"
   ]
  },
  {
   "cell_type": "markdown",
   "metadata": {},
   "source": [
    "Here we use the special character `'\\t'` which stands for tabs.\n",
    "\n",
    "Again, the use of the **.tsv** file extension is a convention, it does not alter the nature of the file itself.\n",
    "\n",
    "The contents of the data file we have generated looks like this:"
   ]
  },
  {
   "cell_type": "code",
   "execution_count": 9,
   "metadata": {
    "tags": [
     "remove_input"
    ]
   },
   "outputs": [
    {
     "name": "stdout",
     "output_type": "stream",
     "text": [
      "x\ty\tz\n",
      "0.0\t0.0\t0.0\n",
      "0.020202020202020204\t0.1421338109037403\t0.0004081216202428324\n",
      "0.04040404040404041\t0.20100756305184242\t0.0016324864809713297\n",
      "0.06060606060606061\t0.24618298195866548\t0.0036730945821854917\n",
      "0.08080808080808081\t0.2842676218074806\t0.006529945923885319\n",
      "0.10101010101010102\t0.31782086308186414\t0.010203040506070812\n",
      "0.12121212121212122\t0.3481553119113957\t0.014692378328741967\n",
      "0.14141414141414144\t0.3760507165451775\t0.019997959391898794\n",
      "0.16161616161616163\t0.40201512610368484\t0.026119783695541274\n",
      "\n"
     ]
    }
   ],
   "source": [
    "with open('data2.tsv', 'r') as f:\n",
    "    data2 = f.readlines()\n",
    "\n",
    "print(('{}'*10).format(*data2[:10]))"
   ]
  },
  {
   "cell_type": "markdown",
   "metadata": {},
   "source": [
    "Now, let's read the data keeping in mind that the values are now separated with tabs."
   ]
  },
  {
   "cell_type": "code",
   "execution_count": 10,
   "metadata": {},
   "outputs": [],
   "source": [
    "#Lists to hold the data\n",
    "x = []\n",
    "y = []\n",
    "z = []\n",
    "\n",
    "with open('data2.tsv', 'r') as f:\n",
    "    header = f.readline() #read header\n",
    "    \n",
    "    for line in f:\n",
    "        line = line.strip() #This clears trailing whitespace (e.g. \\n)\n",
    "        \n",
    "        #Makes a list from the string using '\\t' as the seperator\n",
    "        line = line.split('\\t')\n",
    "        \n",
    "        x.append(float(line[0]))\n",
    "        y.append(float(line[1]))\n",
    "        z.append(float(line[2]))\n",
    "\n",
    "#If you need to convert x, y, z to arrays:\n",
    "x = np.array(x)\n",
    "y = np.array(y)\n",
    "z = np.array(z)"
   ]
  },
  {
   "cell_type": "markdown",
   "metadata": {},
   "source": [
    "Plotting this data:"
   ]
  },
  {
   "cell_type": "code",
   "execution_count": 11,
   "metadata": {},
   "outputs": [
    {
     "data": {
      "image/png": "[encoded data removed]",
      "text/plain": [
       "<Figure size 432x288 with 1 Axes>"
      ]
     },
     "metadata": {
      "filenames": {
       "image/png": "/home/mayhew/University/NASSP/uct_nassp_cm/book/_build/jupyter_execute/content/standard-library/file-io/data_31_0.png"
      },
      "needs_background": "light"
     },
     "output_type": "display_data"
    }
   ],
   "source": [
    "import matplotlib.pyplot as plt\n",
    "\n",
    "fig, ax = plt.subplots()\n",
    "\n",
    "ax.plot(x, y, label = r'$\\sqrt{x}$')\n",
    "ax.plot(x, z, '--',  label = r'$x^2$')\n",
    "\n",
    "ax.set_xlabel('x')\n",
    "ax.set_ylabel('y')\n",
    "ax.legend(loc = 9)\n",
    "\n",
    "plt.show()"
   ]
  },
  {
   "cell_type": "markdown",
   "metadata": {},
   "source": [
    "## Reading Data in as a Single Array"
   ]
  },
  {
   "cell_type": "markdown",
   "metadata": {},
   "source": [
    "Sometimes you want to read the data in as a single 2D array (for example if you have a large data file or if the number of columns in your data file aren't fixed). Let's read the file **data2.tsv** in this manner:"
   ]
  },
  {
   "cell_type": "code",
   "execution_count": 12,
   "metadata": {},
   "outputs": [],
   "source": [
    "#Lists to hold the data\n",
    "data = []\n",
    "\n",
    "with open('data2.tsv', 'r') as f:\n",
    "    header = f.readline() #read header\n",
    "    \n",
    "    for line in f:\n",
    "        line = line.strip() #This clears trailing whitespace (e.g. \\n)\n",
    "        line = line.split('\\t') #Makes a list\n",
    "        \n",
    "        #Converting data to floats\n",
    "        for i,col in enumerate(line):\n",
    "            line[i] = np.float(col)\n",
    "        \n",
    "        data.append(line)\n",
    "\n",
    "#Converting data to array\n",
    "data = np.array(data)"
   ]
  },
  {
   "cell_type": "markdown",
   "metadata": {},
   "source": [
    "Note that this gives us a similar output to NumPy's `numpy.loadtxt()`. Plotting the data (use slices to extract the columns):"
   ]
  },
  {
   "cell_type": "code",
   "execution_count": 13,
   "metadata": {},
   "outputs": [
    {
     "data": {
      "image/png": "[encoded data removed]",
      "text/plain": [
       "<Figure size 432x288 with 1 Axes>"
      ]
     },
     "metadata": {
      "filenames": {
       "image/png": "/home/mayhew/University/NASSP/uct_nassp_cm/book/_build/jupyter_execute/content/standard-library/file-io/data_36_0.png"
      },
      "needs_background": "light"
     },
     "output_type": "display_data"
    }
   ],
   "source": [
    "import matplotlib.pyplot as plt\n",
    "\n",
    "fig, ax = plt.subplots()\n",
    "\n",
    "ax.plot(data[:,0], data[:,1], label = r'$\\sqrt{x}$')\n",
    "ax.plot(data[:,0], data[:,2], '--',  label = r'$x^2$')\n",
    "\n",
    "ax.set_xlabel('x')\n",
    "ax.set_ylabel('y')\n",
    "ax.legend(loc = 9)\n",
    "\n",
    "plt.show()"
   ]
  },
  {
   "cell_type": "code",
   "execution_count": null,
   "metadata": {},
   "outputs": [],
   "source": []
  }
 ],
 "metadata": {
  "kernelspec": {
   "display_name": "Python 3.7.3 64-bit ('base': conda)",
   "language": "python",
   "name": "python37364bitbaseconda97808f46a65a4f1e9dfdbcff18a07fbf"
  },
  "language_info": {
   "codemirror_mode": {
    "name": "ipython",
    "version": 3
   },
   "file_extension": ".py",
   "mimetype": "text/x-python",
   "name": "python",
   "nbconvert_exporter": "python",
   "pygments_lexer": "ipython3",
   "version": "3.7.3"
  }
 },
 "nbformat": 4,
 "nbformat_minor": 4
}