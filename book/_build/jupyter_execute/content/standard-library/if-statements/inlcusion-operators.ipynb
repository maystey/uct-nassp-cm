{
 "cells": [
  {
   "cell_type": "markdown",
   "metadata": {},
   "source": [
    "# Inclusion Operators\n",
    "\n",
    "Inclusion operators are used to check if a value/object is in a collection and return boolean values."
   ]
  },
  {
   "cell_type": "markdown",
   "metadata": {},
   "source": [
    "## `in`\n",
    "\n",
    "The `in` operator returns a `True` if the left value/object is **in** the collection on the right and `False` if it is not:"
   ]
  },
  {
   "cell_type": "code",
   "execution_count": 1,
   "metadata": {
    "execution": {
     "iopub.execute_input": "2020-11-24T18:52:01.263661Z",
     "iopub.status.busy": "2020-11-24T18:52:01.261848Z",
     "iopub.status.idle": "2020-11-24T18:52:01.270924Z",
     "shell.execute_reply": "2020-11-24T18:52:01.268921Z"
    }
   },
   "outputs": [
    {
     "name": "stdout",
     "output_type": "stream",
     "text": [
      "True\n"
     ]
    }
   ],
   "source": [
    "print(1 in [0, 1, 2, 3])"
   ]
  },
  {
   "cell_type": "code",
   "execution_count": 2,
   "metadata": {
    "execution": {
     "iopub.execute_input": "2020-11-24T18:52:01.282388Z",
     "iopub.status.busy": "2020-11-24T18:52:01.280630Z",
     "iopub.status.idle": "2020-11-24T18:52:01.288827Z",
     "shell.execute_reply": "2020-11-24T18:52:01.287329Z"
    }
   },
   "outputs": [
    {
     "name": "stdout",
     "output_type": "stream",
     "text": [
      "True\n"
     ]
    }
   ],
   "source": [
    "print('a' in 'abc')"
   ]
  },
  {
   "cell_type": "code",
   "execution_count": 3,
   "metadata": {
    "execution": {
     "iopub.execute_input": "2020-11-24T18:52:01.300791Z",
     "iopub.status.busy": "2020-11-24T18:52:01.298970Z",
     "iopub.status.idle": "2020-11-24T18:52:01.306889Z",
     "shell.execute_reply": "2020-11-24T18:52:01.305097Z"
    }
   },
   "outputs": [
    {
     "name": "stdout",
     "output_type": "stream",
     "text": [
      "False\n"
     ]
    }
   ],
   "source": [
    "print(2.4 in [1, 2, 3])"
   ]
  },
  {
   "cell_type": "markdown",
   "metadata": {},
   "source": [
    "## `not in`"
   ]
  },
  {
   "cell_type": "markdown",
   "metadata": {},
   "source": [
    "The `not in` operator returns the converse of the `in` operator:"
   ]
  },
  {
   "cell_type": "code",
   "execution_count": 4,
   "metadata": {
    "execution": {
     "iopub.execute_input": "2020-11-24T18:52:01.318379Z",
     "iopub.status.busy": "2020-11-24T18:52:01.316610Z",
     "iopub.status.idle": "2020-11-24T18:52:01.324593Z",
     "shell.execute_reply": "2020-11-24T18:52:01.323015Z"
    }
   },
   "outputs": [
    {
     "name": "stdout",
     "output_type": "stream",
     "text": [
      "False\n"
     ]
    }
   ],
   "source": [
    "print('a' not in 'abc')"
   ]
  },
  {
   "cell_type": "code",
   "execution_count": 5,
   "metadata": {
    "execution": {
     "iopub.execute_input": "2020-11-24T18:52:01.332381Z",
     "iopub.status.busy": "2020-11-24T18:52:01.331213Z",
     "iopub.status.idle": "2020-11-24T18:52:01.336282Z",
     "shell.execute_reply": "2020-11-24T18:52:01.335111Z"
    }
   },
   "outputs": [
    {
     "name": "stdout",
     "output_type": "stream",
     "text": [
      "True\n"
     ]
    }
   ],
   "source": [
    "print(7 not in [1, 2, 3, 4, 5])"
   ]
  },
  {
   "cell_type": "code",
   "execution_count": null,
   "metadata": {},
   "outputs": [],
   "source": []
  }
 ],
 "metadata": {
  "kernelspec": {
   "display_name": "Python 3",
   "language": "python",
   "name": "python3"
  },
  "language_info": {
   "codemirror_mode": {
    "name": "ipython",
    "version": 3
   },
   "file_extension": ".py",
   "mimetype": "text/x-python",
   "name": "python",
   "nbconvert_exporter": "python",
   "pygments_lexer": "ipython3",
   "version": "3.7.8"
  }
 },
 "nbformat": 4,
 "nbformat_minor": 4
}