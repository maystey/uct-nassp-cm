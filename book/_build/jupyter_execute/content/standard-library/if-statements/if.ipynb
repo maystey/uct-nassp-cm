{
 "cells": [
  {
   "cell_type": "markdown",
   "metadata": {},
   "source": [
    "# If Statements"
   ]
  },
  {
   "cell_type": "markdown",
   "metadata": {},
   "source": [
    "If statements give us the ability to execute different blocks of code depending on the outcome of a logical statement (or boolean value).\n",
    "\n",
    "The syntax for an if statement is:\n",
    "\n",
    "```python\n",
    "if condition:\n",
    "    block of code\n",
    "```\n",
    "\n",
    "where `block of code` following the `:` and indented is considered as the code inside the if statement. `block of code` will only be executed if condition is/evaluates to `true`.\n",
    "\n",
    "Consider an if statement with code around it:\n",
    "\n",
    "```python\n",
    "code block before\n",
    "\n",
    "if condition:\n",
    "    code block inside\n",
    "\n",
    "code block after\n",
    "```\n",
    "\n",
    "here `code block before` will be executed first, then `condition` will be evaluated. If `condition` is true, `code block inside` will be executed. Finally `code block after` will be executed (regardless of whether or not `condition` is true). Illustrated in a control flow diagram:"
   ]
  },
  {
   "cell_type": "markdown",
   "metadata": {},
   "source": [
    "```{figure} ./figures/if.png\n",
    ":name: fig-if-control-flow\n",
    "\n",
    "Control flow diagram of the pseudo code if statement example.\n",
    "```"
   ]
  },
  {
   "cell_type": "markdown",
   "metadata": {},
   "source": [
    "<div class=\"worked-example\">\n",
    "    <h5 class=\"worked-example-title\"><b>Worked Example</b></h5>"
   ]
  },
  {
   "cell_type": "markdown",
   "metadata": {},
   "source": [
    "Let's consider the problem where we want to check if one variable is greater than the other. One solution using an if statement is:"
   ]
  },
  {
   "cell_type": "code",
   "execution_count": 1,
   "metadata": {},
   "outputs": [
    {
     "name": "stdout",
     "output_type": "stream",
     "text": [
      "3 is greater than 2\n"
     ]
    }
   ],
   "source": [
    "a = 3\n",
    "b = 2\n",
    "\n",
    "if a > b:\n",
    "    print(a, 'is greater than', b)"
   ]
  },
  {
   "cell_type": "markdown",
   "metadata": {},
   "source": [
    "If we ran the code above but with\n",
    "```\n",
    "a = 2\n",
    "b = 2\n",
    "```\n",
    "then we would see nothing printed out as `a > b` would evaluate to `False` and the code block contained in the if statement would not be executed."
   ]
  },
  {
   "cell_type": "markdown",
   "metadata": {},
   "source": [
    "</div>"
   ]
  },
  {
   "cell_type": "markdown",
   "metadata": {},
   "source": [
    "## Else\n",
    "\n",
    "What if you wanted to execute a code block if a statement is true; and another if it's false? The `else` part of an if statement can be used for this:\n",
    "\n",
    "```python\n",
    "if condition:\n",
    "    code_block_1\n",
    "else:\n",
    "    code_block_2\n",
    "```\n",
    "\n",
    "If `condition` evaluates to `True` then `code_block_1` will be executed. If, on the other hand, `condition` evaluates to `False`, `code_block_2` will be executed.\n",
    "\n",
    "This pseudo code can be illustrated by the control flow diagram:"
   ]
  },
  {
   "cell_type": "markdown",
   "metadata": {},
   "source": [
    "```{figure} ./figures/if_else.png\n",
    ":name: fig-if-else-control-flow\n",
    "\n",
    "Control flow diagram of the pseudo code if statement with an else part example.\n",
    "```"
   ]
  },
  {
   "cell_type": "markdown",
   "metadata": {},
   "source": [
    ":::{note}\n",
    "The `else` statement cannot stand by itself. It requires a preceding if statement or loop for context.\n",
    ":::"
   ]
  },
  {
   "cell_type": "markdown",
   "metadata": {},
   "source": [
    "<div class=\"worked-example\">\n",
    "    <h5 class=\"worked-example-title\"><b>Worked Example</b></h5>"
   ]
  },
  {
   "cell_type": "markdown",
   "metadata": {},
   "source": [
    "Let's take our first example and add an `else` part to it:"
   ]
  },
  {
   "cell_type": "code",
   "execution_count": 2,
   "metadata": {},
   "outputs": [
    {
     "name": "stdout",
     "output_type": "stream",
     "text": [
      "3 is greater than 2\n"
     ]
    }
   ],
   "source": [
    "a = 3\n",
    "b = 2\n",
    "\n",
    "if a > b:\n",
    "    print(a, 'is greater than', b)\n",
    "else:\n",
    "    print(a, 'is less than or equal to', b)"
   ]
  },
  {
   "cell_type": "code",
   "execution_count": 3,
   "metadata": {},
   "outputs": [
    {
     "name": "stdout",
     "output_type": "stream",
     "text": [
      "1 is less than or equal to 2\n"
     ]
    }
   ],
   "source": [
    "a = 1\n",
    "b = 2\n",
    "\n",
    "if a > b:\n",
    "    print(a, 'is greater than', b)\n",
    "else:\n",
    "    print(a, 'is less than or equal to', b)"
   ]
  },
  {
   "cell_type": "markdown",
   "metadata": {},
   "source": [
    "</div>"
   ]
  },
  {
   "cell_type": "markdown",
   "metadata": {},
   "source": [
    "## Elif"
   ]
  },
  {
   "cell_type": "markdown",
   "metadata": {},
   "source": [
    "Now, what if we had 2 conditions which are mutually exclusive (if one is true the other is necessarily false) and the one isn't just the converse of the other. For this we can use the `elif` part of the if statement (to be read \"else if\"):\n",
    "\n",
    "```python\n",
    "if condition1:\n",
    "    code_block_1\n",
    "elif condition2:\n",
    "    code_block_2\n",
    "```\n",
    "\n",
    "If `condition 1` is false, `condition 2` will be evaluated. If `condition 2` is found to be true, then `code block 2` will be executed, if not then control will move from the if statement. Illustrated as a control flow diagram:"
   ]
  },
  {
   "cell_type": "markdown",
   "metadata": {},
   "source": [
    "```{figure} ./figures/if_elif.png\n",
    ":name: fig-if-elif-control-flow\n",
    "\n",
    "Control flow diagram of the pseudo code example of an if statement with an elif part.\n",
    "```"
   ]
  },
  {
   "cell_type": "markdown",
   "metadata": {},
   "source": [
    "<div class=\"worked-example\">\n",
    "    <h5 class=\"worked-example-title\"><b>Worked Example</b></h5>"
   ]
  },
  {
   "cell_type": "markdown",
   "metadata": {},
   "source": [
    "Let's continue with our worked example and change the `else` part to be more specific:"
   ]
  },
  {
   "cell_type": "code",
   "execution_count": 4,
   "metadata": {},
   "outputs": [
    {
     "name": "stdout",
     "output_type": "stream",
     "text": [
      "1 is less than 2\n"
     ]
    }
   ],
   "source": [
    "a = 1\n",
    "b = 2\n",
    "\n",
    "if a > b:\n",
    "    print(a, 'is greater than', b)\n",
    "elif a < b:\n",
    "    print(a, 'is less than', b)"
   ]
  },
  {
   "cell_type": "code",
   "execution_count": 5,
   "metadata": {},
   "outputs": [],
   "source": [
    "a = 1\n",
    "b = 1\n",
    "\n",
    "if a > b:\n",
    "    print(a, 'is greater than', b)\n",
    "elif a < b:\n",
    "    print(a, 'is less than', b)"
   ]
  },
  {
   "cell_type": "markdown",
   "metadata": {},
   "source": [
    "</div>"
   ]
  },
  {
   "cell_type": "markdown",
   "metadata": {},
   "source": [
    "## Else After an Elif"
   ]
  },
  {
   "cell_type": "markdown",
   "metadata": {},
   "source": [
    "Now, if we want to catch the case where both the conditions in the `if` and `elif` parts of the if statement are false, we can use an `else` part at the very end of the if statement. In pseudo code:\n",
    "\n",
    "```python\n",
    "if condition1:\n",
    "    code_block_1\n",
    "elif condition2:\n",
    "    code_block_2\n",
    "else:\n",
    "    code_block_3\n",
    "```\n",
    "\n",
    "Illustrated in a control flow diagram:"
   ]
  },
  {
   "cell_type": "markdown",
   "metadata": {},
   "source": [
    "```{figure} ./figures/if_elif_else.png\n",
    ":name: fig-if-elif-else-control-flow\n",
    "\n",
    "Control flow diagram of the pseudo code example of an if statement with an elif and else part.\n",
    "```"
   ]
  },
  {
   "cell_type": "markdown",
   "metadata": {},
   "source": [
    ":::{warning}\n",
    "The `else` must **always** be the last part of the if statement and **there can only be one**.\n",
    ":::"
   ]
  },
  {
   "cell_type": "markdown",
   "metadata": {},
   "source": [
    "<div class=\"worked-example\">\n",
    "    <h5 class=\"worked-example-title\"><b>Worked Example</b></h5>"
   ]
  },
  {
   "cell_type": "markdown",
   "metadata": {},
   "source": [
    "Now, let's re-introduce an `else` part to our worked example:"
   ]
  },
  {
   "cell_type": "code",
   "execution_count": 6,
   "metadata": {},
   "outputs": [
    {
     "name": "stdout",
     "output_type": "stream",
     "text": [
      "1 is equal to 1\n"
     ]
    }
   ],
   "source": [
    "a = 1\n",
    "b = 1\n",
    "\n",
    "if a > b:\n",
    "    print(a, 'is greater than', b)\n",
    "elif a < b:\n",
    "    print(a, 'is less than', b)\n",
    "else:\n",
    "    print(a, 'is equal to', b)"
   ]
  },
  {
   "cell_type": "markdown",
   "metadata": {},
   "source": [
    "</div>"
   ]
  },
  {
   "cell_type": "markdown",
   "metadata": {},
   "source": [
    "## Multiple Elif Parts"
   ]
  },
  {
   "cell_type": "markdown",
   "metadata": {},
   "source": [
    "Though you may only use one `else` part in an if statement, you are not limited by how many `elif` parts you wish to use. For example:\n",
    "\n",
    "```python\n",
    "if condition1:\n",
    "    code_block_1\n",
    "    \n",
    "elif condition2:\n",
    "    code_block_2\n",
    "\n",
    "elif condition3:\n",
    "    code_block_3\n",
    "\n",
    "else:\n",
    "    code_block_4\n",
    "```\n",
    "\n",
    "This can be illustrated using a control flow diagram:"
   ]
  },
  {
   "cell_type": "markdown",
   "metadata": {},
   "source": [
    "```{figure} ./figures/if_elif_elif_else.png\n",
    ":name: fig-if-elif-elif-else-control-flow\n",
    "\n",
    "Control flow diagram of the pseudo code example of an if statement with two elif parts and an else part.\n",
    "```"
   ]
  },
  {
   "cell_type": "markdown",
   "metadata": {},
   "source": [
    "<div class=\"worked-example\">\n",
    "    <h5 class=\"worked-example-title\"><b>Worked Example</b></h5>"
   ]
  },
  {
   "cell_type": "markdown",
   "metadata": {},
   "source": [
    "As an example of a script with multiple `elif` parts, lets write a script that checks if a variable is a multiple of 2, 3, or 5:"
   ]
  },
  {
   "cell_type": "code",
   "execution_count": 7,
   "metadata": {},
   "outputs": [
    {
     "name": "stdout",
     "output_type": "stream",
     "text": [
      "Variable is a multiple of 3\n"
     ]
    }
   ],
   "source": [
    "var = 21\n",
    "\n",
    "if var % 2 == 0:\n",
    "    print('Variable is a multiple of 2')\n",
    "elif var % 3 == 0:\n",
    "    print('Variable is a multiple of 3')\n",
    "elif var % 5 == 0:\n",
    "    print('Variable is a multiple of 5')\n",
    "else:\n",
    "    print('Variable is not a multiple of 2, 3 or 5')"
   ]
  },
  {
   "cell_type": "markdown",
   "metadata": {},
   "source": [
    "Note that if we put in a value that is both a multiple of 2 and 3, the script will only print out that it is a multiple of 2:"
   ]
  },
  {
   "cell_type": "code",
   "execution_count": 8,
   "metadata": {},
   "outputs": [
    {
     "name": "stdout",
     "output_type": "stream",
     "text": [
      "Variable is a multiple of 2\n"
     ]
    }
   ],
   "source": [
    "var = 6\n",
    "\n",
    "if var % 2 == 0:\n",
    "    print('Variable is a multiple of 2')\n",
    "elif var % 3 == 0:\n",
    "    print('Variable is a multiple of 3')\n",
    "elif var % 5 == 0:\n",
    "    print('Variable is a multiple of 5')\n",
    "else:\n",
    "    print('Variable is not a multiple of 2, 3 or 5')"
   ]
  },
  {
   "cell_type": "markdown",
   "metadata": {},
   "source": [
    "This is because the check to so if it's a multiple of 2 is placed before the check for 3 in the `if` statement."
   ]
  },
  {
   "cell_type": "markdown",
   "metadata": {},
   "source": [
    "</div>"
   ]
  }
 ],
 "metadata": {
  "kernelspec": {
   "display_name": "Python 3",
   "language": "python",
   "name": "python3"
  },
  "language_info": {
   "codemirror_mode": {
    "name": "ipython",
    "version": 3
   },
   "file_extension": ".py",
   "mimetype": "text/x-python",
   "name": "python",
   "nbconvert_exporter": "python",
   "pygments_lexer": "ipython3",
   "version": "3.9.6"
  }
 },
 "nbformat": 4,
 "nbformat_minor": 4
}