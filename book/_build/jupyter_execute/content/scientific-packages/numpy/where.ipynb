{
 "cells": [
  {
   "cell_type": "code",
   "execution_count": 1,
   "metadata": {
    "execution": {
     "iopub.execute_input": "2020-11-24T18:51:23.581490Z",
     "iopub.status.busy": "2020-11-24T18:51:23.579294Z",
     "iopub.status.idle": "2020-11-24T18:51:23.856673Z",
     "shell.execute_reply": "2020-11-24T18:51:23.856260Z"
    },
    "tags": [
     "remove_cell"
    ]
   },
   "outputs": [],
   "source": [
    "import numpy as np\n",
    "import matplotlib.pyplot as plt"
   ]
  },
  {
   "cell_type": "markdown",
   "metadata": {},
   "source": [
    "# Array Conditional Statements and `numpy.where()`"
   ]
  },
  {
   "cell_type": "markdown",
   "metadata": {},
   "source": [
    "## Comparison and Bitwise Operations on Arrays"
   ]
  },
  {
   "cell_type": "markdown",
   "metadata": {},
   "source": [
    "We can apply comparison operators to arrays:"
   ]
  },
  {
   "cell_type": "code",
   "execution_count": 2,
   "metadata": {
    "execution": {
     "iopub.execute_input": "2020-11-24T18:51:23.861533Z",
     "iopub.status.busy": "2020-11-24T18:51:23.861090Z",
     "iopub.status.idle": "2020-11-24T18:51:23.863886Z",
     "shell.execute_reply": "2020-11-24T18:51:23.863477Z"
    }
   },
   "outputs": [
    {
     "data": {
      "text/plain": [
       "array([ True, False,  True,  True, False])"
      ]
     },
     "execution_count": 2,
     "metadata": {},
     "output_type": "execute_result"
    }
   ],
   "source": [
    "a1 = np.array([1,  2, 3, 4, 5])\n",
    "\n",
    "a2 = np.array([2, 1, 5, 6, 4])\n",
    "\n",
    "a1 < a2"
   ]
  },
  {
   "cell_type": "markdown",
   "metadata": {},
   "source": [
    "As you can see this gives us an array of booleans, each element representing the outcome of comparing the corresponding element of `a1` to `a2`. \n",
    "\n",
    "What if we wanted to combine the boolean arrays with a logical operator? For example, if we want an array of booleans for the condition `a1` is less-than `a2` and greater than `2`. Unfortunately the boolean comparison operators we used in {doc}`Comparison Operators<../if-statements/comparison-operators>` won't work, for example using `and`:"
   ]
  },
  {
   "cell_type": "code",
   "execution_count": 3,
   "metadata": {
    "execution": {
     "iopub.execute_input": "2020-11-24T18:51:23.866496Z",
     "iopub.status.busy": "2020-11-24T18:51:23.866078Z",
     "iopub.status.idle": "2020-11-24T18:51:24.140092Z",
     "shell.execute_reply": "2020-11-24T18:51:24.139071Z"
    },
    "tags": [
     "raises-exception"
    ]
   },
   "outputs": [
    {
     "ename": "ValueError",
     "evalue": "The truth value of an array with more than one element is ambiguous. Use a.any() or a.all()",
     "output_type": "error",
     "traceback": [
      "\u001b[0;31m---------------------------------------------------------------------------\u001b[0m",
      "\u001b[0;31mValueError\u001b[0m                                Traceback (most recent call last)",
      "\u001b[0;32m<ipython-input-3-74cb81b02f02>\u001b[0m in \u001b[0;36m<module>\u001b[0;34m\u001b[0m\n\u001b[0;32m----> 1\u001b[0;31m \u001b[0ma1\u001b[0m \u001b[0;34m<\u001b[0m \u001b[0ma2\u001b[0m \u001b[0;32mand\u001b[0m \u001b[0ma1\u001b[0m \u001b[0;34m>\u001b[0m \u001b[0;36m2\u001b[0m\u001b[0;34m\u001b[0m\u001b[0;34m\u001b[0m\u001b[0m\n\u001b[0m",
      "\u001b[0;31mValueError\u001b[0m: The truth value of an array with more than one element is ambiguous. Use a.any() or a.all()"
     ]
    }
   ],
   "source": [
    "a1 < a2 and a1 > 2"
   ]
  },
  {
   "cell_type": "markdown",
   "metadata": {},
   "source": [
    "In order to combine boolean arrays (without a loop) we need to use **bitwise** operators."
   ]
  },
  {
   "cell_type": "markdown",
   "metadata": {},
   "source": [
    "Bitwise operators treat numbers as a string of bits and act on them bit by bit. In the case of a boolean array, the operator acts on it element by element. The bitwise operators we are interested are:\n",
    "\n",
    "<table>\n",
    "    <tr>\n",
    "        <th>Operator</th>\n",
    "        <th>Name</th>\n",
    "        <th>Analogous boolean operator</th>\n",
    "    </tr>\n",
    "    <tr>\n",
    "        <td><code>&</code></td>\n",
    "        <td>Bitwise and</td>\n",
    "        <td><code>and</code></td>\n",
    "    </tr>\n",
    "    <tr>\n",
    "        <td><code>|</code></td>\n",
    "        <td>Bitwise or</td>\n",
    "        <td><code>or</code></td>\n",
    "    </tr>\n",
    "    <tr>\n",
    "        <td><code>~</code></td>\n",
    "        <td>Bitwise complement</td>\n",
    "        <td><code>not</code></td>\n",
    "    </tr>\n",
    "</table>\n",
    "\n",
    "(See <https://wiki.python.org/moin/BitwiseOperators> for a more comprehensive list and explanation of bitwise operations.)"
   ]
  },
  {
   "cell_type": "markdown",
   "metadata": {},
   "source": [
    "Returning to our original example:"
   ]
  },
  {
   "cell_type": "code",
   "execution_count": 4,
   "metadata": {
    "execution": {
     "iopub.execute_input": "2020-11-24T18:51:24.252431Z",
     "iopub.status.busy": "2020-11-24T18:51:24.250551Z",
     "iopub.status.idle": "2020-11-24T18:51:24.260380Z",
     "shell.execute_reply": "2020-11-24T18:51:24.258855Z"
    }
   },
   "outputs": [
    {
     "data": {
      "text/plain": [
       "array([False, False,  True,  True, False])"
      ]
     },
     "execution_count": 4,
     "metadata": {},
     "output_type": "execute_result"
    }
   ],
   "source": [
    "(a1 < a2) & (a1 > 2)"
   ]
  },
  {
   "cell_type": "markdown",
   "metadata": {},
   "source": [
    "Note that the comparisons must be grouped in brackets for this to work:"
   ]
  },
  {
   "cell_type": "code",
   "execution_count": 5,
   "metadata": {
    "execution": {
     "iopub.execute_input": "2020-11-24T18:51:24.271001Z",
     "iopub.status.busy": "2020-11-24T18:51:24.269141Z",
     "iopub.status.idle": "2020-11-24T18:51:24.367754Z",
     "shell.execute_reply": "2020-11-24T18:51:24.363969Z"
    },
    "tags": [
     "raises-exception"
    ]
   },
   "outputs": [
    {
     "ename": "ValueError",
     "evalue": "The truth value of an array with more than one element is ambiguous. Use a.any() or a.all()",
     "output_type": "error",
     "traceback": [
      "\u001b[0;31m---------------------------------------------------------------------------\u001b[0m",
      "\u001b[0;31mValueError\u001b[0m                                Traceback (most recent call last)",
      "\u001b[0;32m<ipython-input-5-c3606bc24b97>\u001b[0m in \u001b[0;36m<module>\u001b[0;34m\u001b[0m\n\u001b[0;32m----> 1\u001b[0;31m \u001b[0ma1\u001b[0m \u001b[0;34m<\u001b[0m \u001b[0ma2\u001b[0m \u001b[0;34m&\u001b[0m \u001b[0ma1\u001b[0m \u001b[0;34m>\u001b[0m \u001b[0;36m2\u001b[0m\u001b[0;34m\u001b[0m\u001b[0;34m\u001b[0m\u001b[0m\n\u001b[0m",
      "\u001b[0;31mValueError\u001b[0m: The truth value of an array with more than one element is ambiguous. Use a.any() or a.all()"
     ]
    }
   ],
   "source": [
    "a1 < a2 & a1 > 2"
   ]
  },
  {
   "cell_type": "markdown",
   "metadata": {},
   "source": [
    "### Example - Random Points in a Region"
   ]
  },
  {
   "cell_type": "markdown",
   "metadata": {},
   "source": [
    "We can use `np.where()` to check which points in an array lie inside or outside of region.\n",
    "\n",
    "First let's generate an array of 50 random points in 2D space:"
   ]
  },
  {
   "cell_type": "code",
   "execution_count": 6,
   "metadata": {
    "execution": {
     "iopub.execute_input": "2020-11-24T18:51:24.525044Z",
     "iopub.status.busy": "2020-11-24T18:51:24.504766Z",
     "iopub.status.idle": "2020-11-24T18:51:24.614495Z",
     "shell.execute_reply": "2020-11-24T18:51:24.614830Z"
    }
   },
   "outputs": [
    {
     "data": {
      "image/png": "[encoded data removed]",
      "text/plain": [
       "<Figure size 432x288 with 1 Axes>"
      ]
     },
     "metadata": {
      "filenames": {
       "image/png": "/home/mayhew/Dropbox/Nassp/CM2021/OnlineNotes/uct_nassp_cm2021/book/_build/jupyter_execute/content/scientific-packages/numpy/where_15_0.png"
      },
      "needs_background": "light"
     },
     "output_type": "display_data"
    }
   ],
   "source": [
    "points = np.random.random((2, 50))\n",
    "\n",
    "plt.plot(points[0, :], points[1, :], 'ro')\n",
    "\n",
    "plt.xlabel('x')\n",
    "plt.ylabel('y')\n",
    "\n",
    "plt.show()"
   ]
  },
  {
   "cell_type": "markdown",
   "metadata": {},
   "source": [
    "Note that axis 0 of `points` is used to represent the x and y values, and axis 1 represents points. i.e. for the points $(x_0, y_0), (x_1, y_1), \\dots, (x_{49}, y_{49})$, `points` is:\n",
    "\n",
    "<table>\n",
    "    <tr>\n",
    "        <td>x0</td>\n",
    "        <td>x1</td>\n",
    "        <td>x2</td>\n",
    "        <td>x3</td>\n",
    "        <td>x4</td>\n",
    "        <td>...</td>\n",
    "        <td>x48</td>\n",
    "        <td>x49</td>\n",
    "    </tr>\n",
    "    <tr>\n",
    "        <td>y0</td>\n",
    "        <td>y1</td>\n",
    "        <td>y2</td>\n",
    "        <td>y3</td>\n",
    "        <td>y4</td>\n",
    "        <td>...</td>\n",
    "        <td>y48</td>\n",
    "        <td>y49</td>\n",
    "    </tr>\n",
    "</table>"
   ]
  },
  {
   "cell_type": "markdown",
   "metadata": {},
   "source": [
    "Now, let's plot the points which lie to the left of 0.5 as blue and the others as red:"
   ]
  },
  {
   "cell_type": "code",
   "execution_count": 7,
   "metadata": {
    "execution": {
     "iopub.execute_input": "2020-11-24T18:51:24.620554Z",
     "iopub.status.busy": "2020-11-24T18:51:24.620105Z",
     "iopub.status.idle": "2020-11-24T18:51:24.739398Z",
     "shell.execute_reply": "2020-11-24T18:51:24.739752Z"
    }
   },
   "outputs": [
    {
     "data": {
      "text/plain": [
       "Text(0, 0.5, 'y')"
      ]
     },
     "execution_count": 7,
     "metadata": {},
     "output_type": "execute_result"
    },
    {
     "data": {
      "image/png": "[encoded data removed]",
      "text/plain": [
       "<Figure size 432x288 with 1 Axes>"
      ]
     },
     "metadata": {
      "filenames": {
       "image/png": "/home/mayhew/Dropbox/Nassp/CM2021/OnlineNotes/uct_nassp_cm2021/book/_build/jupyter_execute/content/scientific-packages/numpy/where_18_1.png"
      },
      "needs_background": "light"
     },
     "output_type": "display_data"
    }
   ],
   "source": [
    "is_left = points[0, :] < 0.5 #True where left of 0.5\n",
    "\n",
    "plt.plot(points[0, is_left], points[1, is_left], 'bo')\n",
    "plt.plot(points[0, ~ (is_left)], points[1, ~ is_left], 'ro')\n",
    "\n",
    "plt.xlabel('x')\n",
    "plt.ylabel('y')"
   ]
  },
  {
   "cell_type": "markdown",
   "metadata": {},
   "source": [
    "Note that, in the example above, we have used an array of booleans to **slice the elements of the array which are true**. We have also use the **bitwise compliment** to get the complement of our comparison result, there is no need to recalculate it."
   ]
  },
  {
   "cell_type": "markdown",
   "metadata": {},
   "source": [
    "Now, lets plot the points right of 0.5 and above 0.5 (the top left square) as red and the rest as blue (remember the **bitwise and**):"
   ]
  },
  {
   "cell_type": "code",
   "execution_count": 8,
   "metadata": {
    "execution": {
     "iopub.execute_input": "2020-11-24T18:51:24.744101Z",
     "iopub.status.busy": "2020-11-24T18:51:24.743646Z",
     "iopub.status.idle": "2020-11-24T18:51:24.864097Z",
     "shell.execute_reply": "2020-11-24T18:51:24.863589Z"
    }
   },
   "outputs": [
    {
     "data": {
      "text/plain": [
       "Text(0, 0.5, 'y')"
      ]
     },
     "execution_count": 8,
     "metadata": {},
     "output_type": "execute_result"
    },
    {
     "data": {
      "image/png": "[encoded data removed]",
      "text/plain": [
       "<Figure size 432x288 with 1 Axes>"
      ]
     },
     "metadata": {
      "filenames": {
       "image/png": "/home/mayhew/Dropbox/Nassp/CM2021/OnlineNotes/uct_nassp_cm2021/book/_build/jupyter_execute/content/scientific-packages/numpy/where_21_1.png"
      },
      "needs_background": "light"
     },
     "output_type": "display_data"
    }
   ],
   "source": [
    "#True if in top left square\n",
    "is_top_left = (points[0, :] > 0.5) & (points[1, :] > 0.5)\n",
    "\n",
    "plt.plot(points[0, is_top_left], points[1, is_top_left], 'ro')\n",
    "plt.plot(points[0, ~ (is_top_left)], points[1, ~ is_top_left], 'bo')\n",
    "\n",
    "plt.xlabel('x')\n",
    "plt.ylabel('y')"
   ]
  },
  {
   "cell_type": "markdown",
   "metadata": {},
   "source": [
    "## `numpy.where()`\n",
    "\n",
    "[Documentation](https://docs.scipy.org/doc/numpy/reference/generated/numpy.where.html)\n",
    "\n",
    "```python\n",
    "numpy.where(condition[,x, y])\n",
    "```\n",
    "\n",
    "Returns elements chosen from `x` or `y` depending on the condition. If no `x` or `y` arguments are provided it returns and array of indices."
   ]
  },
  {
   "cell_type": "code",
   "execution_count": 9,
   "metadata": {
    "execution": {
     "iopub.execute_input": "2020-11-24T18:51:24.868558Z",
     "iopub.status.busy": "2020-11-24T18:51:24.868112Z",
     "iopub.status.idle": "2020-11-24T18:51:24.870360Z",
     "shell.execute_reply": "2020-11-24T18:51:24.870701Z"
    }
   },
   "outputs": [
    {
     "name": "stdout",
     "output_type": "stream",
     "text": [
      "arr1: [10 11 12 13 14 15 16 17 18 19]\n",
      "Indices where arr1 is greater than 15: (array([6, 7, 8, 9]),)\n",
      "The sub-array of arr1 that is greater than 15: [16 17 18 19]\n"
     ]
    }
   ],
   "source": [
    "arr = np.arange(10, 20)\n",
    "\n",
    "arr_where = np.where(arr > 15) \n",
    "\n",
    "print('arr1:', arr)\n",
    "print('Indices where arr1 is greater than 15:', arr_where)\n",
    "print('The sub-array of arr1 that is greater than 15:', arr[arr_where])"
   ]
  },
  {
   "cell_type": "markdown",
   "metadata": {},
   "source": [
    "If both `x` and `y` is specified, the elements of the returned array come from `x` if `condition` is true, or from `y` if `condition` is false."
   ]
  },
  {
   "cell_type": "code",
   "execution_count": 10,
   "metadata": {
    "execution": {
     "iopub.execute_input": "2020-11-24T18:51:24.874234Z",
     "iopub.status.busy": "2020-11-24T18:51:24.873797Z",
     "iopub.status.idle": "2020-11-24T18:51:25.743106Z",
     "shell.execute_reply": "2020-11-24T18:51:25.741546Z"
    }
   },
   "outputs": [
    {
     "name": "stdout",
     "output_type": "stream",
     "text": [
      "x: [1. 2. 3. 4. 5.]\n",
      "y: [-1. -2. -3. -4. -5.]\n",
      "Condition: [True, False, True, True, False]\n",
      "x where True, y where False: [ 1. -2.  3.  4. -5.]\n"
     ]
    }
   ],
   "source": [
    "x = np.linspace(1, 5, 5)\n",
    "#y = np.linspace(-5, -1, 5)\n",
    "y = -x\n",
    "\n",
    "condition = [True, False, True, True, False] \n",
    "\n",
    "print('x:', x)\n",
    "print('y:', y)\n",
    "print('Condition:', condition)\n",
    "print('x where True, y where False:', np.where(condition, x, y))"
   ]
  },
  {
   "cell_type": "markdown",
   "metadata": {},
   "source": [
    "### Example - Piecewise defined functions"
   ]
  },
  {
   "cell_type": "markdown",
   "metadata": {},
   "source": [
    "One use for `np.where()` is to define a piecewise defined function that works on arrays.\n",
    "\n",
    "As a first example, let's use `np.where()` to plot the absolute value function (you should really use `np.abs()` for this):\n",
    "\n",
    "$$\n",
    "y =\n",
    "\\begin{cases}\n",
    "-x & \\text{if $x < 0$}\\\\\n",
    "x & \\text{if $x \\geq 0$}\\\\\n",
    "\\end{cases}\n",
    "$$"
   ]
  },
  {
   "cell_type": "code",
   "execution_count": 11,
   "metadata": {
    "execution": {
     "iopub.execute_input": "2020-11-24T18:51:25.748200Z",
     "iopub.status.busy": "2020-11-24T18:51:25.747616Z",
     "iopub.status.idle": "2020-11-24T18:51:25.965936Z",
     "shell.execute_reply": "2020-11-24T18:51:25.965494Z"
    }
   },
   "outputs": [
    {
     "data": {
      "image/png": "[encoded data removed]",
      "text/plain": [
       "<Figure size 432x288 with 1 Axes>"
      ]
     },
     "metadata": {
      "filenames": {
       "image/png": "/home/mayhew/Dropbox/Nassp/CM2021/OnlineNotes/uct_nassp_cm2021/book/_build/jupyter_execute/content/scientific-packages/numpy/where_28_0.png"
      },
      "needs_background": "light"
     },
     "output_type": "display_data"
    }
   ],
   "source": [
    "x = np.linspace(-1, 1)\n",
    "\n",
    "y = np.where(x >= 0, x, -x)\n",
    "\n",
    "plt.plot(x, y)\n",
    "plt.xlabel('x')\n",
    "plt.ylabel('y')\n",
    "plt.show()"
   ]
  },
  {
   "cell_type": "markdown",
   "metadata": {},
   "source": [
    "Note that, in the plot above, the line does not reach zero, but flattens out to a value above it. This is because the array `x` does not contain the value 0, but values around it."
   ]
  },
  {
   "cell_type": "markdown",
   "metadata": {},
   "source": [
    "Now, consider the piecewise function:\n",
    "\n",
    "$$\n",
    "f(x) =\n",
    "\\begin{cases}\n",
    "-(x + 1)^2 + 1 & \\text{if $x < -1$}\\\\\n",
    "- x & \\text{if $-1 \\leq x \\geq 1$}\\\\\n",
    "(x - 1)^3 - 1 & \\text{if $x > 1$}\n",
    "\\end{cases}\n",
    "$$\n",
    "\n",
    "where there are three regions. To handle this we can use 2 `np.where()` calls:"
   ]
  },
  {
   "cell_type": "code",
   "execution_count": 12,
   "metadata": {
    "execution": {
     "iopub.execute_input": "2020-11-24T18:51:25.972425Z",
     "iopub.status.busy": "2020-11-24T18:51:25.971976Z",
     "iopub.status.idle": "2020-11-24T18:51:26.071196Z",
     "shell.execute_reply": "2020-11-24T18:51:26.070748Z"
    }
   },
   "outputs": [
    {
     "data": {
      "image/png": "[encoded data removed]",
      "text/plain": [
       "<Figure size 432x288 with 1 Axes>"
      ]
     },
     "metadata": {
      "filenames": {
       "image/png": "/home/mayhew/Dropbox/Nassp/CM2021/OnlineNotes/uct_nassp_cm2021/book/_build/jupyter_execute/content/scientific-packages/numpy/where_31_0.png"
      },
      "needs_background": "light"
     },
     "output_type": "display_data"
    }
   ],
   "source": [
    "x = np.linspace(-3, 3)\n",
    "\n",
    "#Left condition\n",
    "y = np.where(x < -1, -(x+1)**2 + 1, -x)\n",
    "\n",
    "#Right condition\n",
    "y = np.where(x > 1, (x - 1)**3 - 1, y)\n",
    "\n",
    "plt.plot(x, y)\n",
    "plt.xlabel('x')\n",
    "plt.ylabel('y')\n",
    "\n",
    "plt.show()"
   ]
  }
 ],
 "metadata": {
  "kernelspec": {
   "display_name": "Python 3.7.3 64-bit ('base': conda)",
   "language": "python",
   "name": "python37364bitbaseconda97808f46a65a4f1e9dfdbcff18a07fbf"
  },
  "language_info": {
   "codemirror_mode": {
    "name": "ipython",
    "version": 3
   },
   "file_extension": ".py",
   "mimetype": "text/x-python",
   "name": "python",
   "nbconvert_exporter": "python",
   "pygments_lexer": "ipython3",
   "version": "3.7.3"
  }
 },
 "nbformat": 4,
 "nbformat_minor": 4
}