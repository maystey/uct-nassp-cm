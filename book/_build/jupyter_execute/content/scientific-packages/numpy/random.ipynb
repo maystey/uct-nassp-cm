{
 "cells": [
  {
   "cell_type": "code",
   "execution_count": 1,
   "metadata": {
    "execution": {
     "iopub.execute_input": "2020-11-24T18:51:19.432192Z",
     "iopub.status.busy": "2020-11-24T18:51:19.430335Z",
     "iopub.status.idle": "2020-11-24T18:51:19.548978Z",
     "shell.execute_reply": "2020-11-24T18:51:19.549659Z"
    },
    "tags": [
     "remove_cell"
    ]
   },
   "outputs": [],
   "source": [
    "import numpy as np"
   ]
  },
  {
   "cell_type": "markdown",
   "metadata": {},
   "source": [
    "# NumPy Random Module"
   ]
  },
  {
   "cell_type": "markdown",
   "metadata": {},
   "source": [
    "The `numpy.random` module provides us with random number generators (RNG). You can find the documentation [here](https://docs.scipy.org/doc/numpy-1.14.0/reference/routines.random.html). As there name suggests, random number generators produce random numbers. In this section we highlight a few essential functions from the module:"
   ]
  },
  {
   "cell_type": "markdown",
   "metadata": {},
   "source": [
    "## `np.random.random()`"
   ]
  },
  {
   "cell_type": "markdown",
   "metadata": {},
   "source": [
    "This function produces random floating point numbers from a uniform probability distribution function (PDF) on the interval $[0, 1)$ ($1$ is excluded). If no arguments are provided a single number is generated: "
   ]
  },
  {
   "cell_type": "code",
   "execution_count": 2,
   "metadata": {
    "execution": {
     "iopub.execute_input": "2020-11-24T18:51:19.552922Z",
     "iopub.status.busy": "2020-11-24T18:51:19.552166Z",
     "iopub.status.idle": "2020-11-24T18:51:19.566812Z",
     "shell.execute_reply": "2020-11-24T18:51:19.567465Z"
    }
   },
   "outputs": [
    {
     "data": {
      "text/plain": [
       "0.1492496331552775"
      ]
     },
     "execution_count": 2,
     "metadata": {},
     "output_type": "execute_result"
    }
   ],
   "source": [
    "np.random.random()"
   ]
  },
  {
   "cell_type": "markdown",
   "metadata": {},
   "source": [
    "If the length or shape is specified, `random()` returns an array of random numbers:"
   ]
  },
  {
   "cell_type": "code",
   "execution_count": 3,
   "metadata": {
    "execution": {
     "iopub.execute_input": "2020-11-24T18:51:19.573794Z",
     "iopub.status.busy": "2020-11-24T18:51:19.573059Z",
     "iopub.status.idle": "2020-11-24T18:51:19.579555Z",
     "shell.execute_reply": "2020-11-24T18:51:19.578889Z"
    }
   },
   "outputs": [
    {
     "data": {
      "text/plain": [
       "array([0.02864925, 0.90155761, 0.18117545, 0.05969505, 0.98209859])"
      ]
     },
     "execution_count": 3,
     "metadata": {},
     "output_type": "execute_result"
    }
   ],
   "source": [
    "np.random.random(5)"
   ]
  },
  {
   "cell_type": "code",
   "execution_count": 4,
   "metadata": {
    "execution": {
     "iopub.execute_input": "2020-11-24T18:51:19.586584Z",
     "iopub.status.busy": "2020-11-24T18:51:19.585759Z",
     "iopub.status.idle": "2020-11-24T18:51:19.590601Z",
     "shell.execute_reply": "2020-11-24T18:51:19.591621Z"
    }
   },
   "outputs": [
    {
     "data": {
      "text/plain": [
       "array([[0.61890932, 0.06354365, 0.21702168],\n",
       "       [0.64686296, 0.87635358, 0.70505929]])"
      ]
     },
     "execution_count": 4,
     "metadata": {},
     "output_type": "execute_result"
    }
   ],
   "source": [
    "np.random.random((2, 3))"
   ]
  },
  {
   "cell_type": "markdown",
   "metadata": {},
   "source": [
    "If you want to produce uniformly distributed random numbers $R$ on the interval $[a, b)$, you can use random numbers $r$ from the interval $[0, 1)$ by scaling and shifting them:\n",
    "    $$\n",
    "    R = a + r*(b-a)\n",
    "    $$\n",
    "    \n",
    "For example, to generate uniform random numbers on the interval $[18, 30)$:"
   ]
  },
  {
   "cell_type": "code",
   "execution_count": 5,
   "metadata": {
    "execution": {
     "iopub.execute_input": "2020-11-24T18:51:19.596438Z",
     "iopub.status.busy": "2020-11-24T18:51:19.596047Z",
     "iopub.status.idle": "2020-11-24T18:51:19.598530Z",
     "shell.execute_reply": "2020-11-24T18:51:19.598847Z"
    }
   },
   "outputs": [
    {
     "data": {
      "text/plain": [
       "array([20.21123907, 22.43237304, 22.34185911, 27.12548562])"
      ]
     },
     "execution_count": 5,
     "metadata": {},
     "output_type": "execute_result"
    }
   ],
   "source": [
    "np.random.random(4)*(30 -18) + 18"
   ]
  },
  {
   "cell_type": "markdown",
   "metadata": {},
   "source": [
    "To read more about `numpy.random.random()`, see the [documentation](https://docs.scipy.org/doc/numpy-1.14.0/reference/generated/numpy.random.random.html#numpy.random.random)."
   ]
  },
  {
   "cell_type": "markdown",
   "metadata": {},
   "source": [
    "## `np.random.randint()`"
   ]
  },
  {
   "cell_type": "markdown",
   "metadata": {},
   "source": [
    "This function produces random integers sampled from a uniform probability distribution on a **specified** interval.\n",
    "\n",
    "The interval is defined by the first 2 arguments of `randint()`, the end of the interval (second number) is not included in the interval:"
   ]
  },
  {
   "cell_type": "code",
   "execution_count": 6,
   "metadata": {
    "execution": {
     "iopub.execute_input": "2020-11-24T18:51:19.601683Z",
     "iopub.status.busy": "2020-11-24T18:51:19.601275Z",
     "iopub.status.idle": "2020-11-24T18:51:19.603448Z",
     "shell.execute_reply": "2020-11-24T18:51:19.603763Z"
    }
   },
   "outputs": [
    {
     "data": {
      "text/plain": [
       "3"
      ]
     },
     "execution_count": 6,
     "metadata": {},
     "output_type": "execute_result"
    }
   ],
   "source": [
    "#Random numbers from 1 up to 10\n",
    "np.random.randint(1, 10)"
   ]
  },
  {
   "cell_type": "markdown",
   "metadata": {},
   "source": [
    "Again, you can specify a size or shape of the output array:"
   ]
  },
  {
   "cell_type": "code",
   "execution_count": 7,
   "metadata": {
    "execution": {
     "iopub.execute_input": "2020-11-24T18:51:19.606838Z",
     "iopub.status.busy": "2020-11-24T18:51:19.606444Z",
     "iopub.status.idle": "2020-11-24T18:51:19.608933Z",
     "shell.execute_reply": "2020-11-24T18:51:19.608590Z"
    }
   },
   "outputs": [
    {
     "data": {
      "text/plain": [
       "array([6, 7, 6])"
      ]
     },
     "execution_count": 7,
     "metadata": {},
     "output_type": "execute_result"
    }
   ],
   "source": [
    "np.random.randint(1, 10, 3)"
   ]
  },
  {
   "cell_type": "code",
   "execution_count": 8,
   "metadata": {
    "execution": {
     "iopub.execute_input": "2020-11-24T18:51:19.612324Z",
     "iopub.status.busy": "2020-11-24T18:51:19.611884Z",
     "iopub.status.idle": "2020-11-24T18:51:19.614539Z",
     "shell.execute_reply": "2020-11-24T18:51:19.614186Z"
    }
   },
   "outputs": [
    {
     "data": {
      "text/plain": [
       "array([[1, 7, 4, 4],\n",
       "       [7, 8, 2, 4]])"
      ]
     },
     "execution_count": 8,
     "metadata": {},
     "output_type": "execute_result"
    }
   ],
   "source": [
    "np.random.randint(1, 10, (2, 4))"
   ]
  },
  {
   "cell_type": "markdown",
   "metadata": {},
   "source": [
    "## Random Numbers From Other Distributions"
   ]
  },
  {
   "cell_type": "markdown",
   "metadata": {},
   "source": [
    "`numpy.random` provides us with many more RNG functions that sample from many of the most popular PDFs. You can see the full list [in the documentation](https://docs.scipy.org/doc/numpy-1.14.0/reference/routines.random.html#distributions).\n",
    "\n",
    "For example, the `np.random.norm()` function produces random numbers sampled from the normal (Gaussian) distribution. Parameters like the mean and standard deviation (or first 2 moments) can be specified.\n",
    "\n",
    "All of these functions can generate array outputs"
   ]
  }
 ],
 "metadata": {
  "kernelspec": {
   "display_name": "Python 3",
   "language": "python",
   "name": "python3"
  },
  "language_info": {
   "codemirror_mode": {
    "name": "ipython",
    "version": 3
   },
   "file_extension": ".py",
   "mimetype": "text/x-python",
   "name": "python",
   "nbconvert_exporter": "python",
   "pygments_lexer": "ipython3",
   "version": "3.7.8"
  }
 },
 "nbformat": 4,
 "nbformat_minor": 4
}