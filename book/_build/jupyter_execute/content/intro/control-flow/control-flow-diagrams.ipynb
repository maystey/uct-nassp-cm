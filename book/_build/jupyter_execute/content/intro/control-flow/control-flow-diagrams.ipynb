{
 "cells": [
  {
   "cell_type": "markdown",
   "metadata": {},
   "source": [
    "# Control Flow Diagrams"
   ]
  },
  {
   "cell_type": "markdown",
   "metadata": {},
   "source": [
    "Control flow is the order in which a program is executed. A control flow diagram illustrates this with interconnected nodes. This page serves to introduce you to the format of the control flow diagrams used in this book. You may wish to come back to this page once you have encountered a control flow diagram."
   ]
  },
  {
   "cell_type": "markdown",
   "metadata": {},
   "source": [
    "The program must have a starting point, in the diagrams this is illustrated by an elliptical node:"
   ]
  },
  {
   "cell_type": "markdown",
   "metadata": {},
   "source": [
    "```{figure} ./figures/start.png\n",
    ":name: fig-start-control-flow\n",
    "\n",
    "Start node of a control flow diagram.\n",
    "```"
   ]
  },
  {
   "cell_type": "markdown",
   "metadata": {},
   "source": [
    "Control will always flow to an end point, this is illustrated as a rectangle with rounded corners:"
   ]
  },
  {
   "cell_type": "markdown",
   "metadata": {},
   "source": [
    "```{figure} ./figures/end.png\n",
    ":name: fig-end-control-flow\n",
    "\n",
    "End node of a control flow diagram.\n",
    "```"
   ]
  },
  {
   "cell_type": "markdown",
   "metadata": {},
   "source": [
    "The flow of control from one node to another is illustrated by arrows. Read the diagram by starting from the \"Start\" node and following the arrow from one node to the next. For example an empty program would be illustrated by:"
   ]
  },
  {
   "cell_type": "markdown",
   "metadata": {},
   "source": [
    "```{figure} ./figures/start_to_end.png\n",
    ":name: fig-start-to-end-control-flow\n",
    "\n",
    "Control flow of an empty program, start node to end node.\n",
    "```"
   ]
  },
  {
   "cell_type": "markdown",
   "metadata": {},
   "source": [
    "A block of code is illustrated using a rectangular node:"
   ]
  },
  {
   "cell_type": "markdown",
   "metadata": {},
   "source": [
    "```{figure} ./figures/code_block.png\n",
    ":name: fig-code-block-control-flow\n",
    "\n",
    "Control flow in and out of a block of code.\n",
    "```"
   ]
  },
  {
   "cell_type": "markdown",
   "metadata": {},
   "source": [
    "The contents of this node are executed in the usual way before control leaves this node and flows through the rest of the diagram.\n",
    "\n",
    "Sometimes programs require possible branching in their control flow. This is where the essence of logic comes in. These branches can be considered as stemming from questions (or rather conditions that evaluate to true or false), the different branches themselves are the potential answers. This is illustrated using a diamond shaped node:"
   ]
  },
  {
   "cell_type": "markdown",
   "metadata": {},
   "source": [
    "```{figure} ./figures/condition.png\n",
    ":name: fig-condition-control-flow\n",
    "\n",
    "Branching node where control follows a line depending on the outcome of the condition in question.\n",
    "```"
   ]
  },
  {
   "cell_type": "markdown",
   "metadata": {},
   "source": [
    "If you are reading a control flow diagram that branches, start by following one branch at a time."
   ]
  },
  {
   "cell_type": "markdown",
   "metadata": {},
   "source": [
    "Sometimes it will be necessary to insert text into a control flow diagram that isn't present in the code or pseudo code. In these cases that text will be gray, and the text which actually appears in the code will be black."
   ]
  },
  {
   "cell_type": "markdown",
   "metadata": {},
   "source": [
    "```{figure} ./figures/black_and_gray.png\n",
    ":name: fig-black-and-gray-control-flow\n",
    "\n",
    "Black text is directly from the source code, gray text is inserted into the diagram for context.\n",
    "```"
   ]
  },
  {
   "cell_type": "code",
   "execution_count": null,
   "metadata": {},
   "outputs": [],
   "source": []
  }
 ],
 "metadata": {
  "kernelspec": {
   "display_name": "Python 3 (ipykernel)",
   "language": "python",
   "name": "python3"
  },
  "language_info": {
   "codemirror_mode": {
    "name": "ipython",
    "version": 3
   },
   "file_extension": ".py",
   "mimetype": "text/x-python",
   "name": "python",
   "nbconvert_exporter": "python",
   "pygments_lexer": "ipython3",
   "version": "3.10.9"
  }
 },
 "nbformat": 4,
 "nbformat_minor": 4
}