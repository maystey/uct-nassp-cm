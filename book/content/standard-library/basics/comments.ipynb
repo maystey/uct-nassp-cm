{
 "cells": [
  {
   "cell_type": "markdown",
   "metadata": {},
   "source": [
    "# Comments\n",
    "<!--- Add a section about using comments as headers? -->\n",
    "\n",
    "Comments make it possible to write messages in our scripts that are not to be read by the computer, but fellow humans.\n",
    "\n",
    "In Python you can write an in-line comment by using the `#` symbol. Everything after this symbol until the end of the line will be considered a part of the comment and the computer will not read this as code. For example:"
   ]
  },
  {
   "cell_type": "code",
   "execution_count": 1,
   "metadata": {},
   "outputs": [
    {
     "name": "stdout",
     "output_type": "stream",
     "text": [
      "Not a comment\n"
     ]
    }
   ],
   "source": [
    "print('Not a comment') # This is a comment print('Part of the comment')"
   ]
  },
  {
   "cell_type": "markdown",
   "metadata": {},
   "source": [
    "Comments can be useful for explaining what a script/section of a script does or why you've made the choices you have made in a particular line. It is not normally necessary to explain what each line of code does, as it should be easy enough to read the actual code to determine this."
   ]
  },
  {
   "cell_type": "markdown",
   "metadata": {},
   "source": [
    "## Commenting on a Line of Code\n",
    "\n",
    "If you want to comment about a particular line of code it is common practice to put the comment at the end of that line of code: <!--- construct better examples -->"
   ]
  },
  {
   "cell_type": "code",
   "execution_count": 3,
   "metadata": {},
   "outputs": [
    {
     "name": "stdout",
     "output_type": "stream",
     "text": [
      "some code\n"
     ]
    }
   ],
   "source": [
    "print('some code') #comment on code"
   ]
  },
  {
   "cell_type": "markdown",
   "metadata": {},
   "source": [
    "If the comment is too long to fit on the line, you can write the comment on a separate line above the code: "
   ]
  },
  {
   "cell_type": "code",
   "execution_count": 4,
   "metadata": {},
   "outputs": [
    {
     "name": "stdout",
     "output_type": "stream",
     "text": [
      "some code\n"
     ]
    }
   ],
   "source": [
    "#Comment line that is too long to fit on the end of the line of code\n",
    "print('some code')"
   ]
  },
  {
   "cell_type": "markdown",
   "metadata": {},
   "source": [
    "## Commenting Out Portions of Code\n",
    "\n",
    "Sometimes you may want to comment out code to temporarily remove it from the program without deleting it. It is especially useful when you want to isolate code snippets during debugging or print statements used in debugging during normal runtime. For example: <!--- Need to add debugging into the glossary --> <!--- Show example of this?-->"
   ]
  },
  {
   "cell_type": "code",
   "execution_count": 1,
   "metadata": {},
   "outputs": [
    {
     "name": "stdout",
     "output_type": "stream",
     "text": [
      "Variable 1 is 2\n",
      "Variable 2 is 3\n"
     ]
    }
   ],
   "source": [
    "var1 = 3\n",
    "var2 = var1\n",
    "\n",
    "#print('Variable 1 is', var1)\n",
    "#print('Variable 2 is', var2)\n",
    "\n",
    "var1 = 2\n",
    "\n",
    "#print('')\n",
    "print('Variable 1 is', var1)\n",
    "print('Variable 2 is', var2)"
   ]
  },
  {
   "cell_type": "code",
   "execution_count": null,
   "metadata": {},
   "outputs": [],
   "source": []
  }
 ],
 "metadata": {
  "kernelspec": {
   "display_name": "Python 3",
   "language": "python",
   "name": "python3"
  },
  "language_info": {
   "codemirror_mode": {
    "name": "ipython",
    "version": 3
   },
   "file_extension": ".py",
   "mimetype": "text/x-python",
   "name": "python",
   "nbconvert_exporter": "python",
   "pygments_lexer": "ipython3",
   "version": "3.7.3"
  }
 },
 "nbformat": 4,
 "nbformat_minor": 4
}
