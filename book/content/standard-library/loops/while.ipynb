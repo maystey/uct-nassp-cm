{
 "cells": [
  {
   "cell_type": "markdown",
   "metadata": {},
   "source": [
    "# While Loops\n",
    "\n",
    "For loops are useful if you know what you want to iterate over, but what if you wanted to keep looping until a certain condition is met? `while` loops are the tool for this job.\n",
    "\n",
    "<!--- Give an example problem that isn't exactly solvable using a for loop -->"
   ]
  },
  {
   "cell_type": "markdown",
   "metadata": {},
   "source": [
    "The syntax for a `while` loop is:\n",
    "```\n",
    "while condition:\n",
    "    block of code to be repeated\n",
    "```\n",
    "\n",
    "where `condition` is/evaluates to a boolean value. The loop will keep repeating, executing the block of code indented after the `:` as long as `condition` evaluates to `True`. When `condition` evaluates to `False` the loop will no longer be repeated and control will progress to the code after the loop. <!--- is control the correct term here? --> Note that if `condition` starts as `False`, the code inside the loop will never be executed.\n",
    "\n",
    "<!-- example -->"
   ]
  },
  {
   "cell_type": "markdown",
   "metadata": {},
   "source": [
    "## Worked Example\n",
    "\n",
    "Let's consider the following problem where we can make use of a `while` loop. Consider the recursive series: <!--- Introduce recursive series in For Loop Examples -->\n",
    "\n",
    "$$\n",
    "\\begin{eqnarray}\n",
    "T_n & = & T_{n-1}^{3/4} \\\\\n",
    "T_0 & = & 100\n",
    "\\end{eqnarray}\n",
    "$$\n",
    "\n",
    "We want to know when this series drops below 2 (what is the first value of $n$ for which $T_n < 2$). One solution is:"
   ]
  },
  {
   "cell_type": "code",
   "execution_count": 3,
   "metadata": {},
   "outputs": [
    {
     "name": "stdout",
     "output_type": "stream",
     "text": [
      "T_n is less than 2 for n = 7\n"
     ]
    }
   ],
   "source": [
    "T = 100 #T_0 term\n",
    "\n",
    "n = 0\n",
    "\n",
    "while T >= 2:\n",
    "    T = T**(3/4.) #T_{n+1} term\n",
    "    n += 1\n",
    "\n",
    "print('T_n is less than 2 for n =', n)"
   ]
  },
  {
   "cell_type": "markdown",
   "metadata": {},
   "source": [
    "Notice how the condition is `T >= 2` and not `T < 2`. That is because the loop continues **while** the condition is true and we want the loop to stop when `T < 2` is `True` (and the converse `T >= 2` is `False`)."
   ]
  },
  {
   "cell_type": "markdown",
   "metadata": {},
   "source": [
    "## Avoiding Infinite Recursion\n",
    "\n",
    "Something to be careful of when using `while` loops is a loop that doesn't stop looping. If `condition` never evaluates to `False`, or if you never break out of the loop in another way, control will never leave the loop. Sometimes it is useful to use a maximum number of loop iterations to avoid this:\n",
    "```\n",
    "counter = 0\n",
    "\n",
    "while condition and counter < max_count:\n",
    "    block of code\n",
    "```\n",
    "\n",
    "where `max_count` is the chosen maximum number of recursions (normally chosen as a very large number). <!--- rather give a concrete example -->"
   ]
  },
  {
   "cell_type": "markdown",
   "metadata": {},
   "source": [
    "## Replacing For Loops\n",
    "\n",
    "`while` loops can be used to replace for `loops`, for example:"
   ]
  },
  {
   "cell_type": "code",
   "execution_count": 4,
   "metadata": {},
   "outputs": [
    {
     "name": "stdout",
     "output_type": "stream",
     "text": [
      "for loop\n",
      "0\n",
      "1\n",
      "2\n",
      "3\n",
      "4\n",
      "\n",
      "while loop\n",
      "0\n",
      "1\n",
      "2\n",
      "3\n",
      "4\n"
     ]
    }
   ],
   "source": [
    "## For loop\n",
    "print('for loop')\n",
    "\n",
    "for i in range(5):\n",
    "    print(i)\n",
    "    \n",
    "## While loop\n",
    "print('')\n",
    "print('while loop')\n",
    "\n",
    "i = 0\n",
    "\n",
    "while i < 5:\n",
    "    print(i)\n",
    "    i+=1"
   ]
  },
  {
   "cell_type": "markdown",
   "metadata": {},
   "source": [
    "As you can see the `while` loop is a bit less convenient than the `for` loop in this case. The `while` loop becomes even less convenient when looping through a collection:"
   ]
  },
  {
   "cell_type": "code",
   "execution_count": 5,
   "metadata": {},
   "outputs": [
    {
     "name": "stdout",
     "output_type": "stream",
     "text": [
      "for loop\n",
      "a\n",
      " \n",
      "s\n",
      "t\n",
      "r\n",
      "i\n",
      "n\n",
      "g\n",
      "\n",
      "while loop\n",
      "a\n",
      " \n",
      "s\n",
      "t\n",
      "r\n",
      "i\n",
      "n\n",
      "g\n"
     ]
    }
   ],
   "source": [
    "string = 'a string'\n",
    "\n",
    "## For loop\n",
    "print('for loop')\n",
    "\n",
    "for char in string:\n",
    "    print(char)\n",
    "\n",
    "## While loop\n",
    "print('')\n",
    "print('while loop')\n",
    "\n",
    "index = 0\n",
    "\n",
    "while index < len(string):\n",
    "    print(string[index])\n",
    "    index += 1"
   ]
  },
  {
   "cell_type": "code",
   "execution_count": null,
   "metadata": {},
   "outputs": [],
   "source": []
  }
 ],
 "metadata": {
  "kernelspec": {
   "display_name": "Python 3",
   "language": "python",
   "name": "python3"
  },
  "language_info": {
   "codemirror_mode": {
    "name": "ipython",
    "version": 3
   },
   "file_extension": ".py",
   "mimetype": "text/x-python",
   "name": "python",
   "nbconvert_exporter": "python",
   "pygments_lexer": "ipython3",
   "version": "3.7.3"
  }
 },
 "nbformat": 4,
 "nbformat_minor": 4
}
