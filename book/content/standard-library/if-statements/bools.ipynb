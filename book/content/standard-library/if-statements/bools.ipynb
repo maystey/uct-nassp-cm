{
 "cells": [
  {
   "cell_type": "markdown",
   "metadata": {},
   "source": [
    "# Booleans (`bool`)\n",
    "\n",
    "The boolean data type (or bools) hold one of two values: `True` or `False`."
   ]
  },
  {
   "cell_type": "code",
   "execution_count": 2,
   "metadata": {},
   "outputs": [
    {
     "name": "stdout",
     "output_type": "stream",
     "text": [
      "Var 1 True <class 'bool'>\n",
      "Var 2 False <class 'bool'>\n"
     ]
    }
   ],
   "source": [
    "bool_var1 = True\n",
    "\n",
    "print('Var 1', bool_var1, type(bool_var1))\n",
    "\n",
    "bool_var2 = False\n",
    "\n",
    "print('Var 2', bool_var2, type(bool_var2))"
   ]
  },
  {
   "cell_type": "code",
   "execution_count": null,
   "metadata": {},
   "outputs": [],
   "source": []
  }
 ],
 "metadata": {
  "kernelspec": {
   "display_name": "Python 3",
   "language": "python",
   "name": "python3"
  },
  "language_info": {
   "codemirror_mode": {
    "name": "ipython",
    "version": 3
   },
   "file_extension": ".py",
   "mimetype": "text/x-python",
   "name": "python",
   "nbconvert_exporter": "python",
   "pygments_lexer": "ipython3",
   "version": "3.7.3"
  }
 },
 "nbformat": 4,
 "nbformat_minor": 4
}
