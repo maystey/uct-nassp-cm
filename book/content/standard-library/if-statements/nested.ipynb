{
 "cells": [
  {
   "cell_type": "markdown",
   "metadata": {},
   "source": [
    "# Nested If Statements"
   ]
  },
  {
   "cell_type": "markdown",
   "metadata": {},
   "source": [
    "The code blocks inside the if statement can contain any valid Python code. This means that you can also nest other if statements inside an if statement. For example:\n",
    "\n",
    "```python\n",
    "if condition1:\n",
    "    code_block_1\n",
    "    \n",
    "    if condition2:\n",
    "        code_block_2\n",
    "    else:\n",
    "        code_block_3\n",
    "\n",
    "else:\n",
    "    code_block_4\n",
    "```\n",
    "\n",
    "which can be illustrated with the control flow diagram:"
   ]
  },
  {
   "cell_type": "markdown",
   "metadata": {},
   "source": [
    "```{figure} ./figures/if_else_nested.png\n",
    ":name: fig-if-else-nested-control-flow\n",
    "\n",
    "Control flow diagram of the pseudo code example of an if statement nested inside an if statement.\n",
    "```"
   ]
  },
  {
   "cell_type": "markdown",
   "metadata": {},
   "source": [
    ":::{Hint}\n",
    "While there are situations which call for nested if statements, always consider whether a series of `elif`s will serve instead. Nested code blocks can make scripts harder to read.\n",
    ":::"
   ]
  },
  {
   "cell_type": "code",
   "execution_count": null,
   "metadata": {},
   "outputs": [],
   "source": []
  }
 ],
 "metadata": {
  "kernelspec": {
   "display_name": "Python 3.7.3 64-bit ('base': conda)",
   "language": "python",
   "name": "python37364bitbaseconda97808f46a65a4f1e9dfdbcff18a07fbf"
  },
  "language_info": {
   "codemirror_mode": {
    "name": "ipython",
    "version": 3
   },
   "file_extension": ".py",
   "mimetype": "text/x-python",
   "name": "python",
   "nbconvert_exporter": "python",
   "pygments_lexer": "ipython3",
   "version": "3.7.3"
  }
 },
 "nbformat": 4,
 "nbformat_minor": 4
}
