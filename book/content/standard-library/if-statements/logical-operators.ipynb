{
 "cells": [
  {
   "cell_type": "markdown",
   "metadata": {},
   "source": [
    "# Logical Operators\n",
    "\n",
    "Logical operators act on booleans and return booleans. The logical operators are `and`, `or` and `not`. \n",
    "\n",
    "<!--- Maybe mention bitwise operations? Python doesn't expose these in the Standard Library afaik, but just so that they are aware of the difference -->"
   ]
  },
  {
   "cell_type": "markdown",
   "metadata": {},
   "source": [
    "## Logical `and`"
   ]
  },
  {
   "cell_type": "markdown",
   "metadata": {},
   "source": [
    "This acts on 2 booleans. It returns `True` if both booleans are `True` and `False` otherwise. For example:"
   ]
  },
  {
   "cell_type": "code",
   "execution_count": 1,
   "metadata": {},
   "outputs": [
    {
     "name": "stdout",
     "output_type": "stream",
     "text": [
      "True and True is True\n",
      "True and False is False\n",
      "False and True is False\n",
      "False and False is False\n"
     ]
    }
   ],
   "source": [
    "print('True and True is', True and True)\n",
    "print('True and False is', True and False)\n",
    "print('False and True is', False and True)\n",
    "print('False and False is', False and False)"
   ]
  },
  {
   "cell_type": "markdown",
   "metadata": {
    "tags": [
     "hide"
    ]
   },
   "source": [
    "<!-- Add examples with comparison operators? Or do it all later? -->"
   ]
  },
  {
   "cell_type": "markdown",
   "metadata": {},
   "source": [
    "## Logical `or`\n",
    "\n",
    "This operator acts on 2 booleans. It returns `True` if at least one of the booleans is `True` and `False` if both booleans are `False`. For example:"
   ]
  },
  {
   "cell_type": "code",
   "execution_count": 1,
   "metadata": {},
   "outputs": [
    {
     "name": "stdout",
     "output_type": "stream",
     "text": [
      "True or True is True\n",
      "True or False is True\n",
      "False or True is True\n",
      "False or False is False\n"
     ]
    }
   ],
   "source": [
    "print('True or True is', True or True)\n",
    "print('True or False is', True or False)\n",
    "print('False or True is', False or True)\n",
    "print('False or False is', False or False)"
   ]
  },
  {
   "cell_type": "markdown",
   "metadata": {},
   "source": [
    "## Logical `not`\n",
    "This operator acts on a single boolean. It returns the opposite of the boolean:"
   ]
  },
  {
   "cell_type": "code",
   "execution_count": 2,
   "metadata": {},
   "outputs": [
    {
     "name": "stdout",
     "output_type": "stream",
     "text": [
      "not True is False\n",
      "not False is True\n"
     ]
    }
   ],
   "source": [
    "print('not True is', not True)\n",
    "print('not False is', not False)"
   ]
  },
  {
   "cell_type": "markdown",
   "metadata": {},
   "source": [
    "## Combining Logical Operations\n",
    "Although logical operations only act on up to 2 booleans at a time, just like arithmetic operators they can be combined in a single statement. For example:"
   ]
  },
  {
   "cell_type": "code",
   "execution_count": 2,
   "metadata": {},
   "outputs": [
    {
     "name": "stdout",
     "output_type": "stream",
     "text": [
      "True and False or True is  True\n",
      "True or True and False is True\n",
      "False\n"
     ]
    }
   ],
   "source": [
    "print('True and False or True is ', True and False or True)\n",
    "print('True or True and False is', True or True and False)\n",
    "print(not True or True and False)"
   ]
  },
  {
   "cell_type": "markdown",
   "metadata": {},
   "source": [
    "<!---The order in which the logical operators are executed if no brackets are used is: `not`, `and`, `or`.\n",
    "\n",
    "If you want to control the order in which the operators execute you can use brackets: --->"
   ]
  },
  {
   "cell_type": "markdown",
   "metadata": {},
   "source": [
    "Although it isn't important for the cases above, if you need to ensure a specific order for the operations you can use brackets to group them."
   ]
  }
 ],
 "metadata": {
  "kernelspec": {
   "display_name": "Python 3",
   "language": "python",
   "name": "python3"
  },
  "language_info": {
   "codemirror_mode": {
    "name": "ipython",
    "version": 3
   },
   "file_extension": ".py",
   "mimetype": "text/x-python",
   "name": "python",
   "nbconvert_exporter": "python",
   "pygments_lexer": "ipython3",
   "version": "3.7.3"
  }
 },
 "nbformat": 4,
 "nbformat_minor": 4
}
