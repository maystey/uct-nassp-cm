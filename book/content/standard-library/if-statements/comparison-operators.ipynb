{
 "cells": [
  {
   "cell_type": "markdown",
   "metadata": {},
   "source": [
    "# Comparison Operators\n",
    "Comparison operators operate on two variables and return a boolean result."
   ]
  },
  {
   "cell_type": "markdown",
   "metadata": {},
   "source": [
    "## Less-than `<` and  Greater-than `>`\n",
    "These operators act in the same way as the mathematical objects you are familiar with. If `a` is less than `b`, then `a < b` will return `True` and `a > b` will return `False`. For example:"
   ]
  },
  {
   "cell_type": "code",
   "execution_count": 3,
   "metadata": {},
   "outputs": [
    {
     "name": "stdout",
     "output_type": "stream",
     "text": [
      "3 > 2 is True\n",
      "2.54 < 1 is False\n",
      "1 < 1 is False\n"
     ]
    }
   ],
   "source": [
    "print('3 > 2 is', 3 > 2)\n",
    "print('2.54 < 1 is', 2.54 < 1)\n",
    "print('1 < 1 is', 1 < 1)"
   ]
  },
  {
   "cell_type": "markdown",
   "metadata": {},
   "source": [
    "Note that these operators act on both integers and floats interchangeably."
   ]
  },
  {
   "cell_type": "markdown",
   "metadata": {},
   "source": [
    "## Less-than-equal-to `<=` and Greater-than-equal-to `>=`\n",
    "\n",
    "As there names suggest, the `<=` operator is related to the $\\leq$ assertion in mathematics. Similarly `>=` is related to $\\geq$."
   ]
  },
  {
   "cell_type": "code",
   "execution_count": 4,
   "metadata": {},
   "outputs": [
    {
     "name": "stdout",
     "output_type": "stream",
     "text": [
      "3.3 < 3.4 is True\n",
      "2 <= 2 is True\n",
      "2 >= 3.4 is False\n"
     ]
    }
   ],
   "source": [
    "print('3.3 < 3.4 is', 3.3 <= 3.4)\n",
    "print('2 <= 2 is', 2 <= 2)\n",
    "print('2 >= 3.4 is', 2 >= 3.4)"
   ]
  },
  {
   "cell_type": "markdown",
   "metadata": {},
   "source": [
    "## Equals-to `==`\n",
    "The `==` operator is used to check equality. When used on numbers, this is similar to the mathematical $=$."
   ]
  },
  {
   "cell_type": "code",
   "execution_count": 7,
   "metadata": {},
   "outputs": [
    {
     "name": "stdout",
     "output_type": "stream",
     "text": [
      "3 == 2 is False\n",
      "5.3 == 5.3 is True\n",
      "6 == 6.0 is True\n"
     ]
    }
   ],
   "source": [
    "print('3 == 2 is', 3==2)\n",
    "print('5.3 == 5.3 is', 5.3 == 5.3)\n",
    "print('6 == 6.0 is', 6 == 6.0)"
   ]
  },
  {
   "cell_type": "markdown",
   "metadata": {},
   "source": [
    "The `==` operator is used more generally to compare non-numerical values. For example, it can be used to compare two strings:"
   ]
  },
  {
   "cell_type": "code",
   "execution_count": 8,
   "metadata": {},
   "outputs": [
    {
     "name": "stdout",
     "output_type": "stream",
     "text": [
      "'apple' == 'apple' is True\n",
      "'banana' == 'apple' is False\n",
      "\"banana\" == 'banana' is True\n"
     ]
    }
   ],
   "source": [
    "print(\"'apple' == 'apple' is\", 'apple' == 'apple')\n",
    "print(\"'banana' == 'apple' is\", 'banana' == 'apple')\n",
    "print('''\"banana\" == 'banana' is''', \"banana\" == 'banana')"
   ]
  },
  {
   "cell_type": "markdown",
   "metadata": {},
   "source": [
    "## Not-equal-to `!=`\n",
    "This operator returns `True` if the two objects being compared aren't equivalent (if `==` would return `False`). For example:"
   ]
  },
  {
   "cell_type": "code",
   "execution_count": 10,
   "metadata": {},
   "outputs": [
    {
     "name": "stdout",
     "output_type": "stream",
     "text": [
      "3 != 2 is True\n",
      "7.3 != 7.3 is False\n",
      "'apple' != 'banana' is True\n"
     ]
    }
   ],
   "source": [
    "print('3 != 2 is', 3 != 2)\n",
    "print('7.3 != 7.3 is', 7.3 != 7.3)\n",
    "print(\"'apple' != 'banana' is\", 'apple' != 'banana')"
   ]
  }
 ],
 "metadata": {
  "kernelspec": {
   "display_name": "Python 3",
   "language": "python",
   "name": "python3"
  },
  "language_info": {
   "codemirror_mode": {
    "name": "ipython",
    "version": 3
   },
   "file_extension": ".py",
   "mimetype": "text/x-python",
   "name": "python",
   "nbconvert_exporter": "python",
   "pygments_lexer": "ipython3",
   "version": "3.7.3"
  }
 },
 "nbformat": 4,
 "nbformat_minor": 4
}
