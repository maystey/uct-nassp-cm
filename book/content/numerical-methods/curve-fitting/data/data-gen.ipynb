{
 "cells": [
  {
   "cell_type": "markdown",
   "metadata": {},
   "source": [
    "# Generate Data"
   ]
  },
  {
   "cell_type": "markdown",
   "metadata": {},
   "source": [
    "## Scipy Least Squares"
   ]
  },
  {
   "cell_type": "code",
   "execution_count": 2,
   "metadata": {
    "tags": [
     "remove_input"
    ]
   },
   "outputs": [
    {
     "data": {
      "image/png": "[encoded data removed]",
      "text/plain": [
       "<Figure size 432x288 with 1 Axes>"
      ]
     },
     "metadata": {
      "needs_background": "light"
     },
     "output_type": "display_data"
    }
   ],
   "source": [
    "%matplotlib inline\n",
    "import numpy as np\n",
    "import matplotlib.pyplot as plt\n",
    "\n",
    "#Generating data, be sure to remove this cell and use the data file\n",
    "\n",
    "#Functional relation\n",
    "def f(a, x):\n",
    "    return a[0] + a[1] * np.exp(a[2] * x)\n",
    "\n",
    "#Parameters\n",
    "a = [2, 0.5, 0.2]\n",
    "N = 20\n",
    "xlims = [0, 10]\n",
    "sigma_y = 0.15\n",
    "\n",
    "#Random data\n",
    "xdata = np.random.uniform(xlims[0], xlims[1], N)\n",
    "ydata = np.random.normal(loc = f(a, xdata), scale = sigma_y)\n",
    "\n",
    "#Writing\n",
    "np.savetxt('nonlinear_data.csv', np.array((xdata, ydata)).T, header = 'x,y', delimiter = ',')\n",
    "\n",
    "#Plotting\n",
    "plt.plot(xdata, ydata, 'bo')\n",
    "plt.show()"
   ]
  },
  {
   "cell_type": "code",
   "execution_count": 4,
   "metadata": {},
   "outputs": [
    {
     "data": {
      "image/png": "[encoded data removed]",
      "text/plain": [
       "<Figure size 432x288 with 1 Axes>"
      ]
     },
     "metadata": {
      "needs_background": "light"
     },
     "output_type": "display_data"
    }
   ],
   "source": [
    "def f_sin(a, x):\n",
    "    return a[0] + a[1] * np.exp(-a[2] * x) * np.sin(a[3] * x)\n",
    "\n",
    "#Parameters\n",
    "a = [1, 2, 0.2, np.pi]\n",
    "N = 50\n",
    "xlims = [0, 7]\n",
    "sigma_y = 0.15\n",
    "\n",
    "#Random data\n",
    "xdata = np.random.uniform(xlims[0], xlims[1], N)\n",
    "ydata = np.random.normal(loc = f_sin(a, xdata), scale = sigma_y)\n",
    "\n",
    "#Writing\n",
    "#np.savetxt('data/nonlinear_sine.csv', np.array((xdata, ydata)).T, header = 'x,y', delimiter = ',')\n",
    "\n",
    "#Plotting\n",
    "plt.plot(xdata, ydata, 'ro')\n",
    "plt.show()"
   ]
  },
  {
   "cell_type": "code",
   "execution_count": null,
   "metadata": {},
   "outputs": [],
   "source": []
  }
 ],
 "metadata": {
  "kernelspec": {
   "display_name": "Python 3 (ipykernel)",
   "language": "python",
   "name": "python3"
  },
  "language_info": {
   "codemirror_mode": {
    "name": "ipython",
    "version": 3
   },
   "file_extension": ".py",
   "mimetype": "text/x-python",
   "name": "python",
   "nbconvert_exporter": "python",
   "pygments_lexer": "ipython3",
   "version": "3.7.3"
  }
 },
 "nbformat": 4,
 "nbformat_minor": 4
}
