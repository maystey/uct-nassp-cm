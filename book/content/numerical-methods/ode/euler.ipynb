{
 "cells": [
  {
   "cell_type": "markdown",
   "metadata": {
    "tags": []
   },
   "source": [
    "# Euler's Method"
   ]
  },
  {
   "cell_type": "markdown",
   "metadata": {},
   "source": [
    "Given a first order ODE of the form:\n",
    "\n",
    "$$\n",
    "\\frac{dy}{dx} = y^\\prime = f(x, y)\n",
    "$$\n",
    "\n",
    "where the value for $y(x = x_0) = y_0$ is known. If we wanted to approximate the solution for $y(x_1) = y_1$ at the point $x_1 = x_0 + h$, we can use the Taylor approximation (expanding around $x_0$):\n",
    "\n",
    "$$\n",
    "y_1 = y_0 + y^\\prime|_{x_0} h + y^{\\prime\\prime}|_{x_0} \\frac{h^2}{2!} + y^{\\prime\\prime\\prime}|_{x_0} \\frac{h^3}{3!} + \\dots\n",
    "$$\n",
    "\n",
    "For a small value of $h$ ($0 < h < 1$), we can neglect high order powers of $h$ without incurring too much error:\n",
    "\n",
    "$$\n",
    "\\begin{align*}\n",
    "y_1 &\\approx y_0 + y^\\prime h\\\\\n",
    "    &\\approx y_0 + h f(x_0, y_0)\n",
    "\\end{align*}\n",
    "$$"
   ]
  },
  {
   "cell_type": "markdown",
   "metadata": {},
   "source": [
    "Now if we used this approximation to find the next value of $y$ at $x_2 = x_1 + h$ , $y_2$,:\n",
    "\n",
    "$$\n",
    "y_2 \\approx y_1 + h f(x_1, y_1)\n",
    "$$\n",
    "\n",
    "and again for $x_3 = x_2 + h$, $y_3$:\n",
    "\n",
    "$$\n",
    "y_3 \\approx y_2 + h f(x_2, y_2)\n",
    "$$\n",
    "\n",
    "This method can be iterated $n$ times to find:\n",
    "\n",
    "$$\n",
    "y_n \\approx y_{n-1} + h f(x_{n-1}, y_{n-1})\n",
    "$$"
   ]
  },
  {
   "cell_type": "markdown",
   "metadata": {},
   "source": [
    "## Geometric Interpretation"
   ]
  },
  {
   "cell_type": "markdown",
   "metadata": {},
   "source": [
    "Another way to see the Euler method is as approximating the solution $y(x)$ as a straight line over the interval $[x_n, x_n + h]$, passing through the point $(x_n, y_n)$ with a gradient of $f(x_n, y_n)$ (the tangent of $y$ at that point):"
   ]
  },
  {
   "cell_type": "code",
   "execution_count": 4,
   "metadata": {
    "jupyter": {
     "source_hidden": true
    },
    "tags": [
     "remove_input"
    ]
   },
   "outputs": [
    {
     "data": {
      "image/png": "[encoded data removed]",
      "text/plain": [
       "<Figure size 432x288 with 1 Axes>"
      ]
     },
     "metadata": {
      "needs_background": "light"
     },
     "output_type": "display_data"
    }
   ],
   "source": [
    "import numpy as np\n",
    "import matplotlib.pyplot as plt\n",
    "\n",
    "h = 3\n",
    "xlims = [0, 5]\n",
    "\n",
    "###Function\n",
    "def fprime(a, x, y):\n",
    "    return 3*a[0]*x*x + 2*a[1]*x + a[2]\n",
    "\n",
    "def f(a,x):\n",
    "    return a[0]*x*x*x + a[1]*x*x + a[2]*x + a[3]\n",
    "\n",
    "def sp_to_cubic(sp_xy):\n",
    "    \"\"\"\n",
    "    Construct a cubic polynomial from the stationary points\n",
    "    \"\"\"\n",
    "    X = np.zeros((4,4))\n",
    "    Y = np.zeros((4,1))\n",
    "    \n",
    "    X[::2,0] = 3*sp_xy[:,0]**2\n",
    "    X[::2,1] = 2*sp_xy[:,0]\n",
    "    X[::2,2] = 1\n",
    "    \n",
    "    X[1::2,0] = sp_xy[:,0]**3\n",
    "    X[1::2,1] = sp_xy[:,0]**2\n",
    "    X[1::2,2] = sp_xy[:,0]\n",
    "    X[1::2,3] = 1\n",
    "    \n",
    "    Y[1::2,0] = sp_xy[:,1]\n",
    "    \n",
    "    X = np.matrix(X)\n",
    "    Y = np.matrix(Y)\n",
    "    return np.array(X.I*Y).flatten()\n",
    "\n",
    "##Euler\n",
    "a = sp_to_cubic(np.array([[3, 10],[7, 5]]))\n",
    "\n",
    "x_euler = [xlims[0], xlims[0] + h]\n",
    "y_euler = [f(a, x_euler[0]), 0]\n",
    "\n",
    "y_euler[1] = y_euler[0] + h*fprime(a, xlims[0], y_euler[0])\n",
    "\n",
    "x_ticks = [r'$x_n$', r'$x_{n+1}$']\n",
    "y_ticks = [r'$y_n$', r'$y_{n+1}$', r'$y(x_{n+1})$']\n",
    "    \n",
    "##Plot\n",
    "x = np.linspace(xlims[0], xlims[1], 1000)    \n",
    "\n",
    "plt.plot(x_euler, y_euler, 'k-', label = 'Euler')\n",
    "plt.plot(x, f(a,x), 'k--', label = 'Exact')\n",
    "\n",
    "ylim = plt.ylim()\n",
    "xlim = plt.xlim()\n",
    "\n",
    "for i in range(len(x_euler)):\n",
    "    plt.vlines(x = x_euler[i], ymin = -100, ymax = y_euler[i], color = 'black',\n",
    "               linestyles = ':')\n",
    "    plt.hlines(y = y_euler[i], xmin = -100, xmax = x_euler[i], color = 'black',\n",
    "               linestyles = ':')\n",
    "\n",
    "plt.vlines(x = x_euler[1], ymin = -100, ymax = f(a, x_euler[1]), color = 'black',\n",
    "               linestyles = ':')\n",
    "plt.hlines(y = f(a, x_euler[1]), xmin = -100, xmax = x_euler[1], color = 'black',\n",
    "               linestyles = ':')\n",
    "\n",
    "#plt.title(r'$h = {:.0f} (x_n - x_0)$'.format(h), fontsize = 16)\n",
    "plt.ylim(ylim)\n",
    "plt.xlim(xlim)\n",
    "plt.xticks(x_euler, x_ticks, fontsize = 14)\n",
    "plt.yticks(y_euler + [f(a, x_euler[1])], y_ticks, fontsize = 14)\n",
    "plt.legend(fontsize = 14)\n",
    "plt.show()"
   ]
  },
  {
   "cell_type": "markdown",
   "metadata": {},
   "source": [
    "<div class=\"worked-example\">\n",
    "    <h5 class=\"worked-example-title\"><b>Worked Example</b></h5>"
   ]
  },
  {
   "cell_type": "markdown",
   "metadata": {},
   "source": [
    "Consider the ODE:\n",
    "\n",
    "$$\n",
    "\\frac{dy}{dx} = -2 (x - 1) y\n",
    "$$\n",
    "\n",
    "with the given initial conditions: $y = 1$ at $x = 0$.\n",
    "\n",
    "This has an analytic solution of:\n",
    "\n",
    "$$\n",
    "y(x) = e^{(x - 1)^2 + 1}\n",
    "$$\n",
    "\n",
    "which we can compare our numerical solutions to.\n",
    "\n",
    "Let's say we want to find the value of $y$ at $x = 1$ numerically (it's $e$). We shall **choose** a step size of $h = 0.05$ when integrating this out. What we need to do is recursively apply Euler steps until we have reached the desired $x$:"
   ]
  },
  {
   "cell_type": "code",
   "execution_count": 11,
   "metadata": {},
   "outputs": [
    {
     "name": "stdout",
     "output_type": "stream",
     "text": [
      "y at x = 1 approximated using Euler:  2.7617285451021716\n",
      "y at x = 1:  2.718281828459045\n"
     ]
    }
   ],
   "source": [
    "import numpy as np\n",
    "\n",
    "x, y = 0, 1 #initial conditions\n",
    "\n",
    "h = 0.05 #step size\n",
    "\n",
    "x_end = 1 #the value of x for which we want to know y\n",
    "\n",
    "#The ODE function\n",
    "def f(x,y):\n",
    "    return - 2 * (x -1) * y\n",
    "\n",
    "#Iterating through the Euler method until x >= x_end:\n",
    "while x < x_end:\n",
    "    y = y + h * f(x,y)\n",
    "    x = x + h #Note, we don't want to update x before it's used in the line above\n",
    "    \n",
    "print('y at x = 1 approximated using Euler: ', y)\n",
    "print('y at x = 1: ', np.e)"
   ]
  },
  {
   "cell_type": "markdown",
   "metadata": {},
   "source": [
    "Now, it is often important for us to visualize the solution for $y(x)$ over the interval, rather than only finding the value of $y$ at the end of it. We will plot the numerical solution for $y$ on the interval $0 < x < 5$ along with the exact solution for comparison. We could alter the solution above to append the values to an array (as would be the best solution if we didn't know how many iterations we needed), but instead we will create an array of $x$ values on the interval, as this is known to us before perform the Euler solution:"
   ]
  },
  {
   "cell_type": "code",
   "execution_count": 21,
   "metadata": {},
   "outputs": [
    {
     "data": {
      "image/png": "[encoded data removed]",
      "text/plain": [
       "<Figure size 432x288 with 1 Axes>"
      ]
     },
     "metadata": {
      "needs_background": "light"
     },
     "output_type": "display_data"
    }
   ],
   "source": [
    "import numpy as np\n",
    "import matplotlib.pyplot as plt\n",
    "\n",
    "x0, y0 = 0, 1\n",
    "h = 0.05\n",
    "x_end = 5\n",
    "\n",
    "#The ODE function\n",
    "def f(x,y):\n",
    "    return -2 * (x - 1) * y\n",
    "\n",
    "#Constructing the arrays:\n",
    "x_arr = np.arange(x0, x_end + h, h) #make sure it goes up to and including x_end\n",
    "\n",
    "y_arr = np.zeros(x_arr.shape)\n",
    "y_arr[0] = y0\n",
    "\n",
    "#Performing the Euler method, note we don't use the last x value in the update calculations\n",
    "for i,x in enumerate(x_arr[:-1]):\n",
    "    y_arr[i+1] = y_arr[i] + h*f(x, y_arr[i])\n",
    "\n",
    "#Plotting the solution\n",
    "fig, ax = plt.subplots()\n",
    "\n",
    "ax.plot(x_arr, y_arr, color = '0.3', label = 'Numerical solution')\n",
    "ax.plot(x_arr, np.exp( -(x_arr - 1)**2 + 1 ), 'k--', label = 'Exact solution')\n",
    "ax.set_xlabel('x')\n",
    "ax.set_ylabel('y')\n",
    "\n",
    "ax.legend()\n",
    "\n",
    "plt.show()"
   ]
  },
  {
   "cell_type": "markdown",
   "metadata": {},
   "source": [
    "</div>"
   ]
  }
 ],
 "metadata": {
  "kernelspec": {
   "display_name": "Python 3.7.3 64-bit ('base': conda)",
   "language": "python",
   "name": "python37364bitbaseconda97808f46a65a4f1e9dfdbcff18a07fbf"
  },
  "language_info": {
   "codemirror_mode": {
    "name": "ipython",
    "version": 3
   },
   "file_extension": ".py",
   "mimetype": "text/x-python",
   "name": "python",
   "nbconvert_exporter": "python",
   "pygments_lexer": "ipython3",
   "version": "3.7.3"
  }
 },
 "nbformat": 4,
 "nbformat_minor": 4
}
