{
 "cells": [
  {
   "cell_type": "markdown",
   "metadata": {},
   "source": [
    "# Managing Your Python Installation with Anaconda"
   ]
  },
  {
   "cell_type": "markdown",
   "metadata": {},
   "source": [
    "It is required that you have a working installation of Python 3 for this course. If you are already familiar with managing your own Python installation, you don't have to follow the instructions on this page. For Linux users it is recommended that you do not use your system distribution of Python for this course, as alterations to this distribution can cause problems."
   ]
  },
  {
   "cell_type": "markdown",
   "metadata": {},
   "source": [
    "## What is Anaconda?"
   ]
  },
  {
   "cell_type": "markdown",
   "metadata": {},
   "source": [
    "Anaconda is a package manager for Python and R. It helps you to manage your Python packages (installation, updates and removals) and related tools/software (such as IDEs). It can also be used to create virtual Python environments, which is useful when you are working on projects with different/conflicting package requirements."
   ]
  },
  {
   "cell_type": "markdown",
   "metadata": {},
   "source": [
    "## Installing Anaconda"
   ]
  },
  {
   "cell_type": "markdown",
   "metadata": {},
   "source": [
    "The free and open source version: Anaconda Individual Edition is available for download here: <https://www.anaconda.com/products/individual>. Make sure to download the correct version of Anaconda for your operating system and architecture. <!--- Provide details on how to check the architecture -->"
   ]
  },
  {
   "cell_type": "code",
   "execution_count": null,
   "metadata": {},
   "outputs": [],
   "source": []
  },
  {
   "cell_type": "markdown",
   "metadata": {},
   "source": [
    "### Testing if it has installed properly"
   ]
  },
  {
   "cell_type": "markdown",
   "metadata": {},
   "source": [
    "```{tabbed} Linux\n",
    "Open a terminal \n",
    "```\n",
    "\n",
    "```{tabbed} Windows\n",
    "Something something windows\n",
    "```\n",
    "\n",
    "```{tabbed} MacOS\n",
    "Something something mac\n",
    "```"
   ]
  },
  {
   "cell_type": "markdown",
   "metadata": {},
   "source": []
  }
 ],
 "metadata": {
  "kernelspec": {
   "display_name": "Python 3 (ipykernel)",
   "language": "python",
   "name": "python3"
  },
  "language_info": {
   "codemirror_mode": {
    "name": "ipython",
    "version": 3
   },
   "file_extension": ".py",
   "mimetype": "text/x-python",
   "name": "python",
   "nbconvert_exporter": "python",
   "pygments_lexer": "ipython3",
   "version": "3.10.9"
  }
 },
 "nbformat": 4,
 "nbformat_minor": 4
}
