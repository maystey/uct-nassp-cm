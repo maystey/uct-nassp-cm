{
 "cells": [
  {
   "cell_type": "markdown",
   "id": "7d623472",
   "metadata": {},
   "source": [
    "# Linear Regression\n",
    "\n",
    "In linear regression the relationship between a dependent variable and one or more independent variables is modelled by a linear relation, such as:\n",
    "\n",
    "$$\n",
    "y = a_0 + a_1 x_1 + a_2 x_2 + \\dots + a_m x_m\n",
    "$$\n",
    "\n",
    "where $y$ is the dependent variable, the $x_j$ are the independent variables, and the $a_j$ are scalar parameters. Note that it is the linearity of the $a_j$ parameters that is important, any non-linear combination of $x_j$ that do not cause a non-linear combination of $a_j$ can be dealt with by redefining the $x_j$ variables. The $a_j$ parameters are often unkown and need to be determined from paired measurements of the $y$ and $x_j$ variables."
   ]
  },
  {
   "cell_type": "markdown",
   "id": "321800be",
   "metadata": {
    "tags": []
   },
   "source": [
    "## Statistical Notation\n",
    "\n",
    "Going forward we will use some statistical notation to clean up our equations.\n",
    "\n",
    "For a data set of values for a variable $x$, $x_i$ ($i = 1, 2, 3, \\dots, N$):\n",
    "\n",
    "- Expected value of $f(x)$ (which can be considered the average of $f(x)$):\n",
    "\n",
    "    $$\n",
    "    \\langle f(x) \\rangle = \\frac{1}{N} \\sum_{i=1}^{N} f(x_i)\n",
    "    $$\n",
    "\n",
    "- Expected value of $x$ is the mean of the data set:\n",
    "    \n",
    "    $$\n",
    "    \\langle x \\rangle = \\frac{1}{N} \\sum_{i=1}^{N} x_i\n",
    "    $$\n",
    "\n",
    "- Standard deviation (which is an indication of the spread of the data):<!--- Should I be using the experimental standard deviation -->\n",
    "    \n",
    "    $$\n",
    "    \\sigma = \\sqrt{\\frac{\\sum_{i=1}^{N} (x_i - \\langle x \\rangle)^2}{N}}\n",
    "    $$"
   ]
  },
  {
   "cell_type": "code",
   "execution_count": null,
   "id": "963e53ce",
   "metadata": {},
   "outputs": [],
   "source": []
  }
 ],
 "metadata": {
  "kernelspec": {
   "display_name": "Python 3 (ipykernel)",
   "language": "python",
   "name": "python3"
  },
  "language_info": {
   "codemirror_mode": {
    "name": "ipython",
    "version": 3
   },
   "file_extension": ".py",
   "mimetype": "text/x-python",
   "name": "python",
   "nbconvert_exporter": "python",
   "pygments_lexer": "ipython3",
   "version": "3.10.9"
  }
 },
 "nbformat": 4,
 "nbformat_minor": 5
}
