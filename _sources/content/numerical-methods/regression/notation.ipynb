{
 "cells": [
  {
   "cell_type": "markdown",
   "id": "fifteen-champagne",
   "metadata": {},
   "source": [
    "# Statistical Notation\n",
    "\n",
    "Going forward we will use some notation to clean up our equations.\n",
    "\n",
    "For a data set of values for a variable $x$, $x_i$ ($i = 1, 2, 3, \\dots, N$):\n",
    "\n",
    "- Expected value of $f(x)$ (which can be considered the average of $f(x)$):\n",
    "\n",
    "    $$\n",
    "    \\langle f(x) \\rangle = \\frac{1}{N} \\sum_{i=1}^{N} f(x_i)\n",
    "    $$\n",
    "\n",
    "- Expected value of $x$ is the mean of the data set:\n",
    "    \n",
    "    $$\n",
    "    \\langle x \\rangle = \\frac{1}{N} \\sum_{i=1}^{N} x_i\n",
    "    $$\n",
    "\n",
    "- Standard deviation (which is an indication of the spread of the data):<!--- Should I be using the experimental standard deviation -->\n",
    "    \n",
    "    $$\n",
    "    \\sigma = \\sqrt{\\frac{\\sum_{i=1}^{N} (x_i - \\langle x \\rangle)^2}{N}}\n",
    "    $$"
   ]
  },
  {
   "cell_type": "code",
   "execution_count": null,
   "id": "systematic-consumer",
   "metadata": {},
   "outputs": [],
   "source": []
  }
 ],
 "metadata": {
  "kernelspec": {
   "display_name": "Python 3",
   "language": "python",
   "name": "python3"
  },
  "language_info": {
   "codemirror_mode": {
    "name": "ipython",
    "version": 3
   },
   "file_extension": ".py",
   "mimetype": "text/x-python",
   "name": "python",
   "nbconvert_exporter": "python",
   "pygments_lexer": "ipython3",
   "version": "3.9.1"
  }
 },
 "nbformat": 4,
 "nbformat_minor": 5
}
