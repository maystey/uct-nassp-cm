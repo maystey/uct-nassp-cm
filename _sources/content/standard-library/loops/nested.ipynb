{
 "cells": [
  {
   "cell_type": "markdown",
   "metadata": {},
   "source": [
    "# Nested Loops "
   ]
  },
  {
   "cell_type": "markdown",
   "metadata": {},
   "source": [
    "Sometimes it is necessary to nest loops. Loops in Python an be quite slow compared to other programming languages, so unnecessary loops should be avoided.\n",
    "\n",
    "When nesting loops, it's best to think of the inner loop as a block of code. In every iteration of the outer loop, the inner loop will execute, iterating to completion.\n",
    "\n",
    "Consider the pseudo code code example of a while loop nested in another while loop:\n",
    "\n",
    "```python\n",
    "while condition1:\n",
    "    while condition2:\n",
    "        code block\n",
    "```\n",
    "\n",
    "This can be illustrated with the control flow diagram:\n",
    "\n",
    "\n",
    "```{figure} ./figures/while_nested.png\n",
    ":name: fig-while-nested-control-flow\n",
    "\n",
    "Control flow diagram of the nested while loop example above.\n",
    "```"
   ]
  },
  {
   "cell_type": "markdown",
   "metadata": {},
   "source": [
    "Let's take a closer look with a more concrete example. We will nest a for loop inside a for loop and print the iteration variables of each:"
   ]
  },
  {
   "cell_type": "code",
   "execution_count": 2,
   "metadata": {},
   "outputs": [
    {
     "name": "stdout",
     "output_type": "stream",
     "text": [
      "Outer loop iteration: 0\n",
      "    Inner loop iteration: 0\n",
      "    Inner loop iteration: 1\n",
      "    Inner loop iteration: 2\n",
      "    Inner loop iteration: 3\n",
      "Outer loop iteration: 1\n",
      "    Inner loop iteration: 0\n",
      "    Inner loop iteration: 1\n",
      "    Inner loop iteration: 2\n",
      "    Inner loop iteration: 3\n",
      "Outer loop iteration: 2\n",
      "    Inner loop iteration: 0\n",
      "    Inner loop iteration: 1\n",
      "    Inner loop iteration: 2\n",
      "    Inner loop iteration: 3\n"
     ]
    }
   ],
   "source": [
    "for i in range(3):\n",
    "    print('Outer loop iteration:', i)\n",
    "    \n",
    "    for j in range(4):\n",
    "        print('    Inner loop iteration:', j)"
   ]
  },
  {
   "cell_type": "markdown",
   "metadata": {},
   "source": [
    "Note that you are not limited in what you nest inside loops."
   ]
  }
 ],
 "metadata": {
  "kernelspec": {
   "display_name": "Python 3 (ipykernel)",
   "language": "python",
   "name": "python3"
  },
  "language_info": {
   "codemirror_mode": {
    "name": "ipython",
    "version": 3
   },
   "file_extension": ".py",
   "mimetype": "text/x-python",
   "name": "python",
   "nbconvert_exporter": "python",
   "pygments_lexer": "ipython3",
   "version": "3.10.9"
  }
 },
 "nbformat": 4,
 "nbformat_minor": 4
}
