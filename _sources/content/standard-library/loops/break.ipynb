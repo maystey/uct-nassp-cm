{
 "cells": [
  {
   "cell_type": "markdown",
   "metadata": {},
   "source": [
    "# Breaking Out of Loops\n",
    "\n",
    "Sometimes you want to exit a loop before it's finished, or skip the remainder of a loop and move to the next iteration. To do this you can use the `break` and `continue` statements respectively."
   ]
  },
  {
   "cell_type": "markdown",
   "metadata": {},
   "source": [
    "## `break`\n",
    "\n",
    "The `break` statement causes control to exit the loop it is situated in. For example, if we were to put a break directly in the loop's code block:"
   ]
  },
  {
   "cell_type": "code",
   "execution_count": 1,
   "metadata": {},
   "outputs": [
    {
     "name": "stdout",
     "output_type": "stream",
     "text": [
      "0\n"
     ]
    }
   ],
   "source": [
    "for i in range(5):\n",
    "    print(i)\n",
    "    break"
   ]
  },
  {
   "cell_type": "markdown",
   "metadata": {},
   "source": [
    "You can see that only the first loop iteration completed.\n",
    "\n",
    "Let's illustrate this with a pseudo code example:\n",
    "\n",
    "```python\n",
    "while condition1:\n",
    "    code_block_1\n",
    "    \n",
    "    if condition2:\n",
    "        break\n",
    "    \n",
    "    code_block_2\n",
    "```\n",
    "\n",
    "In the example above `condition2` is evaluated as **true** in a loop iteration, then control will exit the loop before executing `code_block_2` for that iteration.\n",
    "\n",
    "Illustrating this using a control flow diagram:\n",
    "\n",
    "```{figure} ./figures/while_break.png\n",
    ":name: fig-while-control-flow-break\n",
    "\n",
    "Control flow diagram of the break example above.\n",
    "```"
   ]
  },
  {
   "cell_type": "markdown",
   "metadata": {},
   "source": [
    "Let's consider a similar script that loops through a sequence of numbers and stops when it reaches `5`:"
   ]
  },
  {
   "cell_type": "code",
   "execution_count": 2,
   "metadata": {},
   "outputs": [
    {
     "name": "stdout",
     "output_type": "stream",
     "text": [
      "0\n",
      "next iteration\n",
      "1\n",
      "next iteration\n",
      "2\n",
      "next iteration\n",
      "3\n",
      "next iteration\n",
      "4\n",
      "next iteration\n",
      "5\n"
     ]
    }
   ],
   "source": [
    "for i in range(10):\n",
    "    print(i)\n",
    "    \n",
    "    if i == 5:\n",
    "        break\n",
    "    \n",
    "    print('next iteration')"
   ]
  },
  {
   "cell_type": "markdown",
   "metadata": {},
   "source": [
    "As you can see in the example above the loop terminated before it finished iterating through `range(10)`. When `i` had a value of `5` the `break` statement was called, exiting from the loop.\n",
    "\n",
    "Note that it doesn't matter that the `break` is nested in an if statement, it will always make control exit the nearest loop that it is nested in."
   ]
  },
  {
   "cell_type": "markdown",
   "metadata": {},
   "source": [
    "The `break` statement exits the first loop that it's nested in. For example, if we had multiple nested loops:"
   ]
  },
  {
   "cell_type": "code",
   "execution_count": 5,
   "metadata": {},
   "outputs": [
    {
     "name": "stdout",
     "output_type": "stream",
     "text": [
      "Loop1 0\n",
      "    Loop2 0\n",
      "    Loop2 1\n",
      "Loop1 1\n",
      "    Loop2 0\n",
      "    Loop2 1\n",
      "Loop1 2\n",
      "    Loop2 0\n",
      "    Loop2 1\n"
     ]
    }
   ],
   "source": [
    "for i in range(3):\n",
    "    print('Loop1', i)\n",
    "    for j in range(3):\n",
    "        print('    Loop2', j)\n",
    "        \n",
    "        if j == 1:\n",
    "            break"
   ]
  },
  {
   "cell_type": "markdown",
   "metadata": {},
   "source": [
    "We can see that the outer loop (Loop1) iterated through all of `range(3)`, while Loop2 terminates before it can reach the last iteration.\n",
    "\n",
    "<!---\n",
    "If we put another loop inside Loop2, the `break` statement would not affect it:\n",
    "-->"
   ]
  },
  {
   "cell_type": "markdown",
   "metadata": {},
   "source": [
    "<!---\n",
    "for i in range(3):\n",
    "    print('Loop1', i)\n",
    "    for j in range(3):\n",
    "        print('    Loop2', j)\n",
    "        \n",
    "        for k in range(3):\n",
    "            print('        Loop3', k)\n",
    "        \n",
    "        if j == 1:\n",
    "            break\n",
    "-->"
   ]
  },
  {
   "cell_type": "markdown",
   "metadata": {},
   "source": [
    "## `continue`\n",
    "\n",
    "If you want to end the current loop iteration, but you don't want to break out of the loop, you can use the `continue` statement."
   ]
  },
  {
   "cell_type": "markdown",
   "metadata": {},
   "source": [
    "Consider the pseudo code example:\n",
    "\n",
    "```python\n",
    "while condition1:\n",
    "    code_block_1\n",
    "    \n",
    "    if condition2:\n",
    "        continue\n",
    "       \n",
    "    code_block_2\n",
    "```\n",
    "\n",
    "Here if `condition2` is found to be **true** in a loop iteration, the `continue` statement will cause control to move directly to the next loop iteration, skipping `code_block_2` for that iteration.\n",
    "\n",
    "Illustrating this example in a control flow diagram:\n",
    "\n",
    "```{figure} ./figures/while_continue.png\n",
    ":name: fig-while-control-flow-continue\n",
    "\n",
    "Control flow diagram of the continue example above.\n",
    "```"
   ]
  },
  {
   "cell_type": "markdown",
   "metadata": {},
   "source": [
    "Let's look at real code example:"
   ]
  },
  {
   "cell_type": "code",
   "execution_count": 9,
   "metadata": {},
   "outputs": [
    {
     "name": "stdout",
     "output_type": "stream",
     "text": [
      "0\n",
      "1\n",
      "2\n",
      "3\n",
      "4\n",
      "6\n",
      "7\n",
      "8\n",
      "9\n"
     ]
    }
   ],
   "source": [
    "for i in range(10):\n",
    "    if i == 5:\n",
    "        continue\n",
    "    print(i)"
   ]
  },
  {
   "cell_type": "markdown",
   "metadata": {},
   "source": [
    "As you can see in the example above, `5` is not printed as the `continue` statement has caused control to 'skip' the print statement."
   ]
  }
 ],
 "metadata": {
  "kernelspec": {
   "display_name": "Python 3 (ipykernel)",
   "language": "python",
   "name": "python3"
  },
  "language_info": {
   "codemirror_mode": {
    "name": "ipython",
    "version": 3
   },
   "file_extension": ".py",
   "mimetype": "text/x-python",
   "name": "python",
   "nbconvert_exporter": "python",
   "pygments_lexer": "ipython3",
   "version": "3.10.9"
  }
 },
 "nbformat": 4,
 "nbformat_minor": 4
}
